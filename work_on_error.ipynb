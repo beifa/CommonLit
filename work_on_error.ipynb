{
  "nbformat": 4,
  "nbformat_minor": 0,
  "metadata": {
    "colab": {
      "name": "work_on_error.ipynb",
      "provenance": [],
      "collapsed_sections": [
        "efA57ChrZV1l",
        "c1duDCflrZOe",
        "pPjkf0eixStb"
      ],
      "mount_file_id": "1Mkusuxvxk7LrYXbpX_GBImtIi0n2BqCC",
      "authorship_tag": "ABX9TyMlsj5WbY3N3sOoCnYygRBQ"
    },
    "kernelspec": {
      "display_name": "Python 3",
      "name": "python3"
    },
    "language_info": {
      "name": "python"
    },
    "widgets": {
      "application/vnd.jupyter.widget-state+json": {
        "07e53713c3e448979e35c5f2aa45d646": {
          "model_module": "@jupyter-widgets/controls",
          "model_name": "HBoxModel",
          "model_module_version": "1.5.0",
          "state": {
            "_view_name": "HBoxView",
            "_dom_classes": [],
            "_model_name": "HBoxModel",
            "_view_module": "@jupyter-widgets/controls",
            "_model_module_version": "1.5.0",
            "_view_count": null,
            "_view_module_version": "1.5.0",
            "box_style": "",
            "layout": "IPY_MODEL_72d57a3099a4417da8fdbca3b1142063",
            "_model_module": "@jupyter-widgets/controls",
            "children": [
              "IPY_MODEL_a4812d0d0bd64fbf8abeb11c899eb4b1",
              "IPY_MODEL_3b69c1794b0e41ce9afe332019fe8f2c",
              "IPY_MODEL_4967d2581eea464da4ec4a2456ecf653"
            ]
          }
        },
        "72d57a3099a4417da8fdbca3b1142063": {
          "model_module": "@jupyter-widgets/base",
          "model_name": "LayoutModel",
          "model_module_version": "1.2.0",
          "state": {
            "_view_name": "LayoutView",
            "grid_template_rows": null,
            "right": null,
            "justify_content": null,
            "_view_module": "@jupyter-widgets/base",
            "overflow": null,
            "_model_module_version": "1.2.0",
            "_view_count": null,
            "flex_flow": null,
            "width": null,
            "min_width": null,
            "border": null,
            "align_items": null,
            "bottom": null,
            "_model_module": "@jupyter-widgets/base",
            "top": null,
            "grid_column": null,
            "overflow_y": null,
            "overflow_x": null,
            "grid_auto_flow": null,
            "grid_area": null,
            "grid_template_columns": null,
            "flex": null,
            "_model_name": "LayoutModel",
            "justify_items": null,
            "grid_row": null,
            "max_height": null,
            "align_content": null,
            "visibility": null,
            "align_self": null,
            "height": null,
            "min_height": null,
            "padding": null,
            "grid_auto_rows": null,
            "grid_gap": null,
            "max_width": null,
            "order": null,
            "_view_module_version": "1.2.0",
            "grid_template_areas": null,
            "object_position": null,
            "object_fit": null,
            "grid_auto_columns": null,
            "margin": null,
            "display": null,
            "left": null
          }
        },
        "a4812d0d0bd64fbf8abeb11c899eb4b1": {
          "model_module": "@jupyter-widgets/controls",
          "model_name": "HTMLModel",
          "model_module_version": "1.5.0",
          "state": {
            "_view_name": "HTMLView",
            "style": "IPY_MODEL_f421e76538cd467c9501ee788bf44950",
            "_dom_classes": [],
            "description": "",
            "_model_name": "HTMLModel",
            "placeholder": "​",
            "_view_module": "@jupyter-widgets/controls",
            "_model_module_version": "1.5.0",
            "value": "Downloading: 100%",
            "_view_count": null,
            "_view_module_version": "1.5.0",
            "description_tooltip": null,
            "_model_module": "@jupyter-widgets/controls",
            "layout": "IPY_MODEL_0b7825a7a39a44b4b2f6e9ff6ae95135"
          }
        },
        "3b69c1794b0e41ce9afe332019fe8f2c": {
          "model_module": "@jupyter-widgets/controls",
          "model_name": "FloatProgressModel",
          "model_module_version": "1.5.0",
          "state": {
            "_view_name": "ProgressView",
            "style": "IPY_MODEL_4719500ba5144f969d96a4d10724db39",
            "_dom_classes": [],
            "description": "",
            "_model_name": "FloatProgressModel",
            "bar_style": "success",
            "max": 1154,
            "_view_module": "@jupyter-widgets/controls",
            "_model_module_version": "1.5.0",
            "value": 1154,
            "_view_count": null,
            "_view_module_version": "1.5.0",
            "orientation": "horizontal",
            "min": 0,
            "description_tooltip": null,
            "_model_module": "@jupyter-widgets/controls",
            "layout": "IPY_MODEL_9c756ec77d9a4c6c88b03436d117eb2f"
          }
        },
        "4967d2581eea464da4ec4a2456ecf653": {
          "model_module": "@jupyter-widgets/controls",
          "model_name": "HTMLModel",
          "model_module_version": "1.5.0",
          "state": {
            "_view_name": "HTMLView",
            "style": "IPY_MODEL_719d1388f66e4a63a737f3ba6127f265",
            "_dom_classes": [],
            "description": "",
            "_model_name": "HTMLModel",
            "placeholder": "​",
            "_view_module": "@jupyter-widgets/controls",
            "_model_module_version": "1.5.0",
            "value": " 1.15k/1.15k [00:00&lt;00:00, 25.0kB/s]",
            "_view_count": null,
            "_view_module_version": "1.5.0",
            "description_tooltip": null,
            "_model_module": "@jupyter-widgets/controls",
            "layout": "IPY_MODEL_0278307e1db34b29b6ce571a90bdd064"
          }
        },
        "f421e76538cd467c9501ee788bf44950": {
          "model_module": "@jupyter-widgets/controls",
          "model_name": "DescriptionStyleModel",
          "model_module_version": "1.5.0",
          "state": {
            "_view_name": "StyleView",
            "_model_name": "DescriptionStyleModel",
            "description_width": "",
            "_view_module": "@jupyter-widgets/base",
            "_model_module_version": "1.5.0",
            "_view_count": null,
            "_view_module_version": "1.2.0",
            "_model_module": "@jupyter-widgets/controls"
          }
        },
        "0b7825a7a39a44b4b2f6e9ff6ae95135": {
          "model_module": "@jupyter-widgets/base",
          "model_name": "LayoutModel",
          "model_module_version": "1.2.0",
          "state": {
            "_view_name": "LayoutView",
            "grid_template_rows": null,
            "right": null,
            "justify_content": null,
            "_view_module": "@jupyter-widgets/base",
            "overflow": null,
            "_model_module_version": "1.2.0",
            "_view_count": null,
            "flex_flow": null,
            "width": null,
            "min_width": null,
            "border": null,
            "align_items": null,
            "bottom": null,
            "_model_module": "@jupyter-widgets/base",
            "top": null,
            "grid_column": null,
            "overflow_y": null,
            "overflow_x": null,
            "grid_auto_flow": null,
            "grid_area": null,
            "grid_template_columns": null,
            "flex": null,
            "_model_name": "LayoutModel",
            "justify_items": null,
            "grid_row": null,
            "max_height": null,
            "align_content": null,
            "visibility": null,
            "align_self": null,
            "height": null,
            "min_height": null,
            "padding": null,
            "grid_auto_rows": null,
            "grid_gap": null,
            "max_width": null,
            "order": null,
            "_view_module_version": "1.2.0",
            "grid_template_areas": null,
            "object_position": null,
            "object_fit": null,
            "grid_auto_columns": null,
            "margin": null,
            "display": null,
            "left": null
          }
        },
        "4719500ba5144f969d96a4d10724db39": {
          "model_module": "@jupyter-widgets/controls",
          "model_name": "ProgressStyleModel",
          "model_module_version": "1.5.0",
          "state": {
            "_view_name": "StyleView",
            "_model_name": "ProgressStyleModel",
            "description_width": "",
            "_view_module": "@jupyter-widgets/base",
            "_model_module_version": "1.5.0",
            "_view_count": null,
            "_view_module_version": "1.2.0",
            "bar_color": null,
            "_model_module": "@jupyter-widgets/controls"
          }
        },
        "9c756ec77d9a4c6c88b03436d117eb2f": {
          "model_module": "@jupyter-widgets/base",
          "model_name": "LayoutModel",
          "model_module_version": "1.2.0",
          "state": {
            "_view_name": "LayoutView",
            "grid_template_rows": null,
            "right": null,
            "justify_content": null,
            "_view_module": "@jupyter-widgets/base",
            "overflow": null,
            "_model_module_version": "1.2.0",
            "_view_count": null,
            "flex_flow": null,
            "width": null,
            "min_width": null,
            "border": null,
            "align_items": null,
            "bottom": null,
            "_model_module": "@jupyter-widgets/base",
            "top": null,
            "grid_column": null,
            "overflow_y": null,
            "overflow_x": null,
            "grid_auto_flow": null,
            "grid_area": null,
            "grid_template_columns": null,
            "flex": null,
            "_model_name": "LayoutModel",
            "justify_items": null,
            "grid_row": null,
            "max_height": null,
            "align_content": null,
            "visibility": null,
            "align_self": null,
            "height": null,
            "min_height": null,
            "padding": null,
            "grid_auto_rows": null,
            "grid_gap": null,
            "max_width": null,
            "order": null,
            "_view_module_version": "1.2.0",
            "grid_template_areas": null,
            "object_position": null,
            "object_fit": null,
            "grid_auto_columns": null,
            "margin": null,
            "display": null,
            "left": null
          }
        },
        "719d1388f66e4a63a737f3ba6127f265": {
          "model_module": "@jupyter-widgets/controls",
          "model_name": "DescriptionStyleModel",
          "model_module_version": "1.5.0",
          "state": {
            "_view_name": "StyleView",
            "_model_name": "DescriptionStyleModel",
            "description_width": "",
            "_view_module": "@jupyter-widgets/base",
            "_model_module_version": "1.5.0",
            "_view_count": null,
            "_view_module_version": "1.2.0",
            "_model_module": "@jupyter-widgets/controls"
          }
        },
        "0278307e1db34b29b6ce571a90bdd064": {
          "model_module": "@jupyter-widgets/base",
          "model_name": "LayoutModel",
          "model_module_version": "1.2.0",
          "state": {
            "_view_name": "LayoutView",
            "grid_template_rows": null,
            "right": null,
            "justify_content": null,
            "_view_module": "@jupyter-widgets/base",
            "overflow": null,
            "_model_module_version": "1.2.0",
            "_view_count": null,
            "flex_flow": null,
            "width": null,
            "min_width": null,
            "border": null,
            "align_items": null,
            "bottom": null,
            "_model_module": "@jupyter-widgets/base",
            "top": null,
            "grid_column": null,
            "overflow_y": null,
            "overflow_x": null,
            "grid_auto_flow": null,
            "grid_area": null,
            "grid_template_columns": null,
            "flex": null,
            "_model_name": "LayoutModel",
            "justify_items": null,
            "grid_row": null,
            "max_height": null,
            "align_content": null,
            "visibility": null,
            "align_self": null,
            "height": null,
            "min_height": null,
            "padding": null,
            "grid_auto_rows": null,
            "grid_gap": null,
            "max_width": null,
            "order": null,
            "_view_module_version": "1.2.0",
            "grid_template_areas": null,
            "object_position": null,
            "object_fit": null,
            "grid_auto_columns": null,
            "margin": null,
            "display": null,
            "left": null
          }
        },
        "bbf6b5318df74fe6b28f1086b43890ff": {
          "model_module": "@jupyter-widgets/controls",
          "model_name": "HBoxModel",
          "model_module_version": "1.5.0",
          "state": {
            "_view_name": "HBoxView",
            "_dom_classes": [],
            "_model_name": "HBoxModel",
            "_view_module": "@jupyter-widgets/controls",
            "_model_module_version": "1.5.0",
            "_view_count": null,
            "_view_module_version": "1.5.0",
            "box_style": "",
            "layout": "IPY_MODEL_f1226108a3e44cdb84ca2137478d353b",
            "_model_module": "@jupyter-widgets/controls",
            "children": [
              "IPY_MODEL_d8e8f93ff3964a0b888fec8e003af426",
              "IPY_MODEL_1aa511038feb4465a9624c8d855e5602",
              "IPY_MODEL_9ea3c937c01e492b9b20a1294757c414"
            ]
          }
        },
        "f1226108a3e44cdb84ca2137478d353b": {
          "model_module": "@jupyter-widgets/base",
          "model_name": "LayoutModel",
          "model_module_version": "1.2.0",
          "state": {
            "_view_name": "LayoutView",
            "grid_template_rows": null,
            "right": null,
            "justify_content": null,
            "_view_module": "@jupyter-widgets/base",
            "overflow": null,
            "_model_module_version": "1.2.0",
            "_view_count": null,
            "flex_flow": null,
            "width": null,
            "min_width": null,
            "border": null,
            "align_items": null,
            "bottom": null,
            "_model_module": "@jupyter-widgets/base",
            "top": null,
            "grid_column": null,
            "overflow_y": null,
            "overflow_x": null,
            "grid_auto_flow": null,
            "grid_area": null,
            "grid_template_columns": null,
            "flex": null,
            "_model_name": "LayoutModel",
            "justify_items": null,
            "grid_row": null,
            "max_height": null,
            "align_content": null,
            "visibility": null,
            "align_self": null,
            "height": null,
            "min_height": null,
            "padding": null,
            "grid_auto_rows": null,
            "grid_gap": null,
            "max_width": null,
            "order": null,
            "_view_module_version": "1.2.0",
            "grid_template_areas": null,
            "object_position": null,
            "object_fit": null,
            "grid_auto_columns": null,
            "margin": null,
            "display": null,
            "left": null
          }
        },
        "d8e8f93ff3964a0b888fec8e003af426": {
          "model_module": "@jupyter-widgets/controls",
          "model_name": "HTMLModel",
          "model_module_version": "1.5.0",
          "state": {
            "_view_name": "HTMLView",
            "style": "IPY_MODEL_ad1afe53b2524c02b26724d3ae62f851",
            "_dom_classes": [],
            "description": "",
            "_model_name": "HTMLModel",
            "placeholder": "​",
            "_view_module": "@jupyter-widgets/controls",
            "_model_module_version": "1.5.0",
            "value": "Downloading: 100%",
            "_view_count": null,
            "_view_module_version": "1.5.0",
            "description_tooltip": null,
            "_model_module": "@jupyter-widgets/controls",
            "layout": "IPY_MODEL_7944c86e46524f8cb9cd5e9cc858df9a"
          }
        },
        "1aa511038feb4465a9624c8d855e5602": {
          "model_module": "@jupyter-widgets/controls",
          "model_name": "FloatProgressModel",
          "model_module_version": "1.5.0",
          "state": {
            "_view_name": "ProgressView",
            "style": "IPY_MODEL_b2f1e8e5c6bf4bf1a2a319ae7105935d",
            "_dom_classes": [],
            "description": "",
            "_model_name": "FloatProgressModel",
            "bar_style": "success",
            "max": 1629486723,
            "_view_module": "@jupyter-widgets/controls",
            "_model_module_version": "1.5.0",
            "value": 1629486723,
            "_view_count": null,
            "_view_module_version": "1.5.0",
            "orientation": "horizontal",
            "min": 0,
            "description_tooltip": null,
            "_model_module": "@jupyter-widgets/controls",
            "layout": "IPY_MODEL_72e66ba44d1f493aaba24b6c105a0471"
          }
        },
        "9ea3c937c01e492b9b20a1294757c414": {
          "model_module": "@jupyter-widgets/controls",
          "model_name": "HTMLModel",
          "model_module_version": "1.5.0",
          "state": {
            "_view_name": "HTMLView",
            "style": "IPY_MODEL_10895ba0d25549eca2fa3a46f87884a7",
            "_dom_classes": [],
            "description": "",
            "_model_name": "HTMLModel",
            "placeholder": "​",
            "_view_module": "@jupyter-widgets/controls",
            "_model_module_version": "1.5.0",
            "value": " 1.63G/1.63G [00:39&lt;00:00, 43.5MB/s]",
            "_view_count": null,
            "_view_module_version": "1.5.0",
            "description_tooltip": null,
            "_model_module": "@jupyter-widgets/controls",
            "layout": "IPY_MODEL_dacb6486e71f44a49996c7f0b7e3d541"
          }
        },
        "ad1afe53b2524c02b26724d3ae62f851": {
          "model_module": "@jupyter-widgets/controls",
          "model_name": "DescriptionStyleModel",
          "model_module_version": "1.5.0",
          "state": {
            "_view_name": "StyleView",
            "_model_name": "DescriptionStyleModel",
            "description_width": "",
            "_view_module": "@jupyter-widgets/base",
            "_model_module_version": "1.5.0",
            "_view_count": null,
            "_view_module_version": "1.2.0",
            "_model_module": "@jupyter-widgets/controls"
          }
        },
        "7944c86e46524f8cb9cd5e9cc858df9a": {
          "model_module": "@jupyter-widgets/base",
          "model_name": "LayoutModel",
          "model_module_version": "1.2.0",
          "state": {
            "_view_name": "LayoutView",
            "grid_template_rows": null,
            "right": null,
            "justify_content": null,
            "_view_module": "@jupyter-widgets/base",
            "overflow": null,
            "_model_module_version": "1.2.0",
            "_view_count": null,
            "flex_flow": null,
            "width": null,
            "min_width": null,
            "border": null,
            "align_items": null,
            "bottom": null,
            "_model_module": "@jupyter-widgets/base",
            "top": null,
            "grid_column": null,
            "overflow_y": null,
            "overflow_x": null,
            "grid_auto_flow": null,
            "grid_area": null,
            "grid_template_columns": null,
            "flex": null,
            "_model_name": "LayoutModel",
            "justify_items": null,
            "grid_row": null,
            "max_height": null,
            "align_content": null,
            "visibility": null,
            "align_self": null,
            "height": null,
            "min_height": null,
            "padding": null,
            "grid_auto_rows": null,
            "grid_gap": null,
            "max_width": null,
            "order": null,
            "_view_module_version": "1.2.0",
            "grid_template_areas": null,
            "object_position": null,
            "object_fit": null,
            "grid_auto_columns": null,
            "margin": null,
            "display": null,
            "left": null
          }
        },
        "b2f1e8e5c6bf4bf1a2a319ae7105935d": {
          "model_module": "@jupyter-widgets/controls",
          "model_name": "ProgressStyleModel",
          "model_module_version": "1.5.0",
          "state": {
            "_view_name": "StyleView",
            "_model_name": "ProgressStyleModel",
            "description_width": "",
            "_view_module": "@jupyter-widgets/base",
            "_model_module_version": "1.5.0",
            "_view_count": null,
            "_view_module_version": "1.2.0",
            "bar_color": null,
            "_model_module": "@jupyter-widgets/controls"
          }
        },
        "72e66ba44d1f493aaba24b6c105a0471": {
          "model_module": "@jupyter-widgets/base",
          "model_name": "LayoutModel",
          "model_module_version": "1.2.0",
          "state": {
            "_view_name": "LayoutView",
            "grid_template_rows": null,
            "right": null,
            "justify_content": null,
            "_view_module": "@jupyter-widgets/base",
            "overflow": null,
            "_model_module_version": "1.2.0",
            "_view_count": null,
            "flex_flow": null,
            "width": null,
            "min_width": null,
            "border": null,
            "align_items": null,
            "bottom": null,
            "_model_module": "@jupyter-widgets/base",
            "top": null,
            "grid_column": null,
            "overflow_y": null,
            "overflow_x": null,
            "grid_auto_flow": null,
            "grid_area": null,
            "grid_template_columns": null,
            "flex": null,
            "_model_name": "LayoutModel",
            "justify_items": null,
            "grid_row": null,
            "max_height": null,
            "align_content": null,
            "visibility": null,
            "align_self": null,
            "height": null,
            "min_height": null,
            "padding": null,
            "grid_auto_rows": null,
            "grid_gap": null,
            "max_width": null,
            "order": null,
            "_view_module_version": "1.2.0",
            "grid_template_areas": null,
            "object_position": null,
            "object_fit": null,
            "grid_auto_columns": null,
            "margin": null,
            "display": null,
            "left": null
          }
        },
        "10895ba0d25549eca2fa3a46f87884a7": {
          "model_module": "@jupyter-widgets/controls",
          "model_name": "DescriptionStyleModel",
          "model_module_version": "1.5.0",
          "state": {
            "_view_name": "StyleView",
            "_model_name": "DescriptionStyleModel",
            "description_width": "",
            "_view_module": "@jupyter-widgets/base",
            "_model_module_version": "1.5.0",
            "_view_count": null,
            "_view_module_version": "1.2.0",
            "_model_module": "@jupyter-widgets/controls"
          }
        },
        "dacb6486e71f44a49996c7f0b7e3d541": {
          "model_module": "@jupyter-widgets/base",
          "model_name": "LayoutModel",
          "model_module_version": "1.2.0",
          "state": {
            "_view_name": "LayoutView",
            "grid_template_rows": null,
            "right": null,
            "justify_content": null,
            "_view_module": "@jupyter-widgets/base",
            "overflow": null,
            "_model_module_version": "1.2.0",
            "_view_count": null,
            "flex_flow": null,
            "width": null,
            "min_width": null,
            "border": null,
            "align_items": null,
            "bottom": null,
            "_model_module": "@jupyter-widgets/base",
            "top": null,
            "grid_column": null,
            "overflow_y": null,
            "overflow_x": null,
            "grid_auto_flow": null,
            "grid_area": null,
            "grid_template_columns": null,
            "flex": null,
            "_model_name": "LayoutModel",
            "justify_items": null,
            "grid_row": null,
            "max_height": null,
            "align_content": null,
            "visibility": null,
            "align_self": null,
            "height": null,
            "min_height": null,
            "padding": null,
            "grid_auto_rows": null,
            "grid_gap": null,
            "max_width": null,
            "order": null,
            "_view_module_version": "1.2.0",
            "grid_template_areas": null,
            "object_position": null,
            "object_fit": null,
            "grid_auto_columns": null,
            "margin": null,
            "display": null,
            "left": null
          }
        },
        "9696febdf61e46baa43c83d9417c67dc": {
          "model_module": "@jupyter-widgets/controls",
          "model_name": "HBoxModel",
          "model_module_version": "1.5.0",
          "state": {
            "_view_name": "HBoxView",
            "_dom_classes": [],
            "_model_name": "HBoxModel",
            "_view_module": "@jupyter-widgets/controls",
            "_model_module_version": "1.5.0",
            "_view_count": null,
            "_view_module_version": "1.5.0",
            "box_style": "",
            "layout": "IPY_MODEL_9f9f8ee71bc14c55b7a2fc28080080eb",
            "_model_module": "@jupyter-widgets/controls",
            "children": [
              "IPY_MODEL_92d036afb4e34e5c85e1e9b32e5cf93b",
              "IPY_MODEL_3a232f048ad84f5e87adbacc9f4e0104",
              "IPY_MODEL_32f37f17098d442a95d946f299072cc1"
            ]
          }
        },
        "9f9f8ee71bc14c55b7a2fc28080080eb": {
          "model_module": "@jupyter-widgets/base",
          "model_name": "LayoutModel",
          "model_module_version": "1.2.0",
          "state": {
            "_view_name": "LayoutView",
            "grid_template_rows": null,
            "right": null,
            "justify_content": null,
            "_view_module": "@jupyter-widgets/base",
            "overflow": null,
            "_model_module_version": "1.2.0",
            "_view_count": null,
            "flex_flow": null,
            "width": null,
            "min_width": null,
            "border": null,
            "align_items": null,
            "bottom": null,
            "_model_module": "@jupyter-widgets/base",
            "top": null,
            "grid_column": null,
            "overflow_y": null,
            "overflow_x": null,
            "grid_auto_flow": null,
            "grid_area": null,
            "grid_template_columns": null,
            "flex": null,
            "_model_name": "LayoutModel",
            "justify_items": null,
            "grid_row": null,
            "max_height": null,
            "align_content": null,
            "visibility": null,
            "align_self": null,
            "height": null,
            "min_height": null,
            "padding": null,
            "grid_auto_rows": null,
            "grid_gap": null,
            "max_width": null,
            "order": null,
            "_view_module_version": "1.2.0",
            "grid_template_areas": null,
            "object_position": null,
            "object_fit": null,
            "grid_auto_columns": null,
            "margin": null,
            "display": null,
            "left": null
          }
        },
        "92d036afb4e34e5c85e1e9b32e5cf93b": {
          "model_module": "@jupyter-widgets/controls",
          "model_name": "HTMLModel",
          "model_module_version": "1.5.0",
          "state": {
            "_view_name": "HTMLView",
            "style": "IPY_MODEL_2995a7eecc1349ad93c2203cf129105b",
            "_dom_classes": [],
            "description": "",
            "_model_name": "HTMLModel",
            "placeholder": "​",
            "_view_module": "@jupyter-widgets/controls",
            "_model_module_version": "1.5.0",
            "value": "Downloading: 100%",
            "_view_count": null,
            "_view_module_version": "1.5.0",
            "description_tooltip": null,
            "_model_module": "@jupyter-widgets/controls",
            "layout": "IPY_MODEL_d47eea684edf46c3949140a9bb383f61"
          }
        },
        "3a232f048ad84f5e87adbacc9f4e0104": {
          "model_module": "@jupyter-widgets/controls",
          "model_name": "FloatProgressModel",
          "model_module_version": "1.5.0",
          "state": {
            "_view_name": "ProgressView",
            "style": "IPY_MODEL_cdd74869179c445b9c47c36af5d231bf",
            "_dom_classes": [],
            "description": "",
            "_model_name": "FloatProgressModel",
            "bar_style": "success",
            "max": 26,
            "_view_module": "@jupyter-widgets/controls",
            "_model_module_version": "1.5.0",
            "value": 26,
            "_view_count": null,
            "_view_module_version": "1.5.0",
            "orientation": "horizontal",
            "min": 0,
            "description_tooltip": null,
            "_model_module": "@jupyter-widgets/controls",
            "layout": "IPY_MODEL_20e2e45177fd446a9aa444ce3598cd88"
          }
        },
        "32f37f17098d442a95d946f299072cc1": {
          "model_module": "@jupyter-widgets/controls",
          "model_name": "HTMLModel",
          "model_module_version": "1.5.0",
          "state": {
            "_view_name": "HTMLView",
            "style": "IPY_MODEL_dcb61d0a34854a198a20d2d93ef01ded",
            "_dom_classes": [],
            "description": "",
            "_model_name": "HTMLModel",
            "placeholder": "​",
            "_view_module": "@jupyter-widgets/controls",
            "_model_module_version": "1.5.0",
            "value": " 26.0/26.0 [00:00&lt;00:00, 661B/s]",
            "_view_count": null,
            "_view_module_version": "1.5.0",
            "description_tooltip": null,
            "_model_module": "@jupyter-widgets/controls",
            "layout": "IPY_MODEL_f41abb1d628a47649f916b9ec56b14d1"
          }
        },
        "2995a7eecc1349ad93c2203cf129105b": {
          "model_module": "@jupyter-widgets/controls",
          "model_name": "DescriptionStyleModel",
          "model_module_version": "1.5.0",
          "state": {
            "_view_name": "StyleView",
            "_model_name": "DescriptionStyleModel",
            "description_width": "",
            "_view_module": "@jupyter-widgets/base",
            "_model_module_version": "1.5.0",
            "_view_count": null,
            "_view_module_version": "1.2.0",
            "_model_module": "@jupyter-widgets/controls"
          }
        },
        "d47eea684edf46c3949140a9bb383f61": {
          "model_module": "@jupyter-widgets/base",
          "model_name": "LayoutModel",
          "model_module_version": "1.2.0",
          "state": {
            "_view_name": "LayoutView",
            "grid_template_rows": null,
            "right": null,
            "justify_content": null,
            "_view_module": "@jupyter-widgets/base",
            "overflow": null,
            "_model_module_version": "1.2.0",
            "_view_count": null,
            "flex_flow": null,
            "width": null,
            "min_width": null,
            "border": null,
            "align_items": null,
            "bottom": null,
            "_model_module": "@jupyter-widgets/base",
            "top": null,
            "grid_column": null,
            "overflow_y": null,
            "overflow_x": null,
            "grid_auto_flow": null,
            "grid_area": null,
            "grid_template_columns": null,
            "flex": null,
            "_model_name": "LayoutModel",
            "justify_items": null,
            "grid_row": null,
            "max_height": null,
            "align_content": null,
            "visibility": null,
            "align_self": null,
            "height": null,
            "min_height": null,
            "padding": null,
            "grid_auto_rows": null,
            "grid_gap": null,
            "max_width": null,
            "order": null,
            "_view_module_version": "1.2.0",
            "grid_template_areas": null,
            "object_position": null,
            "object_fit": null,
            "grid_auto_columns": null,
            "margin": null,
            "display": null,
            "left": null
          }
        },
        "cdd74869179c445b9c47c36af5d231bf": {
          "model_module": "@jupyter-widgets/controls",
          "model_name": "ProgressStyleModel",
          "model_module_version": "1.5.0",
          "state": {
            "_view_name": "StyleView",
            "_model_name": "ProgressStyleModel",
            "description_width": "",
            "_view_module": "@jupyter-widgets/base",
            "_model_module_version": "1.5.0",
            "_view_count": null,
            "_view_module_version": "1.2.0",
            "bar_color": null,
            "_model_module": "@jupyter-widgets/controls"
          }
        },
        "20e2e45177fd446a9aa444ce3598cd88": {
          "model_module": "@jupyter-widgets/base",
          "model_name": "LayoutModel",
          "model_module_version": "1.2.0",
          "state": {
            "_view_name": "LayoutView",
            "grid_template_rows": null,
            "right": null,
            "justify_content": null,
            "_view_module": "@jupyter-widgets/base",
            "overflow": null,
            "_model_module_version": "1.2.0",
            "_view_count": null,
            "flex_flow": null,
            "width": null,
            "min_width": null,
            "border": null,
            "align_items": null,
            "bottom": null,
            "_model_module": "@jupyter-widgets/base",
            "top": null,
            "grid_column": null,
            "overflow_y": null,
            "overflow_x": null,
            "grid_auto_flow": null,
            "grid_area": null,
            "grid_template_columns": null,
            "flex": null,
            "_model_name": "LayoutModel",
            "justify_items": null,
            "grid_row": null,
            "max_height": null,
            "align_content": null,
            "visibility": null,
            "align_self": null,
            "height": null,
            "min_height": null,
            "padding": null,
            "grid_auto_rows": null,
            "grid_gap": null,
            "max_width": null,
            "order": null,
            "_view_module_version": "1.2.0",
            "grid_template_areas": null,
            "object_position": null,
            "object_fit": null,
            "grid_auto_columns": null,
            "margin": null,
            "display": null,
            "left": null
          }
        },
        "dcb61d0a34854a198a20d2d93ef01ded": {
          "model_module": "@jupyter-widgets/controls",
          "model_name": "DescriptionStyleModel",
          "model_module_version": "1.5.0",
          "state": {
            "_view_name": "StyleView",
            "_model_name": "DescriptionStyleModel",
            "description_width": "",
            "_view_module": "@jupyter-widgets/base",
            "_model_module_version": "1.5.0",
            "_view_count": null,
            "_view_module_version": "1.2.0",
            "_model_module": "@jupyter-widgets/controls"
          }
        },
        "f41abb1d628a47649f916b9ec56b14d1": {
          "model_module": "@jupyter-widgets/base",
          "model_name": "LayoutModel",
          "model_module_version": "1.2.0",
          "state": {
            "_view_name": "LayoutView",
            "grid_template_rows": null,
            "right": null,
            "justify_content": null,
            "_view_module": "@jupyter-widgets/base",
            "overflow": null,
            "_model_module_version": "1.2.0",
            "_view_count": null,
            "flex_flow": null,
            "width": null,
            "min_width": null,
            "border": null,
            "align_items": null,
            "bottom": null,
            "_model_module": "@jupyter-widgets/base",
            "top": null,
            "grid_column": null,
            "overflow_y": null,
            "overflow_x": null,
            "grid_auto_flow": null,
            "grid_area": null,
            "grid_template_columns": null,
            "flex": null,
            "_model_name": "LayoutModel",
            "justify_items": null,
            "grid_row": null,
            "max_height": null,
            "align_content": null,
            "visibility": null,
            "align_self": null,
            "height": null,
            "min_height": null,
            "padding": null,
            "grid_auto_rows": null,
            "grid_gap": null,
            "max_width": null,
            "order": null,
            "_view_module_version": "1.2.0",
            "grid_template_areas": null,
            "object_position": null,
            "object_fit": null,
            "grid_auto_columns": null,
            "margin": null,
            "display": null,
            "left": null
          }
        },
        "83a9280df1954f0cbc185a1b9347cc02": {
          "model_module": "@jupyter-widgets/controls",
          "model_name": "HBoxModel",
          "model_module_version": "1.5.0",
          "state": {
            "_view_name": "HBoxView",
            "_dom_classes": [],
            "_model_name": "HBoxModel",
            "_view_module": "@jupyter-widgets/controls",
            "_model_module_version": "1.5.0",
            "_view_count": null,
            "_view_module_version": "1.5.0",
            "box_style": "",
            "layout": "IPY_MODEL_ebff85d80f1a4e4e82f6e3e988d4183f",
            "_model_module": "@jupyter-widgets/controls",
            "children": [
              "IPY_MODEL_ff4236392001448684faf7c544b6f3f8",
              "IPY_MODEL_6cfe1a4270b14680871e428c4fa34b8d",
              "IPY_MODEL_09e99fad5dae46a49ea1cdf804178f77"
            ]
          }
        },
        "ebff85d80f1a4e4e82f6e3e988d4183f": {
          "model_module": "@jupyter-widgets/base",
          "model_name": "LayoutModel",
          "model_module_version": "1.2.0",
          "state": {
            "_view_name": "LayoutView",
            "grid_template_rows": null,
            "right": null,
            "justify_content": null,
            "_view_module": "@jupyter-widgets/base",
            "overflow": null,
            "_model_module_version": "1.2.0",
            "_view_count": null,
            "flex_flow": null,
            "width": null,
            "min_width": null,
            "border": null,
            "align_items": null,
            "bottom": null,
            "_model_module": "@jupyter-widgets/base",
            "top": null,
            "grid_column": null,
            "overflow_y": null,
            "overflow_x": null,
            "grid_auto_flow": null,
            "grid_area": null,
            "grid_template_columns": null,
            "flex": null,
            "_model_name": "LayoutModel",
            "justify_items": null,
            "grid_row": null,
            "max_height": null,
            "align_content": null,
            "visibility": null,
            "align_self": null,
            "height": null,
            "min_height": null,
            "padding": null,
            "grid_auto_rows": null,
            "grid_gap": null,
            "max_width": null,
            "order": null,
            "_view_module_version": "1.2.0",
            "grid_template_areas": null,
            "object_position": null,
            "object_fit": null,
            "grid_auto_columns": null,
            "margin": null,
            "display": null,
            "left": null
          }
        },
        "ff4236392001448684faf7c544b6f3f8": {
          "model_module": "@jupyter-widgets/controls",
          "model_name": "HTMLModel",
          "model_module_version": "1.5.0",
          "state": {
            "_view_name": "HTMLView",
            "style": "IPY_MODEL_1fcd4386c8354c3387a988cb91356e90",
            "_dom_classes": [],
            "description": "",
            "_model_name": "HTMLModel",
            "placeholder": "​",
            "_view_module": "@jupyter-widgets/controls",
            "_model_module_version": "1.5.0",
            "value": "Downloading: 100%",
            "_view_count": null,
            "_view_module_version": "1.5.0",
            "description_tooltip": null,
            "_model_module": "@jupyter-widgets/controls",
            "layout": "IPY_MODEL_8b444dd9fc034118a6d0b7113187ad74"
          }
        },
        "6cfe1a4270b14680871e428c4fa34b8d": {
          "model_module": "@jupyter-widgets/controls",
          "model_name": "FloatProgressModel",
          "model_module_version": "1.5.0",
          "state": {
            "_view_name": "ProgressView",
            "style": "IPY_MODEL_44421333768347df8b4fa2afb6c29fbf",
            "_dom_classes": [],
            "description": "",
            "_model_name": "FloatProgressModel",
            "bar_style": "success",
            "max": 898822,
            "_view_module": "@jupyter-widgets/controls",
            "_model_module_version": "1.5.0",
            "value": 898822,
            "_view_count": null,
            "_view_module_version": "1.5.0",
            "orientation": "horizontal",
            "min": 0,
            "description_tooltip": null,
            "_model_module": "@jupyter-widgets/controls",
            "layout": "IPY_MODEL_1ecd723cfa0248faa435397ddd5a73a0"
          }
        },
        "09e99fad5dae46a49ea1cdf804178f77": {
          "model_module": "@jupyter-widgets/controls",
          "model_name": "HTMLModel",
          "model_module_version": "1.5.0",
          "state": {
            "_view_name": "HTMLView",
            "style": "IPY_MODEL_63e6f5969a7242a28380eb527ac5e486",
            "_dom_classes": [],
            "description": "",
            "_model_name": "HTMLModel",
            "placeholder": "​",
            "_view_module": "@jupyter-widgets/controls",
            "_model_module_version": "1.5.0",
            "value": " 899k/899k [00:00&lt;00:00, 5.07MB/s]",
            "_view_count": null,
            "_view_module_version": "1.5.0",
            "description_tooltip": null,
            "_model_module": "@jupyter-widgets/controls",
            "layout": "IPY_MODEL_16fbd1eaf50a4764a193be85b5cded32"
          }
        },
        "1fcd4386c8354c3387a988cb91356e90": {
          "model_module": "@jupyter-widgets/controls",
          "model_name": "DescriptionStyleModel",
          "model_module_version": "1.5.0",
          "state": {
            "_view_name": "StyleView",
            "_model_name": "DescriptionStyleModel",
            "description_width": "",
            "_view_module": "@jupyter-widgets/base",
            "_model_module_version": "1.5.0",
            "_view_count": null,
            "_view_module_version": "1.2.0",
            "_model_module": "@jupyter-widgets/controls"
          }
        },
        "8b444dd9fc034118a6d0b7113187ad74": {
          "model_module": "@jupyter-widgets/base",
          "model_name": "LayoutModel",
          "model_module_version": "1.2.0",
          "state": {
            "_view_name": "LayoutView",
            "grid_template_rows": null,
            "right": null,
            "justify_content": null,
            "_view_module": "@jupyter-widgets/base",
            "overflow": null,
            "_model_module_version": "1.2.0",
            "_view_count": null,
            "flex_flow": null,
            "width": null,
            "min_width": null,
            "border": null,
            "align_items": null,
            "bottom": null,
            "_model_module": "@jupyter-widgets/base",
            "top": null,
            "grid_column": null,
            "overflow_y": null,
            "overflow_x": null,
            "grid_auto_flow": null,
            "grid_area": null,
            "grid_template_columns": null,
            "flex": null,
            "_model_name": "LayoutModel",
            "justify_items": null,
            "grid_row": null,
            "max_height": null,
            "align_content": null,
            "visibility": null,
            "align_self": null,
            "height": null,
            "min_height": null,
            "padding": null,
            "grid_auto_rows": null,
            "grid_gap": null,
            "max_width": null,
            "order": null,
            "_view_module_version": "1.2.0",
            "grid_template_areas": null,
            "object_position": null,
            "object_fit": null,
            "grid_auto_columns": null,
            "margin": null,
            "display": null,
            "left": null
          }
        },
        "44421333768347df8b4fa2afb6c29fbf": {
          "model_module": "@jupyter-widgets/controls",
          "model_name": "ProgressStyleModel",
          "model_module_version": "1.5.0",
          "state": {
            "_view_name": "StyleView",
            "_model_name": "ProgressStyleModel",
            "description_width": "",
            "_view_module": "@jupyter-widgets/base",
            "_model_module_version": "1.5.0",
            "_view_count": null,
            "_view_module_version": "1.2.0",
            "bar_color": null,
            "_model_module": "@jupyter-widgets/controls"
          }
        },
        "1ecd723cfa0248faa435397ddd5a73a0": {
          "model_module": "@jupyter-widgets/base",
          "model_name": "LayoutModel",
          "model_module_version": "1.2.0",
          "state": {
            "_view_name": "LayoutView",
            "grid_template_rows": null,
            "right": null,
            "justify_content": null,
            "_view_module": "@jupyter-widgets/base",
            "overflow": null,
            "_model_module_version": "1.2.0",
            "_view_count": null,
            "flex_flow": null,
            "width": null,
            "min_width": null,
            "border": null,
            "align_items": null,
            "bottom": null,
            "_model_module": "@jupyter-widgets/base",
            "top": null,
            "grid_column": null,
            "overflow_y": null,
            "overflow_x": null,
            "grid_auto_flow": null,
            "grid_area": null,
            "grid_template_columns": null,
            "flex": null,
            "_model_name": "LayoutModel",
            "justify_items": null,
            "grid_row": null,
            "max_height": null,
            "align_content": null,
            "visibility": null,
            "align_self": null,
            "height": null,
            "min_height": null,
            "padding": null,
            "grid_auto_rows": null,
            "grid_gap": null,
            "max_width": null,
            "order": null,
            "_view_module_version": "1.2.0",
            "grid_template_areas": null,
            "object_position": null,
            "object_fit": null,
            "grid_auto_columns": null,
            "margin": null,
            "display": null,
            "left": null
          }
        },
        "63e6f5969a7242a28380eb527ac5e486": {
          "model_module": "@jupyter-widgets/controls",
          "model_name": "DescriptionStyleModel",
          "model_module_version": "1.5.0",
          "state": {
            "_view_name": "StyleView",
            "_model_name": "DescriptionStyleModel",
            "description_width": "",
            "_view_module": "@jupyter-widgets/base",
            "_model_module_version": "1.5.0",
            "_view_count": null,
            "_view_module_version": "1.2.0",
            "_model_module": "@jupyter-widgets/controls"
          }
        },
        "16fbd1eaf50a4764a193be85b5cded32": {
          "model_module": "@jupyter-widgets/base",
          "model_name": "LayoutModel",
          "model_module_version": "1.2.0",
          "state": {
            "_view_name": "LayoutView",
            "grid_template_rows": null,
            "right": null,
            "justify_content": null,
            "_view_module": "@jupyter-widgets/base",
            "overflow": null,
            "_model_module_version": "1.2.0",
            "_view_count": null,
            "flex_flow": null,
            "width": null,
            "min_width": null,
            "border": null,
            "align_items": null,
            "bottom": null,
            "_model_module": "@jupyter-widgets/base",
            "top": null,
            "grid_column": null,
            "overflow_y": null,
            "overflow_x": null,
            "grid_auto_flow": null,
            "grid_area": null,
            "grid_template_columns": null,
            "flex": null,
            "_model_name": "LayoutModel",
            "justify_items": null,
            "grid_row": null,
            "max_height": null,
            "align_content": null,
            "visibility": null,
            "align_self": null,
            "height": null,
            "min_height": null,
            "padding": null,
            "grid_auto_rows": null,
            "grid_gap": null,
            "max_width": null,
            "order": null,
            "_view_module_version": "1.2.0",
            "grid_template_areas": null,
            "object_position": null,
            "object_fit": null,
            "grid_auto_columns": null,
            "margin": null,
            "display": null,
            "left": null
          }
        },
        "bf8d394eec8346e3914c6d16f5beb8cc": {
          "model_module": "@jupyter-widgets/controls",
          "model_name": "HBoxModel",
          "model_module_version": "1.5.0",
          "state": {
            "_view_name": "HBoxView",
            "_dom_classes": [],
            "_model_name": "HBoxModel",
            "_view_module": "@jupyter-widgets/controls",
            "_model_module_version": "1.5.0",
            "_view_count": null,
            "_view_module_version": "1.5.0",
            "box_style": "",
            "layout": "IPY_MODEL_80da342bfa6f494d8acad9d67e4821ea",
            "_model_module": "@jupyter-widgets/controls",
            "children": [
              "IPY_MODEL_5556d4767c40418c956101f23d00072b",
              "IPY_MODEL_967fa99163a94287a2dea979b79f9685",
              "IPY_MODEL_df07033fcef94c52958aaf8e1f6ad286"
            ]
          }
        },
        "80da342bfa6f494d8acad9d67e4821ea": {
          "model_module": "@jupyter-widgets/base",
          "model_name": "LayoutModel",
          "model_module_version": "1.2.0",
          "state": {
            "_view_name": "LayoutView",
            "grid_template_rows": null,
            "right": null,
            "justify_content": null,
            "_view_module": "@jupyter-widgets/base",
            "overflow": null,
            "_model_module_version": "1.2.0",
            "_view_count": null,
            "flex_flow": null,
            "width": null,
            "min_width": null,
            "border": null,
            "align_items": null,
            "bottom": null,
            "_model_module": "@jupyter-widgets/base",
            "top": null,
            "grid_column": null,
            "overflow_y": null,
            "overflow_x": null,
            "grid_auto_flow": null,
            "grid_area": null,
            "grid_template_columns": null,
            "flex": null,
            "_model_name": "LayoutModel",
            "justify_items": null,
            "grid_row": null,
            "max_height": null,
            "align_content": null,
            "visibility": null,
            "align_self": null,
            "height": null,
            "min_height": null,
            "padding": null,
            "grid_auto_rows": null,
            "grid_gap": null,
            "max_width": null,
            "order": null,
            "_view_module_version": "1.2.0",
            "grid_template_areas": null,
            "object_position": null,
            "object_fit": null,
            "grid_auto_columns": null,
            "margin": null,
            "display": null,
            "left": null
          }
        },
        "5556d4767c40418c956101f23d00072b": {
          "model_module": "@jupyter-widgets/controls",
          "model_name": "HTMLModel",
          "model_module_version": "1.5.0",
          "state": {
            "_view_name": "HTMLView",
            "style": "IPY_MODEL_3d2826fd5f8c4f21a5cae2b2229bb310",
            "_dom_classes": [],
            "description": "",
            "_model_name": "HTMLModel",
            "placeholder": "​",
            "_view_module": "@jupyter-widgets/controls",
            "_model_module_version": "1.5.0",
            "value": "Downloading: 100%",
            "_view_count": null,
            "_view_module_version": "1.5.0",
            "description_tooltip": null,
            "_model_module": "@jupyter-widgets/controls",
            "layout": "IPY_MODEL_a486fd790ec04132b83ab4add19a1fe5"
          }
        },
        "967fa99163a94287a2dea979b79f9685": {
          "model_module": "@jupyter-widgets/controls",
          "model_name": "FloatProgressModel",
          "model_module_version": "1.5.0",
          "state": {
            "_view_name": "ProgressView",
            "style": "IPY_MODEL_b5856dea9c8846efacd762d6ffc67a42",
            "_dom_classes": [],
            "description": "",
            "_model_name": "FloatProgressModel",
            "bar_style": "success",
            "max": 456318,
            "_view_module": "@jupyter-widgets/controls",
            "_model_module_version": "1.5.0",
            "value": 456318,
            "_view_count": null,
            "_view_module_version": "1.5.0",
            "orientation": "horizontal",
            "min": 0,
            "description_tooltip": null,
            "_model_module": "@jupyter-widgets/controls",
            "layout": "IPY_MODEL_7f388563a46c4615a2d936ac18e6dfe6"
          }
        },
        "df07033fcef94c52958aaf8e1f6ad286": {
          "model_module": "@jupyter-widgets/controls",
          "model_name": "HTMLModel",
          "model_module_version": "1.5.0",
          "state": {
            "_view_name": "HTMLView",
            "style": "IPY_MODEL_531d99f5777d4197bc22f9204580ea15",
            "_dom_classes": [],
            "description": "",
            "_model_name": "HTMLModel",
            "placeholder": "​",
            "_view_module": "@jupyter-widgets/controls",
            "_model_module_version": "1.5.0",
            "value": " 456k/456k [00:00&lt;00:00, 1.58MB/s]",
            "_view_count": null,
            "_view_module_version": "1.5.0",
            "description_tooltip": null,
            "_model_module": "@jupyter-widgets/controls",
            "layout": "IPY_MODEL_db240f8860b3415392c5775af8c0f685"
          }
        },
        "3d2826fd5f8c4f21a5cae2b2229bb310": {
          "model_module": "@jupyter-widgets/controls",
          "model_name": "DescriptionStyleModel",
          "model_module_version": "1.5.0",
          "state": {
            "_view_name": "StyleView",
            "_model_name": "DescriptionStyleModel",
            "description_width": "",
            "_view_module": "@jupyter-widgets/base",
            "_model_module_version": "1.5.0",
            "_view_count": null,
            "_view_module_version": "1.2.0",
            "_model_module": "@jupyter-widgets/controls"
          }
        },
        "a486fd790ec04132b83ab4add19a1fe5": {
          "model_module": "@jupyter-widgets/base",
          "model_name": "LayoutModel",
          "model_module_version": "1.2.0",
          "state": {
            "_view_name": "LayoutView",
            "grid_template_rows": null,
            "right": null,
            "justify_content": null,
            "_view_module": "@jupyter-widgets/base",
            "overflow": null,
            "_model_module_version": "1.2.0",
            "_view_count": null,
            "flex_flow": null,
            "width": null,
            "min_width": null,
            "border": null,
            "align_items": null,
            "bottom": null,
            "_model_module": "@jupyter-widgets/base",
            "top": null,
            "grid_column": null,
            "overflow_y": null,
            "overflow_x": null,
            "grid_auto_flow": null,
            "grid_area": null,
            "grid_template_columns": null,
            "flex": null,
            "_model_name": "LayoutModel",
            "justify_items": null,
            "grid_row": null,
            "max_height": null,
            "align_content": null,
            "visibility": null,
            "align_self": null,
            "height": null,
            "min_height": null,
            "padding": null,
            "grid_auto_rows": null,
            "grid_gap": null,
            "max_width": null,
            "order": null,
            "_view_module_version": "1.2.0",
            "grid_template_areas": null,
            "object_position": null,
            "object_fit": null,
            "grid_auto_columns": null,
            "margin": null,
            "display": null,
            "left": null
          }
        },
        "b5856dea9c8846efacd762d6ffc67a42": {
          "model_module": "@jupyter-widgets/controls",
          "model_name": "ProgressStyleModel",
          "model_module_version": "1.5.0",
          "state": {
            "_view_name": "StyleView",
            "_model_name": "ProgressStyleModel",
            "description_width": "",
            "_view_module": "@jupyter-widgets/base",
            "_model_module_version": "1.5.0",
            "_view_count": null,
            "_view_module_version": "1.2.0",
            "bar_color": null,
            "_model_module": "@jupyter-widgets/controls"
          }
        },
        "7f388563a46c4615a2d936ac18e6dfe6": {
          "model_module": "@jupyter-widgets/base",
          "model_name": "LayoutModel",
          "model_module_version": "1.2.0",
          "state": {
            "_view_name": "LayoutView",
            "grid_template_rows": null,
            "right": null,
            "justify_content": null,
            "_view_module": "@jupyter-widgets/base",
            "overflow": null,
            "_model_module_version": "1.2.0",
            "_view_count": null,
            "flex_flow": null,
            "width": null,
            "min_width": null,
            "border": null,
            "align_items": null,
            "bottom": null,
            "_model_module": "@jupyter-widgets/base",
            "top": null,
            "grid_column": null,
            "overflow_y": null,
            "overflow_x": null,
            "grid_auto_flow": null,
            "grid_area": null,
            "grid_template_columns": null,
            "flex": null,
            "_model_name": "LayoutModel",
            "justify_items": null,
            "grid_row": null,
            "max_height": null,
            "align_content": null,
            "visibility": null,
            "align_self": null,
            "height": null,
            "min_height": null,
            "padding": null,
            "grid_auto_rows": null,
            "grid_gap": null,
            "max_width": null,
            "order": null,
            "_view_module_version": "1.2.0",
            "grid_template_areas": null,
            "object_position": null,
            "object_fit": null,
            "grid_auto_columns": null,
            "margin": null,
            "display": null,
            "left": null
          }
        },
        "531d99f5777d4197bc22f9204580ea15": {
          "model_module": "@jupyter-widgets/controls",
          "model_name": "DescriptionStyleModel",
          "model_module_version": "1.5.0",
          "state": {
            "_view_name": "StyleView",
            "_model_name": "DescriptionStyleModel",
            "description_width": "",
            "_view_module": "@jupyter-widgets/base",
            "_model_module_version": "1.5.0",
            "_view_count": null,
            "_view_module_version": "1.2.0",
            "_model_module": "@jupyter-widgets/controls"
          }
        },
        "db240f8860b3415392c5775af8c0f685": {
          "model_module": "@jupyter-widgets/base",
          "model_name": "LayoutModel",
          "model_module_version": "1.2.0",
          "state": {
            "_view_name": "LayoutView",
            "grid_template_rows": null,
            "right": null,
            "justify_content": null,
            "_view_module": "@jupyter-widgets/base",
            "overflow": null,
            "_model_module_version": "1.2.0",
            "_view_count": null,
            "flex_flow": null,
            "width": null,
            "min_width": null,
            "border": null,
            "align_items": null,
            "bottom": null,
            "_model_module": "@jupyter-widgets/base",
            "top": null,
            "grid_column": null,
            "overflow_y": null,
            "overflow_x": null,
            "grid_auto_flow": null,
            "grid_area": null,
            "grid_template_columns": null,
            "flex": null,
            "_model_name": "LayoutModel",
            "justify_items": null,
            "grid_row": null,
            "max_height": null,
            "align_content": null,
            "visibility": null,
            "align_self": null,
            "height": null,
            "min_height": null,
            "padding": null,
            "grid_auto_rows": null,
            "grid_gap": null,
            "max_width": null,
            "order": null,
            "_view_module_version": "1.2.0",
            "grid_template_areas": null,
            "object_position": null,
            "object_fit": null,
            "grid_auto_columns": null,
            "margin": null,
            "display": null,
            "left": null
          }
        },
        "3331a4d6b92b46c7b3518669590b69f5": {
          "model_module": "@jupyter-widgets/controls",
          "model_name": "HBoxModel",
          "model_module_version": "1.5.0",
          "state": {
            "_view_name": "HBoxView",
            "_dom_classes": [],
            "_model_name": "HBoxModel",
            "_view_module": "@jupyter-widgets/controls",
            "_model_module_version": "1.5.0",
            "_view_count": null,
            "_view_module_version": "1.5.0",
            "box_style": "",
            "layout": "IPY_MODEL_05b71eadd0804cb4900a611739382e20",
            "_model_module": "@jupyter-widgets/controls",
            "children": [
              "IPY_MODEL_f788730307954c12b0d5b99aa1060573",
              "IPY_MODEL_10cf7028daa642548cbfc721dd8bfbd5",
              "IPY_MODEL_4dc4c51b22564d52814cf131233a6bfa"
            ]
          }
        },
        "05b71eadd0804cb4900a611739382e20": {
          "model_module": "@jupyter-widgets/base",
          "model_name": "LayoutModel",
          "model_module_version": "1.2.0",
          "state": {
            "_view_name": "LayoutView",
            "grid_template_rows": null,
            "right": null,
            "justify_content": null,
            "_view_module": "@jupyter-widgets/base",
            "overflow": null,
            "_model_module_version": "1.2.0",
            "_view_count": null,
            "flex_flow": null,
            "width": null,
            "min_width": null,
            "border": null,
            "align_items": null,
            "bottom": null,
            "_model_module": "@jupyter-widgets/base",
            "top": null,
            "grid_column": null,
            "overflow_y": null,
            "overflow_x": null,
            "grid_auto_flow": null,
            "grid_area": null,
            "grid_template_columns": null,
            "flex": null,
            "_model_name": "LayoutModel",
            "justify_items": null,
            "grid_row": null,
            "max_height": null,
            "align_content": null,
            "visibility": null,
            "align_self": null,
            "height": null,
            "min_height": null,
            "padding": null,
            "grid_auto_rows": null,
            "grid_gap": null,
            "max_width": null,
            "order": null,
            "_view_module_version": "1.2.0",
            "grid_template_areas": null,
            "object_position": null,
            "object_fit": null,
            "grid_auto_columns": null,
            "margin": null,
            "display": null,
            "left": null
          }
        },
        "f788730307954c12b0d5b99aa1060573": {
          "model_module": "@jupyter-widgets/controls",
          "model_name": "HTMLModel",
          "model_module_version": "1.5.0",
          "state": {
            "_view_name": "HTMLView",
            "style": "IPY_MODEL_9998262e24ee4ed8a68c1e999192ac26",
            "_dom_classes": [],
            "description": "",
            "_model_name": "HTMLModel",
            "placeholder": "​",
            "_view_module": "@jupyter-widgets/controls",
            "_model_module_version": "1.5.0",
            "value": "Downloading: 100%",
            "_view_count": null,
            "_view_module_version": "1.5.0",
            "description_tooltip": null,
            "_model_module": "@jupyter-widgets/controls",
            "layout": "IPY_MODEL_44bde7a3176b4c3c9e4510bc93ffb25d"
          }
        },
        "10cf7028daa642548cbfc721dd8bfbd5": {
          "model_module": "@jupyter-widgets/controls",
          "model_name": "FloatProgressModel",
          "model_module_version": "1.5.0",
          "state": {
            "_view_name": "ProgressView",
            "style": "IPY_MODEL_a9d53a29ae4c497084b40356421c321f",
            "_dom_classes": [],
            "description": "",
            "_model_name": "FloatProgressModel",
            "bar_style": "success",
            "max": 1355863,
            "_view_module": "@jupyter-widgets/controls",
            "_model_module_version": "1.5.0",
            "value": 1355863,
            "_view_count": null,
            "_view_module_version": "1.5.0",
            "orientation": "horizontal",
            "min": 0,
            "description_tooltip": null,
            "_model_module": "@jupyter-widgets/controls",
            "layout": "IPY_MODEL_bb2a2364cb4842f8953d8bf0dd8588cd"
          }
        },
        "4dc4c51b22564d52814cf131233a6bfa": {
          "model_module": "@jupyter-widgets/controls",
          "model_name": "HTMLModel",
          "model_module_version": "1.5.0",
          "state": {
            "_view_name": "HTMLView",
            "style": "IPY_MODEL_23f806166f3c49a5b7403b5fc062bd2b",
            "_dom_classes": [],
            "description": "",
            "_model_name": "HTMLModel",
            "placeholder": "​",
            "_view_module": "@jupyter-widgets/controls",
            "_model_module_version": "1.5.0",
            "value": " 1.36M/1.36M [00:00&lt;00:00, 4.77MB/s]",
            "_view_count": null,
            "_view_module_version": "1.5.0",
            "description_tooltip": null,
            "_model_module": "@jupyter-widgets/controls",
            "layout": "IPY_MODEL_116568e992644cc1bdd200d0b769a946"
          }
        },
        "9998262e24ee4ed8a68c1e999192ac26": {
          "model_module": "@jupyter-widgets/controls",
          "model_name": "DescriptionStyleModel",
          "model_module_version": "1.5.0",
          "state": {
            "_view_name": "StyleView",
            "_model_name": "DescriptionStyleModel",
            "description_width": "",
            "_view_module": "@jupyter-widgets/base",
            "_model_module_version": "1.5.0",
            "_view_count": null,
            "_view_module_version": "1.2.0",
            "_model_module": "@jupyter-widgets/controls"
          }
        },
        "44bde7a3176b4c3c9e4510bc93ffb25d": {
          "model_module": "@jupyter-widgets/base",
          "model_name": "LayoutModel",
          "model_module_version": "1.2.0",
          "state": {
            "_view_name": "LayoutView",
            "grid_template_rows": null,
            "right": null,
            "justify_content": null,
            "_view_module": "@jupyter-widgets/base",
            "overflow": null,
            "_model_module_version": "1.2.0",
            "_view_count": null,
            "flex_flow": null,
            "width": null,
            "min_width": null,
            "border": null,
            "align_items": null,
            "bottom": null,
            "_model_module": "@jupyter-widgets/base",
            "top": null,
            "grid_column": null,
            "overflow_y": null,
            "overflow_x": null,
            "grid_auto_flow": null,
            "grid_area": null,
            "grid_template_columns": null,
            "flex": null,
            "_model_name": "LayoutModel",
            "justify_items": null,
            "grid_row": null,
            "max_height": null,
            "align_content": null,
            "visibility": null,
            "align_self": null,
            "height": null,
            "min_height": null,
            "padding": null,
            "grid_auto_rows": null,
            "grid_gap": null,
            "max_width": null,
            "order": null,
            "_view_module_version": "1.2.0",
            "grid_template_areas": null,
            "object_position": null,
            "object_fit": null,
            "grid_auto_columns": null,
            "margin": null,
            "display": null,
            "left": null
          }
        },
        "a9d53a29ae4c497084b40356421c321f": {
          "model_module": "@jupyter-widgets/controls",
          "model_name": "ProgressStyleModel",
          "model_module_version": "1.5.0",
          "state": {
            "_view_name": "StyleView",
            "_model_name": "ProgressStyleModel",
            "description_width": "",
            "_view_module": "@jupyter-widgets/base",
            "_model_module_version": "1.5.0",
            "_view_count": null,
            "_view_module_version": "1.2.0",
            "bar_color": null,
            "_model_module": "@jupyter-widgets/controls"
          }
        },
        "bb2a2364cb4842f8953d8bf0dd8588cd": {
          "model_module": "@jupyter-widgets/base",
          "model_name": "LayoutModel",
          "model_module_version": "1.2.0",
          "state": {
            "_view_name": "LayoutView",
            "grid_template_rows": null,
            "right": null,
            "justify_content": null,
            "_view_module": "@jupyter-widgets/base",
            "overflow": null,
            "_model_module_version": "1.2.0",
            "_view_count": null,
            "flex_flow": null,
            "width": null,
            "min_width": null,
            "border": null,
            "align_items": null,
            "bottom": null,
            "_model_module": "@jupyter-widgets/base",
            "top": null,
            "grid_column": null,
            "overflow_y": null,
            "overflow_x": null,
            "grid_auto_flow": null,
            "grid_area": null,
            "grid_template_columns": null,
            "flex": null,
            "_model_name": "LayoutModel",
            "justify_items": null,
            "grid_row": null,
            "max_height": null,
            "align_content": null,
            "visibility": null,
            "align_self": null,
            "height": null,
            "min_height": null,
            "padding": null,
            "grid_auto_rows": null,
            "grid_gap": null,
            "max_width": null,
            "order": null,
            "_view_module_version": "1.2.0",
            "grid_template_areas": null,
            "object_position": null,
            "object_fit": null,
            "grid_auto_columns": null,
            "margin": null,
            "display": null,
            "left": null
          }
        },
        "23f806166f3c49a5b7403b5fc062bd2b": {
          "model_module": "@jupyter-widgets/controls",
          "model_name": "DescriptionStyleModel",
          "model_module_version": "1.5.0",
          "state": {
            "_view_name": "StyleView",
            "_model_name": "DescriptionStyleModel",
            "description_width": "",
            "_view_module": "@jupyter-widgets/base",
            "_model_module_version": "1.5.0",
            "_view_count": null,
            "_view_module_version": "1.2.0",
            "_model_module": "@jupyter-widgets/controls"
          }
        },
        "116568e992644cc1bdd200d0b769a946": {
          "model_module": "@jupyter-widgets/base",
          "model_name": "LayoutModel",
          "model_module_version": "1.2.0",
          "state": {
            "_view_name": "LayoutView",
            "grid_template_rows": null,
            "right": null,
            "justify_content": null,
            "_view_module": "@jupyter-widgets/base",
            "overflow": null,
            "_model_module_version": "1.2.0",
            "_view_count": null,
            "flex_flow": null,
            "width": null,
            "min_width": null,
            "border": null,
            "align_items": null,
            "bottom": null,
            "_model_module": "@jupyter-widgets/base",
            "top": null,
            "grid_column": null,
            "overflow_y": null,
            "overflow_x": null,
            "grid_auto_flow": null,
            "grid_area": null,
            "grid_template_columns": null,
            "flex": null,
            "_model_name": "LayoutModel",
            "justify_items": null,
            "grid_row": null,
            "max_height": null,
            "align_content": null,
            "visibility": null,
            "align_self": null,
            "height": null,
            "min_height": null,
            "padding": null,
            "grid_auto_rows": null,
            "grid_gap": null,
            "max_width": null,
            "order": null,
            "_view_module_version": "1.2.0",
            "grid_template_areas": null,
            "object_position": null,
            "object_fit": null,
            "grid_auto_columns": null,
            "margin": null,
            "display": null,
            "left": null
          }
        }
      }
    }
  },
  "cells": [
    {
      "cell_type": "markdown",
      "metadata": {
        "id": "dhqTeSQ9XezJ"
      },
      "source": [
        "## Description\n",
        "\n",
        "I wants understand why my train is different on other people where i wrong?\n",
        "I train default how i train another model detection and convolution but i see in kernels in kaggle people use another techicks to train nlp model and i can't understand why and i want test it.\n",
        "\n",
        "Links to use:\n",
        "- [22nd solution](https://www.kaggle.com/c/commonlitreadabilityprize/discussion/257302)\n",
        "\n",
        "- [gtihub link](https://github.com/kurupical/commonlit)\n",
        "\n",
        "- [RoBERTa Base Fine-Tuning with Better Training Strategies](https://www.kaggle.com/rhtsingh/commonlit-readability-prize-roberta-torch-fit)"
      ]
    },
    {
      "cell_type": "markdown",
      "metadata": {
        "id": "efA57ChrZV1l"
      },
      "source": [
        "## default or not changed loads"
      ]
    },
    {
      "cell_type": "code",
      "metadata": {
        "id": "6KsrTcKtZTwC"
      },
      "source": [
        "from IPython.display import clear_output\n",
        "!pip install transformers\n",
        "clear_output()"
      ],
      "execution_count": null,
      "outputs": []
    },
    {
      "cell_type": "code",
      "metadata": {
        "id": "TJZ_KqlNZcqQ"
      },
      "source": [
        "import re\n",
        "import torch\n",
        "import pandas as pd\n",
        "import numpy as np\n",
        "from tqdm import tqdm\n",
        "from torch import nn, optim\n",
        "from torch.utils.data import  DataLoader, Dataset\n",
        "import transformers\n",
        "\n",
        "import plotly.graph_objects as go\n",
        "from plotly.subplots import make_subplots\n",
        "\n",
        "import matplotlib.pyplot as plt\n",
        "\n",
        "from collections import defaultdict\n",
        "\n",
        "from sklearn import model_selection\n",
        "from sklearn.model_selection import train_test_split\n",
        "from sklearn.metrics import mean_squared_error\n",
        "\n",
        "\n",
        "path_tr = '/content/drive/MyDrive/CommonLit/input/train.csv'\n",
        "path_test = '/content/drive/MyDrive/CommonLit/input/test.csv'\n",
        "path_sub = '/content/drive/MyDrive/CommonLit/input/sample_submission.csv'\n",
        "\n",
        "\n",
        "SEED =13\n",
        "np.random.seed(SEED)\n",
        "torch.manual_seed(SEED)\n",
        "device = 'cuda' if torch.cuda.is_available() else 'cpu'\n",
        "\n",
        "\n",
        "def make_folds(data: pd.DataFrame, split: int = 5):\n",
        "    data['kfold'] = -1\n",
        "    data = data.sample(frac =1).reset_index(drop=True)\n",
        "    num_bins = int(np.floor(1 + np.log2(len(data))))\n",
        "    data.loc[:, 'bins'] = pd.cut(\n",
        "        data['target'], bins = num_bins, labels = False\n",
        "    )\n",
        "    kf = model_selection.StratifiedKFold(n_splits=split)\n",
        "    for f, (t_, v_) in enumerate(kf.split(X=data, y=data.bins.values)):\n",
        "        data.loc[v_, 'kfold'] = f\n",
        "    data = data.drop(\"bins\", axis=1)\n",
        "    return data\n",
        "\n",
        "\n",
        "def clean_text(txt):\n",
        "    return re.sub('[^A-Za-z]+', ' ',str(txt).lower())\n",
        "\n",
        "\n",
        "df = pd.read_csv(path_tr)\n",
        "df['txt'] = df['excerpt']#.apply(lambda x: clean_text(x))\n",
        "df_folds = make_folds(df, 5)"
      ],
      "execution_count": null,
      "outputs": []
    },
    {
      "cell_type": "code",
      "metadata": {
        "id": "A2h9W_fyZhRG"
      },
      "source": [
        "class CL_Dataset(Dataset):\n",
        "\n",
        "    def __init__(\n",
        "        self,\n",
        "        data: pd.DataFrame,\n",
        "        token,\n",
        "        max_len: int = 256,\n",
        "        test: bool = False\n",
        "        ) -> dict:\n",
        "        self.data = data \n",
        "        self.max_len = max_len\n",
        "        self.test = test\n",
        "        self.token = token\n",
        "\n",
        "    def __len__(self):\n",
        "        return self.data.shape[0]\n",
        "\n",
        "    def  __getitem__(self, idx: int):\n",
        "        text = self.data.txt.iloc[idx]\n",
        "        encode = self.token(\n",
        "            text,\n",
        "            truncation=True,\n",
        "            max_length=self.max_len,\n",
        "            padding='max_length',\n",
        "            add_special_tokens=True,            \n",
        "            return_attention_mask=True,\n",
        "            return_token_type_ids=False  \n",
        "            )\n",
        "        if self.test:\n",
        "            target = 0\n",
        "        else:\n",
        "            target = self.data.target.iloc[idx]\n",
        "\n",
        "        ids = encode[\"input_ids\"]\n",
        "        mask = encode[\"attention_mask\"]\n",
        "\n",
        "        return {\n",
        "            \"input_ids\": torch.tensor(ids, dtype=torch.long),\n",
        "            \"attention_mask\": torch.tensor(mask, dtype=torch.long),\n",
        "            'target': torch.tensor(target, dtype = torch.float)  \n",
        "        }"
      ],
      "execution_count": null,
      "outputs": []
    },
    {
      "cell_type": "code",
      "metadata": {
        "id": "aFTGY6cBagJZ"
      },
      "source": [
        "def loss_fn(output,target):\n",
        "    return torch.sqrt(nn.MSELoss()(output,target))\n",
        "\n",
        "\n",
        "def viz_curve(data: dict, title: str) -> None:\n",
        "    epochs = list(range(1, EPOCH + 1))\n",
        "    fig = make_subplots(\n",
        "        rows=2, cols=2,\n",
        "        specs=[\n",
        "               [{\"colspan\": 2}, None],\n",
        "               [{}, {}],\n",
        "               ],\n",
        "               vertical_spacing=0.09,\n",
        "               subplot_titles=('Loss Curve',  'RMSE', 'LR')\n",
        "    )\n",
        "    fig.add_trace(\n",
        "        go.Scatter(\n",
        "            x=epochs,\n",
        "            y=data['train_loss'],\n",
        "            mode='lines+markers',\n",
        "            name='Train Loss'),\n",
        "            row=1, col=1\n",
        "    )\n",
        "    fig.add_trace(\n",
        "        go.Scatter(\n",
        "            x=epochs,\n",
        "            y=data['valid_loss'],\n",
        "            mode='lines+markers',\n",
        "            name='Valid Loss'),\n",
        "            row=1, col=1\n",
        "    )\n",
        "    fig.add_trace(\n",
        "        go.Scatter(\n",
        "            x=epochs,\n",
        "            y=data['valid_rms'],\n",
        "            mode='lines+markers',\n",
        "            name='RMSE'),     \n",
        "            row=2, col=1\n",
        "    )\n",
        "    fig.add_trace(\n",
        "        go.Scatter(\n",
        "            x=epochs,\n",
        "            y=data['lr'],\n",
        "            mode='lines+markers',\n",
        "            name='LR'), \n",
        "            row=2, col=2\n",
        "    )\n",
        "    fig.update_layout(\n",
        "        height=600,\n",
        "        width=600,\n",
        "        showlegend=False,\n",
        "        title = title,\n",
        "        margin=dict(l=10, r=10, t=30, b=20),                     \n",
        "        template=\"plotly_dark\"    \n",
        "    )\n",
        "    fig.show()\n",
        "\n",
        "def update_result(\n",
        "    data: dict,\n",
        "    predict: torch.tensor,\n",
        "    target:torch.tensor\n",
        ") -> None:\n",
        "    loss = loss_fn(predict.squeeze(-1), target)\n",
        "    data['losses'].append(loss.detach().cpu().numpy())\n",
        "    data['all_pred'].append(predict.squeeze(-1).detach().cpu().numpy())\n",
        "    data['all_target'].append(target.detach().cpu().numpy())\n",
        "    return loss\n",
        "\n",
        "\n",
        "def train(\n",
        "    model:nn.Module, \n",
        "    loader: DataLoader,\n",
        "    optimizer: transformers.AdamW,\n",
        "    schedule: transformers.get_linear_schedule_with_warmup,\n",
        "    batch: int,\n",
        "    max_lenght: int\n",
        ") -> list:\n",
        "    model.train()\n",
        "    torch.backends.cudnn.benchmark = True\n",
        "    results = defaultdict(list)\n",
        "    for input in loader:\n",
        "        optimizer.zero_grad()\n",
        "        target = input['target'].to(device)\n",
        "        batch = {k:v.to(device) for k,v in input.items() if k != 'target'}   \n",
        "        out = model(**batch)\n",
        "        out = out.logits # BertForSequenceClassification\n",
        "        loss = update_result(results, out, target)\n",
        "        loss.backward()\n",
        "        nn.utils.clip_grad_norm_(model.parameters(), max_norm = 1.0)\n",
        "        optimizer.step()    \n",
        "        schedule.step()\n",
        "    losses = np.mean(results['losses'])\n",
        "    allt = np.concatenate(results['all_target'])\n",
        "    allp = np.concatenate(results['all_pred'])\n",
        "    rmse = np.sqrt(mean_squared_error(allt, allp))  \n",
        "    return losses, rmse\n",
        "\n",
        "\n",
        "def validate(\n",
        "    model:nn.Module, \n",
        "    loader: DataLoader, \n",
        "    batch: int,\n",
        "    max_lenght: int\n",
        ") -> list:\n",
        "    model.eval()\n",
        "    results = defaultdict(list)\n",
        "    for input in loader:  \n",
        "        target = input['target'].to(device)\n",
        "        batch = {k:v.to(device) for k,v in input.items() if k != 'target'} \n",
        "        out = model(**batch)\n",
        "        out = out.logits # BertForSequenceClassification\n",
        "        _ = update_result(results, out, target)\n",
        "    losses = np.mean(results['losses'])\n",
        "    allt = np.concatenate(results['all_target'])\n",
        "    allp = np.concatenate(results['all_pred'])\n",
        "    rmse = np.sqrt(mean_squared_error(allt, allp)) \n",
        "    return losses, rmse\n",
        "\n",
        "\n",
        "def showtime(model:nn.Module, data: pd.DataFrame, tokenizer:transformers.AutoTokenizer, fold: int) -> dict:    \n",
        "    history = defaultdict(list)\n",
        "    model = model.to(device)\n",
        "    ttr = data[data.kfold != fold].reset_index(drop=True)\n",
        "    vvl = data[data.kfold == fold].reset_index(drop=True)\n",
        "    print(f'Fold: {fold + 1}, --- {ttr.shape, vvl.shape}')\n",
        "\n",
        "    tr = CL_Dataset(ttr,tokenizer, MAX_LEN)\n",
        "    vl = CL_Dataset(vvl,tokenizer, MAX_LEN)\n",
        "    tr_loader = DataLoader(\n",
        "        tr,\n",
        "        batch_size=BATCH,\n",
        "        shuffle=True\n",
        "    )\n",
        "    vl_loader = DataLoader(\n",
        "        vl,\n",
        "        batch_size=BATCH,\n",
        "        shuffle=False\n",
        "    )\n",
        "    optimizer = transformers.AdamW(model.parameters(), lr=2e-5, correct_bias=True)\n",
        "    steps = len(tr_loader) * EPOCH\n",
        "    print(steps, len(tr_loader))\n",
        "    # steps = len(tr_loader)/BATCH * EPOCH\n",
        "    lin_schedule = transformers.get_linear_schedule_with_warmup(\n",
        "        optimizer,\n",
        "        num_warmup_steps=1,\n",
        "        num_training_steps=steps\n",
        "    )\n",
        "    best_rmse = np.inf\n",
        "    for epoch in tqdm(range(EPOCH)):\n",
        "        tr_loss, tr_rmse = train(model, tr_loader, optimizer, lin_schedule, BATCH, MAX_LEN)\n",
        "        vl_loss, vl_rmse = validate(model, vl_loader, BATCH, MAX_LEN)\n",
        "        lr = optimizer.param_groups[0]['lr']\n",
        "        history['train_loss'].append(tr_loss)\n",
        "        history['valid_loss'].append(vl_loss)\n",
        "        history['valid_rms'].append(vl_rmse)\n",
        "        history['lr'].append(lr)\n",
        "        print(f'Epoch: {epoch}, lr: {lr}, train rmse: {tr_rmse}, vl rmse: {vl_rmse}, vl loss: {vl_loss}')\n",
        "        if vl_rmse < best_rmse:\n",
        "            print(f'Save rmse: {vl_rmse}')\n",
        "            torch.save(model.state_dict(), f'{MODEL}_model_{fold}.pth')\n",
        "            best_rmse = vl_rmse\n",
        "    return history"
      ],
      "execution_count": null,
      "outputs": []
    },
    {
      "cell_type": "code",
      "metadata": {
        "id": "o7sEEGipHsfF"
      },
      "source": [
        "class Auto_NLP_model:\n",
        "    def __init__(self, name: str, n_labels: int = 1):\n",
        "        print(f'Auto NLP init model : {name}')\n",
        "        self.name = name\n",
        "        self.n_labels=  n_labels        \n",
        "    \n",
        "    def loads(self):\n",
        "        print('Loading configuraiton...')\n",
        "        model_config = transformers.AutoConfig.from_pretrained(\n",
        "                pretrained_model_name_or_path=self.name,\n",
        "                num_labels=self.n_labels)\n",
        "        print('Loading tokenizer...')\n",
        "        tokenizer = transformers.AutoTokenizer.from_pretrained(\n",
        "                pretrained_model_name_or_path=self.name)\n",
        "        print('Loading model...')\n",
        "        model = transformers.AutoModelForSequenceClassification.from_pretrained(\n",
        "                pretrained_model_name_or_path=self.name,\n",
        "                config=model_config)\n",
        "        return model, tokenizer"
      ],
      "execution_count": null,
      "outputs": []
    },
    {
      "cell_type": "code",
      "metadata": {
        "id": "rnrkOLV73K4h"
      },
      "source": [
        "\"\"\"\n",
        "https://huggingface.co/transformers/pretrained_models.html\n",
        "https://huggingface.co/transformers/model_doc/auto.html\n",
        "\n",
        "\"\"\"\n",
        "\n",
        "m = {\n",
        "    # 'xlm-roberta':'xlm-roberta-base',\n",
        "    # 'deberta': 'microsoft/deberta-base',\n",
        "    # 'xlm':'xlm-mlm-ende-1024',\n",
        "    # 'camembert': 'camembert-base',\n",
        "    # 'mbart': 'facebook/mbart-large-cc25', #memory batch 4 not ends error\n",
        "    'roberta': 'roberta-base' #roberta-large'\n",
        "}"
      ],
      "execution_count": null,
      "outputs": []
    },
    {
      "cell_type": "code",
      "metadata": {
        "colab": {
          "base_uri": "https://localhost:8080/",
          "height": 1000
        },
        "id": "qilBpxo_9ude",
        "outputId": "db7af14a-dced-4df4-a787-7b9fed27b5e8"
      },
      "source": [
        "EPOCH = 15\n",
        "BATCH = 6\n",
        "MAX_LEN = 256\n",
        "\n",
        "for k, v in m.items():\n",
        "    print(k)\n",
        "    model, tokenizer = Auto_NLP_model(v).loads()\n",
        "    MODEL = model.__class__.__name__\n",
        "    fold = 0\n",
        "    title = f'Model: {k} Fold: {fold + 1}'\n",
        "    history = showtime(model, df_folds, tokenizer, fold)\n",
        "    viz_curve(history, title)"
      ],
      "execution_count": null,
      "outputs": [
        {
          "output_type": "stream",
          "text": [
            "roberta\n",
            "Auto NLP init model : roberta-base\n",
            "Loading configuraiton...\n",
            "Loading tokenizer...\n",
            "Loading model...\n"
          ],
          "name": "stdout"
        },
        {
          "output_type": "stream",
          "text": [
            "Some weights of the model checkpoint at roberta-base were not used when initializing RobertaForSequenceClassification: ['roberta.pooler.dense.bias', 'lm_head.dense.bias', 'lm_head.bias', 'roberta.pooler.dense.weight', 'lm_head.layer_norm.weight', 'lm_head.dense.weight', 'lm_head.layer_norm.bias', 'lm_head.decoder.weight']\n",
            "- This IS expected if you are initializing RobertaForSequenceClassification from the checkpoint of a model trained on another task or with another architecture (e.g. initializing a BertForSequenceClassification model from a BertForPreTraining model).\n",
            "- This IS NOT expected if you are initializing RobertaForSequenceClassification from the checkpoint of a model that you expect to be exactly identical (initializing a BertForSequenceClassification model from a BertForSequenceClassification model).\n",
            "Some weights of RobertaForSequenceClassification were not initialized from the model checkpoint at roberta-base and are newly initialized: ['classifier.out_proj.bias', 'classifier.dense.bias', 'classifier.out_proj.weight', 'classifier.dense.weight']\n",
            "You should probably TRAIN this model on a down-stream task to be able to use it for predictions and inference.\n"
          ],
          "name": "stderr"
        },
        {
          "output_type": "stream",
          "text": [
            "Fold: 1, --- ((2267, 8), (567, 8))\n",
            "5670 378\n"
          ],
          "name": "stdout"
        },
        {
          "output_type": "stream",
          "text": [
            "\r  0%|          | 0/15 [00:00<?, ?it/s]"
          ],
          "name": "stderr"
        },
        {
          "output_type": "stream",
          "text": [
            "Epoch: 0, lr: 1.866995942847063e-05, train rmse: 0.7436621189117432, vl rmse: 0.6540188789367676, vl loss: 0.6269398927688599\n",
            "Save rmse: 0.6540188789367676\n"
          ],
          "name": "stdout"
        },
        {
          "output_type": "stream",
          "text": [
            "\r  7%|▋         | 1/15 [04:03<56:50, 243.59s/it]"
          ],
          "name": "stderr"
        },
        {
          "output_type": "stream",
          "text": [
            "Epoch: 1, lr: 1.7336390897865588e-05, train rmse: 0.5260870456695557, vl rmse: 0.6349746584892273, vl loss: 0.6099616289138794\n",
            "Save rmse: 0.6349746584892273\n"
          ],
          "name": "stdout"
        },
        {
          "output_type": "stream",
          "text": [
            " 20%|██        | 3/15 [12:09<48:35, 242.93s/it]"
          ],
          "name": "stderr"
        },
        {
          "output_type": "stream",
          "text": [
            "Epoch: 2, lr: 1.6002822367260542e-05, train rmse: 0.4299793243408203, vl rmse: 0.6682462096214294, vl loss: 0.6423256397247314\n",
            "Epoch: 3, lr: 1.4669253836655498e-05, train rmse: 0.36037909984588623, vl rmse: 0.543418824672699, vl loss: 0.5201668739318848\n",
            "Save rmse: 0.543418824672699\n"
          ],
          "name": "stdout"
        },
        {
          "output_type": "stream",
          "text": [
            " 33%|███▎      | 5/15 [20:15<40:29, 242.91s/it]"
          ],
          "name": "stderr"
        },
        {
          "output_type": "stream",
          "text": [
            "Epoch: 4, lr: 1.333568530605045e-05, train rmse: 0.3064141869544983, vl rmse: 0.5811491012573242, vl loss: 0.5575568079948425\n"
          ],
          "name": "stdout"
        },
        {
          "output_type": "stream",
          "text": [
            "\r 40%|████      | 6/15 [24:17<36:24, 242.74s/it]"
          ],
          "name": "stderr"
        },
        {
          "output_type": "stream",
          "text": [
            "Epoch: 5, lr: 1.2002116775445406e-05, train rmse: 0.2750021517276764, vl rmse: 0.582738995552063, vl loss: 0.5591065883636475\n",
            "Epoch: 6, lr: 1.066854824484036e-05, train rmse: 0.241420716047287, vl rmse: 0.5221829414367676, vl loss: 0.4948228895664215\n",
            "Save rmse: 0.5221829414367676\n"
          ],
          "name": "stdout"
        },
        {
          "output_type": "stream",
          "text": [
            " 53%|█████▎    | 8/15 [32:23<28:20, 242.88s/it]"
          ],
          "name": "stderr"
        },
        {
          "output_type": "stream",
          "text": [
            "Epoch: 7, lr: 9.334979714235315e-06, train rmse: 0.22280079126358032, vl rmse: 0.5436638593673706, vl loss: 0.5197162628173828\n"
          ],
          "name": "stdout"
        },
        {
          "output_type": "stream",
          "text": [
            "\r 60%|██████    | 9/15 [36:26<24:16, 242.72s/it]"
          ],
          "name": "stderr"
        },
        {
          "output_type": "stream",
          "text": [
            "Epoch: 8, lr: 8.001411183630271e-06, train rmse: 0.1977776437997818, vl rmse: 0.5721029043197632, vl loss: 0.5503267645835876\n"
          ],
          "name": "stdout"
        },
        {
          "output_type": "stream",
          "text": [
            "\r 67%|██████▋   | 10/15 [40:30<20:16, 243.21s/it]"
          ],
          "name": "stderr"
        },
        {
          "output_type": "stream",
          "text": [
            "Epoch: 9, lr: 6.667842653025225e-06, train rmse: 0.18672426044940948, vl rmse: 0.5271970629692078, vl loss: 0.5030388236045837\n"
          ],
          "name": "stdout"
        },
        {
          "output_type": "stream",
          "text": [
            "\r 73%|███████▎  | 11/15 [44:35<16:14, 243.60s/it]"
          ],
          "name": "stderr"
        },
        {
          "output_type": "stream",
          "text": [
            "Epoch: 10, lr: 5.33427412242018e-06, train rmse: 0.16900299489498138, vl rmse: 0.5574540495872498, vl loss: 0.5334554314613342\n"
          ],
          "name": "stdout"
        },
        {
          "output_type": "stream",
          "text": [
            "\r 80%|████████  | 12/15 [48:39<12:11, 243.90s/it]"
          ],
          "name": "stderr"
        },
        {
          "output_type": "stream",
          "text": [
            "Epoch: 11, lr: 4.0007055918151355e-06, train rmse: 0.15365661680698395, vl rmse: 0.5263659954071045, vl loss: 0.5023990273475647\n"
          ],
          "name": "stdout"
        },
        {
          "output_type": "stream",
          "text": [
            "\r 87%|████████▋ | 13/15 [52:44<08:08, 244.14s/it]"
          ],
          "name": "stderr"
        },
        {
          "output_type": "stream",
          "text": [
            "Epoch: 12, lr: 2.66713706121009e-06, train rmse: 0.14275813102722168, vl rmse: 0.585809588432312, vl loss: 0.562573254108429\n"
          ],
          "name": "stdout"
        },
        {
          "output_type": "stream",
          "text": [
            "\r 93%|█████████▎| 14/15 [56:48<04:04, 244.24s/it]"
          ],
          "name": "stderr"
        },
        {
          "output_type": "stream",
          "text": [
            "Epoch: 13, lr: 1.333568530605045e-06, train rmse: 0.13657480478286743, vl rmse: 0.5636139512062073, vl loss: 0.5399689674377441\n"
          ],
          "name": "stdout"
        },
        {
          "output_type": "stream",
          "text": [
            "100%|██████████| 15/15 [1:00:53<00:00, 243.57s/it]"
          ],
          "name": "stderr"
        },
        {
          "output_type": "stream",
          "text": [
            "Epoch: 14, lr: 0.0, train rmse: 0.12706246972084045, vl rmse: 0.5606884360313416, vl loss: 0.5367791652679443\n"
          ],
          "name": "stdout"
        },
        {
          "output_type": "stream",
          "text": [
            "\n"
          ],
          "name": "stderr"
        },
        {
          "output_type": "display_data",
          "data": {
            "text/html": [
              "<html>\n",
              "<head><meta charset=\"utf-8\" /></head>\n",
              "<body>\n",
              "    <div>\n",
              "            <script src=\"https://cdnjs.cloudflare.com/ajax/libs/mathjax/2.7.5/MathJax.js?config=TeX-AMS-MML_SVG\"></script><script type=\"text/javascript\">if (window.MathJax) {MathJax.Hub.Config({SVG: {font: \"STIX-Web\"}});}</script>\n",
              "                <script type=\"text/javascript\">window.PlotlyConfig = {MathJaxConfig: 'local'};</script>\n",
              "        <script src=\"https://cdn.plot.ly/plotly-latest.min.js\"></script>    \n",
              "            <div id=\"e6e78165-9f11-49c4-9242-666f661c33f0\" class=\"plotly-graph-div\" style=\"height:600px; width:600px;\"></div>\n",
              "            <script type=\"text/javascript\">\n",
              "                \n",
              "                    window.PLOTLYENV=window.PLOTLYENV || {};\n",
              "                    \n",
              "                if (document.getElementById(\"e6e78165-9f11-49c4-9242-666f661c33f0\")) {\n",
              "                    Plotly.newPlot(\n",
              "                        'e6e78165-9f11-49c4-9242-666f661c33f0',\n",
              "                        [{\"mode\": \"lines+markers\", \"name\": \"Train Loss\", \"type\": \"scatter\", \"x\": [1, 2, 3, 4, 5, 6, 7, 8, 9, 10, 11, 12, 13, 14, 15], \"xaxis\": \"x\", \"y\": [0.7005594372749329, 0.5061014294624329, 0.41116461157798767, 0.3445952832698822, 0.2917669415473938, 0.2610720992088318, 0.22887785732746124, 0.21034856140613556, 0.18829938769340515, 0.17742207646369934, 0.16159529983997345, 0.1463158279657364, 0.13561250269412994, 0.13032947480678558, 0.1211540475487709], \"yaxis\": \"y\"}, {\"mode\": \"lines+markers\", \"name\": \"Valid Loss\", \"type\": \"scatter\", \"x\": [1, 2, 3, 4, 5, 6, 7, 8, 9, 10, 11, 12, 13, 14, 15], \"xaxis\": \"x\", \"y\": [0.6269398927688599, 0.6099616289138794, 0.6423256397247314, 0.5201668739318848, 0.5575568079948425, 0.5591065883636475, 0.4948228895664215, 0.5197162628173828, 0.5503267645835876, 0.5030388236045837, 0.5334554314613342, 0.5023990273475647, 0.562573254108429, 0.5399689674377441, 0.5367791652679443], \"yaxis\": \"y\"}, {\"mode\": \"lines+markers\", \"name\": \"RMSE\", \"type\": \"scatter\", \"x\": [1, 2, 3, 4, 5, 6, 7, 8, 9, 10, 11, 12, 13, 14, 15], \"xaxis\": \"x2\", \"y\": [0.6540188789367676, 0.6349746584892273, 0.6682462096214294, 0.543418824672699, 0.5811491012573242, 0.582738995552063, 0.5221829414367676, 0.5436638593673706, 0.5721029043197632, 0.5271970629692078, 0.5574540495872498, 0.5263659954071045, 0.585809588432312, 0.5636139512062073, 0.5606884360313416], \"yaxis\": \"y2\"}, {\"mode\": \"lines+markers\", \"name\": \"LR\", \"type\": \"scatter\", \"x\": [1, 2, 3, 4, 5, 6, 7, 8, 9, 10, 11, 12, 13, 14, 15], \"xaxis\": \"x3\", \"y\": [1.866995942847063e-05, 1.7336390897865588e-05, 1.6002822367260542e-05, 1.4669253836655498e-05, 1.333568530605045e-05, 1.2002116775445406e-05, 1.066854824484036e-05, 9.334979714235315e-06, 8.001411183630271e-06, 6.667842653025225e-06, 5.33427412242018e-06, 4.0007055918151355e-06, 2.66713706121009e-06, 1.333568530605045e-06, 0.0], \"yaxis\": \"y3\"}],\n",
              "                        {\"annotations\": [{\"font\": {\"size\": 16}, \"showarrow\": false, \"text\": \"Loss Curve\", \"x\": 0.5, \"xanchor\": \"center\", \"xref\": \"paper\", \"y\": 1.0, \"yanchor\": \"bottom\", \"yref\": \"paper\"}, {\"font\": {\"size\": 16}, \"showarrow\": false, \"text\": \"RMSE\", \"x\": 0.225, \"xanchor\": \"center\", \"xref\": \"paper\", \"y\": 0.455, \"yanchor\": \"bottom\", \"yref\": \"paper\"}, {\"font\": {\"size\": 16}, \"showarrow\": false, \"text\": \"LR\", \"x\": 0.775, \"xanchor\": \"center\", \"xref\": \"paper\", \"y\": 0.455, \"yanchor\": \"bottom\", \"yref\": \"paper\"}], \"height\": 600, \"margin\": {\"b\": 20, \"l\": 10, \"r\": 10, \"t\": 30}, \"showlegend\": false, \"template\": {\"data\": {\"bar\": [{\"error_x\": {\"color\": \"#f2f5fa\"}, \"error_y\": {\"color\": \"#f2f5fa\"}, \"marker\": {\"line\": {\"color\": \"rgb(17,17,17)\", \"width\": 0.5}}, \"type\": \"bar\"}], \"barpolar\": [{\"marker\": {\"line\": {\"color\": \"rgb(17,17,17)\", \"width\": 0.5}}, \"type\": \"barpolar\"}], \"carpet\": [{\"aaxis\": {\"endlinecolor\": \"#A2B1C6\", \"gridcolor\": \"#506784\", \"linecolor\": \"#506784\", \"minorgridcolor\": \"#506784\", \"startlinecolor\": \"#A2B1C6\"}, \"baxis\": {\"endlinecolor\": \"#A2B1C6\", \"gridcolor\": \"#506784\", \"linecolor\": \"#506784\", \"minorgridcolor\": \"#506784\", \"startlinecolor\": \"#A2B1C6\"}, \"type\": \"carpet\"}], \"choropleth\": [{\"colorbar\": {\"outlinewidth\": 0, \"ticks\": \"\"}, \"type\": \"choropleth\"}], \"contour\": [{\"colorbar\": {\"outlinewidth\": 0, \"ticks\": \"\"}, \"colorscale\": [[0.0, \"#0d0887\"], [0.1111111111111111, \"#46039f\"], [0.2222222222222222, \"#7201a8\"], [0.3333333333333333, \"#9c179e\"], [0.4444444444444444, \"#bd3786\"], [0.5555555555555556, \"#d8576b\"], [0.6666666666666666, \"#ed7953\"], [0.7777777777777778, \"#fb9f3a\"], [0.8888888888888888, \"#fdca26\"], [1.0, \"#f0f921\"]], \"type\": \"contour\"}], \"contourcarpet\": [{\"colorbar\": {\"outlinewidth\": 0, \"ticks\": \"\"}, \"type\": \"contourcarpet\"}], \"heatmap\": [{\"colorbar\": {\"outlinewidth\": 0, \"ticks\": \"\"}, \"colorscale\": [[0.0, \"#0d0887\"], [0.1111111111111111, \"#46039f\"], [0.2222222222222222, \"#7201a8\"], [0.3333333333333333, \"#9c179e\"], [0.4444444444444444, \"#bd3786\"], [0.5555555555555556, \"#d8576b\"], [0.6666666666666666, \"#ed7953\"], [0.7777777777777778, \"#fb9f3a\"], [0.8888888888888888, \"#fdca26\"], [1.0, \"#f0f921\"]], \"type\": \"heatmap\"}], \"heatmapgl\": [{\"colorbar\": {\"outlinewidth\": 0, \"ticks\": \"\"}, \"colorscale\": [[0.0, \"#0d0887\"], [0.1111111111111111, \"#46039f\"], [0.2222222222222222, \"#7201a8\"], [0.3333333333333333, \"#9c179e\"], [0.4444444444444444, \"#bd3786\"], [0.5555555555555556, \"#d8576b\"], [0.6666666666666666, \"#ed7953\"], [0.7777777777777778, \"#fb9f3a\"], [0.8888888888888888, \"#fdca26\"], [1.0, \"#f0f921\"]], \"type\": \"heatmapgl\"}], \"histogram\": [{\"marker\": {\"colorbar\": {\"outlinewidth\": 0, \"ticks\": \"\"}}, \"type\": \"histogram\"}], \"histogram2d\": [{\"colorbar\": {\"outlinewidth\": 0, \"ticks\": \"\"}, \"colorscale\": [[0.0, \"#0d0887\"], [0.1111111111111111, \"#46039f\"], [0.2222222222222222, \"#7201a8\"], [0.3333333333333333, \"#9c179e\"], [0.4444444444444444, \"#bd3786\"], [0.5555555555555556, \"#d8576b\"], [0.6666666666666666, \"#ed7953\"], [0.7777777777777778, \"#fb9f3a\"], [0.8888888888888888, \"#fdca26\"], [1.0, \"#f0f921\"]], \"type\": \"histogram2d\"}], \"histogram2dcontour\": [{\"colorbar\": {\"outlinewidth\": 0, \"ticks\": \"\"}, \"colorscale\": [[0.0, \"#0d0887\"], [0.1111111111111111, \"#46039f\"], [0.2222222222222222, \"#7201a8\"], [0.3333333333333333, \"#9c179e\"], [0.4444444444444444, \"#bd3786\"], [0.5555555555555556, \"#d8576b\"], [0.6666666666666666, \"#ed7953\"], [0.7777777777777778, \"#fb9f3a\"], [0.8888888888888888, \"#fdca26\"], [1.0, \"#f0f921\"]], \"type\": \"histogram2dcontour\"}], \"mesh3d\": [{\"colorbar\": {\"outlinewidth\": 0, \"ticks\": \"\"}, \"type\": \"mesh3d\"}], \"parcoords\": [{\"line\": {\"colorbar\": {\"outlinewidth\": 0, \"ticks\": \"\"}}, \"type\": \"parcoords\"}], \"pie\": [{\"automargin\": true, \"type\": \"pie\"}], \"scatter\": [{\"marker\": {\"line\": {\"color\": \"#283442\"}}, \"type\": \"scatter\"}], \"scatter3d\": [{\"line\": {\"colorbar\": {\"outlinewidth\": 0, \"ticks\": \"\"}}, \"marker\": {\"colorbar\": {\"outlinewidth\": 0, \"ticks\": \"\"}}, \"type\": \"scatter3d\"}], \"scattercarpet\": [{\"marker\": {\"colorbar\": {\"outlinewidth\": 0, \"ticks\": \"\"}}, \"type\": \"scattercarpet\"}], \"scattergeo\": [{\"marker\": {\"colorbar\": {\"outlinewidth\": 0, \"ticks\": \"\"}}, \"type\": \"scattergeo\"}], \"scattergl\": [{\"marker\": {\"line\": {\"color\": \"#283442\"}}, \"type\": \"scattergl\"}], \"scattermapbox\": [{\"marker\": {\"colorbar\": {\"outlinewidth\": 0, \"ticks\": \"\"}}, \"type\": \"scattermapbox\"}], \"scatterpolar\": [{\"marker\": {\"colorbar\": {\"outlinewidth\": 0, \"ticks\": \"\"}}, \"type\": \"scatterpolar\"}], \"scatterpolargl\": [{\"marker\": {\"colorbar\": {\"outlinewidth\": 0, \"ticks\": \"\"}}, \"type\": \"scatterpolargl\"}], \"scatterternary\": [{\"marker\": {\"colorbar\": {\"outlinewidth\": 0, \"ticks\": \"\"}}, \"type\": \"scatterternary\"}], \"surface\": [{\"colorbar\": {\"outlinewidth\": 0, \"ticks\": \"\"}, \"colorscale\": [[0.0, \"#0d0887\"], [0.1111111111111111, \"#46039f\"], [0.2222222222222222, \"#7201a8\"], [0.3333333333333333, \"#9c179e\"], [0.4444444444444444, \"#bd3786\"], [0.5555555555555556, \"#d8576b\"], [0.6666666666666666, \"#ed7953\"], [0.7777777777777778, \"#fb9f3a\"], [0.8888888888888888, \"#fdca26\"], [1.0, \"#f0f921\"]], \"type\": \"surface\"}], \"table\": [{\"cells\": {\"fill\": {\"color\": \"#506784\"}, \"line\": {\"color\": \"rgb(17,17,17)\"}}, \"header\": {\"fill\": {\"color\": \"#2a3f5f\"}, \"line\": {\"color\": \"rgb(17,17,17)\"}}, \"type\": \"table\"}]}, \"layout\": {\"annotationdefaults\": {\"arrowcolor\": \"#f2f5fa\", \"arrowhead\": 0, \"arrowwidth\": 1}, \"coloraxis\": {\"colorbar\": {\"outlinewidth\": 0, \"ticks\": \"\"}}, \"colorscale\": {\"diverging\": [[0, \"#8e0152\"], [0.1, \"#c51b7d\"], [0.2, \"#de77ae\"], [0.3, \"#f1b6da\"], [0.4, \"#fde0ef\"], [0.5, \"#f7f7f7\"], [0.6, \"#e6f5d0\"], [0.7, \"#b8e186\"], [0.8, \"#7fbc41\"], [0.9, \"#4d9221\"], [1, \"#276419\"]], \"sequential\": [[0.0, \"#0d0887\"], [0.1111111111111111, \"#46039f\"], [0.2222222222222222, \"#7201a8\"], [0.3333333333333333, \"#9c179e\"], [0.4444444444444444, \"#bd3786\"], [0.5555555555555556, \"#d8576b\"], [0.6666666666666666, \"#ed7953\"], [0.7777777777777778, \"#fb9f3a\"], [0.8888888888888888, \"#fdca26\"], [1.0, \"#f0f921\"]], \"sequentialminus\": [[0.0, \"#0d0887\"], [0.1111111111111111, \"#46039f\"], [0.2222222222222222, \"#7201a8\"], [0.3333333333333333, \"#9c179e\"], [0.4444444444444444, \"#bd3786\"], [0.5555555555555556, \"#d8576b\"], [0.6666666666666666, \"#ed7953\"], [0.7777777777777778, \"#fb9f3a\"], [0.8888888888888888, \"#fdca26\"], [1.0, \"#f0f921\"]]}, \"colorway\": [\"#636efa\", \"#EF553B\", \"#00cc96\", \"#ab63fa\", \"#FFA15A\", \"#19d3f3\", \"#FF6692\", \"#B6E880\", \"#FF97FF\", \"#FECB52\"], \"font\": {\"color\": \"#f2f5fa\"}, \"geo\": {\"bgcolor\": \"rgb(17,17,17)\", \"lakecolor\": \"rgb(17,17,17)\", \"landcolor\": \"rgb(17,17,17)\", \"showlakes\": true, \"showland\": true, \"subunitcolor\": \"#506784\"}, \"hoverlabel\": {\"align\": \"left\"}, \"hovermode\": \"closest\", \"mapbox\": {\"style\": \"dark\"}, \"paper_bgcolor\": \"rgb(17,17,17)\", \"plot_bgcolor\": \"rgb(17,17,17)\", \"polar\": {\"angularaxis\": {\"gridcolor\": \"#506784\", \"linecolor\": \"#506784\", \"ticks\": \"\"}, \"bgcolor\": \"rgb(17,17,17)\", \"radialaxis\": {\"gridcolor\": \"#506784\", \"linecolor\": \"#506784\", \"ticks\": \"\"}}, \"scene\": {\"xaxis\": {\"backgroundcolor\": \"rgb(17,17,17)\", \"gridcolor\": \"#506784\", \"gridwidth\": 2, \"linecolor\": \"#506784\", \"showbackground\": true, \"ticks\": \"\", \"zerolinecolor\": \"#C8D4E3\"}, \"yaxis\": {\"backgroundcolor\": \"rgb(17,17,17)\", \"gridcolor\": \"#506784\", \"gridwidth\": 2, \"linecolor\": \"#506784\", \"showbackground\": true, \"ticks\": \"\", \"zerolinecolor\": \"#C8D4E3\"}, \"zaxis\": {\"backgroundcolor\": \"rgb(17,17,17)\", \"gridcolor\": \"#506784\", \"gridwidth\": 2, \"linecolor\": \"#506784\", \"showbackground\": true, \"ticks\": \"\", \"zerolinecolor\": \"#C8D4E3\"}}, \"shapedefaults\": {\"line\": {\"color\": \"#f2f5fa\"}}, \"sliderdefaults\": {\"bgcolor\": \"#C8D4E3\", \"bordercolor\": \"rgb(17,17,17)\", \"borderwidth\": 1, \"tickwidth\": 0}, \"ternary\": {\"aaxis\": {\"gridcolor\": \"#506784\", \"linecolor\": \"#506784\", \"ticks\": \"\"}, \"baxis\": {\"gridcolor\": \"#506784\", \"linecolor\": \"#506784\", \"ticks\": \"\"}, \"bgcolor\": \"rgb(17,17,17)\", \"caxis\": {\"gridcolor\": \"#506784\", \"linecolor\": \"#506784\", \"ticks\": \"\"}}, \"title\": {\"x\": 0.05}, \"updatemenudefaults\": {\"bgcolor\": \"#506784\", \"borderwidth\": 0}, \"xaxis\": {\"automargin\": true, \"gridcolor\": \"#283442\", \"linecolor\": \"#506784\", \"ticks\": \"\", \"title\": {\"standoff\": 15}, \"zerolinecolor\": \"#283442\", \"zerolinewidth\": 2}, \"yaxis\": {\"automargin\": true, \"gridcolor\": \"#283442\", \"linecolor\": \"#506784\", \"ticks\": \"\", \"title\": {\"standoff\": 15}, \"zerolinecolor\": \"#283442\", \"zerolinewidth\": 2}}}, \"title\": {\"text\": \"Model: roberta Fold: 1\"}, \"width\": 600, \"xaxis\": {\"anchor\": \"y\", \"domain\": [0.0, 1.0]}, \"xaxis2\": {\"anchor\": \"y2\", \"domain\": [0.0, 0.45]}, \"xaxis3\": {\"anchor\": \"y3\", \"domain\": [0.55, 1.0]}, \"yaxis\": {\"anchor\": \"x\", \"domain\": [0.545, 1.0]}, \"yaxis2\": {\"anchor\": \"x2\", \"domain\": [0.0, 0.455]}, \"yaxis3\": {\"anchor\": \"x3\", \"domain\": [0.0, 0.455]}},\n",
              "                        {\"responsive\": true}\n",
              "                    ).then(function(){\n",
              "                            \n",
              "var gd = document.getElementById('e6e78165-9f11-49c4-9242-666f661c33f0');\n",
              "var x = new MutationObserver(function (mutations, observer) {{\n",
              "        var display = window.getComputedStyle(gd).display;\n",
              "        if (!display || display === 'none') {{\n",
              "            console.log([gd, 'removed!']);\n",
              "            Plotly.purge(gd);\n",
              "            observer.disconnect();\n",
              "        }}\n",
              "}});\n",
              "\n",
              "// Listen for the removal of the full notebook cells\n",
              "var notebookContainer = gd.closest('#notebook-container');\n",
              "if (notebookContainer) {{\n",
              "    x.observe(notebookContainer, {childList: true});\n",
              "}}\n",
              "\n",
              "// Listen for the clearing of the current output cell\n",
              "var outputEl = gd.closest('.output');\n",
              "if (outputEl) {{\n",
              "    x.observe(outputEl, {childList: true});\n",
              "}}\n",
              "\n",
              "                        })\n",
              "                };\n",
              "                \n",
              "            </script>\n",
              "        </div>\n",
              "</body>\n",
              "</html>"
            ]
          },
          "metadata": {
            "tags": []
          }
        }
      ]
    },
    {
      "cell_type": "markdown",
      "metadata": {
        "id": "wslT6E7nbtuG"
      },
      "source": [
        "### results:"
      ]
    },
    {
      "cell_type": "markdown",
      "metadata": {
        "id": "4pgWHou-08Sq"
      },
      "source": [
        "results model roberta-large(~1h:45min):\n",
        "\n",
        "```\n",
        "# This is formatted as code\n",
        "Fold: 1, --- ((2267, 8), (567, 8))\n",
        "  0%|          | 0/15 [00:00<?, ?it/s]Epoch: 0, lr: 1.866995942847063e-05, train rmse: 0.771242618560791, vl rmse: 0.5320066809654236, vl loss: 0.5065193772315979\n",
        "Save rmse: 0.5320066809654236\n",
        " 13%|█▎        | 2/15 [13:49<1:30:08, 416.03s/it]Epoch: 1, lr: 1.7336390897865588e-05, train rmse: 0.5480484366416931, vl rmse: 0.7261704802513123, vl loss: 0.7056165933609009\n",
        " 20%|██        | 3/15 [20:51<1:23:43, 418.63s/it]Epoch: 2, lr: 1.6002822367260542e-05, train rmse: 0.45481783151626587, vl rmse: 0.5933656096458435, vl loss: 0.5674742460250854\n",
        " 27%|██▋       | 4/15 [27:52<1:16:56, 419.67s/it]Epoch: 3, lr: 1.4669253836655498e-05, train rmse: 0.3679790794849396, vl rmse: 0.6310817003250122, vl loss: 0.6084640622138977\n",
        " 33%|███▎      | 5/15 [34:54<1:10:04, 420.41s/it]Epoch: 4, lr: 1.333568530605045e-05, train rmse: 0.3390931189060211, vl rmse: 0.7398288249969482, vl loss: 0.721051037311554\n",
        " 40%|████      | 6/15 [41:56<1:03:08, 420.91s/it]Epoch: 5, lr: 1.2002116775445406e-05, train rmse: 0.2956746220588684, vl rmse: 0.5392723083496094, vl loss: 0.5154401659965515\n",
        " 47%|████▋     | 7/15 [48:58<56:11, 421.40s/it]  Epoch: 6, lr: 1.066854824484036e-05, train rmse: 0.2643064260482788, vl rmse: 0.5453745126724243, vl loss: 0.5227868556976318\n",
        " 53%|█████▎    | 8/15 [56:01<49:11, 421.65s/it]Epoch: 7, lr: 9.334979714235315e-06, train rmse: 0.25952309370040894, vl rmse: 0.6315166354179382, vl loss: 0.6088392734527588\n",
        " 60%|██████    | 9/15 [1:03:03<42:11, 421.85s/it]Epoch: 8, lr: 8.001411183630271e-06, train rmse: 0.2210676074028015, vl rmse: 0.659906804561615, vl loss: 0.6411230564117432\n",
        " 67%|██████▋   | 10/15 [1:10:05<35:10, 422.07s/it]Epoch: 9, lr: 6.667842653025225e-06, train rmse: 0.21520286798477173, vl rmse: 0.5818750262260437, vl loss: 0.5584777593612671\n",
        "Epoch: 10, lr: 5.33427412242018e-06, train rmse: 0.20328344404697418, vl rmse: 0.5239043235778809, vl loss: 0.4989898204803467\n",
        "Save rmse: 0.5239043235778809\n",
        " 80%|████████  | 12/15 [1:24:15<21:09, 423.21s/it]Epoch: 11, lr: 4.0007055918151355e-06, train rmse: 0.18055203557014465, vl rmse: 0.5367754697799683, vl loss: 0.5130714178085327\n",
        " 87%|████████▋ | 13/15 [1:31:17<14:05, 422.95s/it]Epoch: 12, lr: 2.66713706121009e-06, train rmse: 0.1665629744529724, vl rmse: 0.5970629453659058, vl loss: 0.5752689838409424\n",
        " 93%|█████████▎| 14/15 [1:38:19<07:02, 422.65s/it]Epoch: 13, lr: 1.333568530605045e-06, train rmse: 0.15745727717876434, vl rmse: 0.5785849094390869, vl loss: 0.5563144683837891\n",
        "100%|██████████| 15/15 [1:45:21<00:00, 421.43s/it]Epoch: 14, lr: 0.0, train rmse: 0.14649353921413422, vl rmse: 0.5729362964630127, vl loss: 0.5512558817863464\n",
        "\n",
        "make small version robrta base 1h:\n",
        "\n",
        "Fold: 1, --- ((2267, 8), (567, 8))\n",
        "5670 378\n",
        "  0%|          | 0/15 [00:00<?, ?it/s]Epoch: 0, lr: 1.866995942847063e-05, train rmse: 0.7436621189117432, vl rmse: 0.6540188789367676, vl loss: 0.6269398927688599\n",
        "Save rmse: 0.6540188789367676\n",
        "  7%|▋         | 1/15 [04:03<56:50, 243.59s/it]Epoch: 1, lr: 1.7336390897865588e-05, train rmse: 0.5260870456695557, vl rmse: 0.6349746584892273, vl loss: 0.6099616289138794\n",
        "Save rmse: 0.6349746584892273\n",
        " 20%|██        | 3/15 [12:09<48:35, 242.93s/it]Epoch: 2, lr: 1.6002822367260542e-05, train rmse: 0.4299793243408203, vl rmse: 0.6682462096214294, vl loss: 0.6423256397247314\n",
        "Epoch: 3, lr: 1.4669253836655498e-05, train rmse: 0.36037909984588623, vl rmse: 0.543418824672699, vl loss: 0.5201668739318848\n",
        "Save rmse: 0.543418824672699\n",
        " 33%|███▎      | 5/15 [20:15<40:29, 242.91s/it]Epoch: 4, lr: 1.333568530605045e-05, train rmse: 0.3064141869544983, vl rmse: 0.5811491012573242, vl loss: 0.5575568079948425\n",
        " 40%|████      | 6/15 [24:17<36:24, 242.74s/it]Epoch: 5, lr: 1.2002116775445406e-05, train rmse: 0.2750021517276764, vl rmse: 0.582738995552063, vl loss: 0.5591065883636475\n",
        "Epoch: 6, lr: 1.066854824484036e-05, train rmse: 0.241420716047287, vl rmse: 0.5221829414367676, vl loss: 0.4948228895664215\n",
        "Save rmse: 0.5221829414367676\n",
        " 53%|█████▎    | 8/15 [32:23<28:20, 242.88s/it]Epoch: 7, lr: 9.334979714235315e-06, train rmse: 0.22280079126358032, vl rmse: 0.5436638593673706, vl loss: 0.5197162628173828\n",
        " 60%|██████    | 9/15 [36:26<24:16, 242.72s/it]Epoch: 8, lr: 8.001411183630271e-06, train rmse: 0.1977776437997818, vl rmse: 0.5721029043197632, vl loss: 0.5503267645835876\n",
        " 67%|██████▋   | 10/15 [40:30<20:16, 243.21s/it]Epoch: 9, lr: 6.667842653025225e-06, train rmse: 0.18672426044940948, vl rmse: 0.5271970629692078, vl loss: 0.5030388236045837\n",
        " 73%|███████▎  | 11/15 [44:35<16:14, 243.60s/it]Epoch: 10, lr: 5.33427412242018e-06, train rmse: 0.16900299489498138, vl rmse: 0.5574540495872498, vl loss: 0.5334554314613342\n",
        " 80%|████████  | 12/15 [48:39<12:11, 243.90s/it]Epoch: 11, lr: 4.0007055918151355e-06, train rmse: 0.15365661680698395, vl rmse: 0.5263659954071045, vl loss: 0.5023990273475647\n",
        " 87%|████████▋ | 13/15 [52:44<08:08, 244.14s/it]Epoch: 12, lr: 2.66713706121009e-06, train rmse: 0.14275813102722168, vl rmse: 0.585809588432312, vl loss: 0.562573254108429\n",
        " 93%|█████████▎| 14/15 [56:48<04:04, 244.24s/it]Epoch: 13, lr: 1.333568530605045e-06, train rmse: 0.13657480478286743, vl rmse: 0.5636139512062073, vl loss: 0.5399689674377441\n",
        "100%|██████████| 15/15 [1:00:53<00:00, 243.57s/it]Epoch: 14, lr: 0.0, train rmse: 0.12706246972084045, vl rmse: 0.5606884360313416, vl loss: 0.5367791652679443\n",
        "\n",
        "\n",
        "```"
      ]
    },
    {
      "cell_type": "markdown",
      "metadata": {
        "id": "g8pEUOfA1YgU"
      },
      "source": [
        "## adds something new\n",
        "readme:\n",
        "- https://huggingface.co/transformers/model_summary.html\n",
        " \n",
        "\n",
        "TODO:\n",
        "- https://www.kaggle.com/rhtsingh/commonlit-readability-prize-roberta-torch-itpt\n",
        "- https://huggingface.co/blog/accelerate-library\n",
        "\n",
        "PS:\n",
        "- https://www.kaggle.com/c/commonlitreadabilityprize/discussion/257629\n",
        "\n"
      ]
    },
    {
      "cell_type": "markdown",
      "metadata": {
        "id": "XSKRBHwlqMj-"
      },
      "source": [
        "### [huggingface course](https://huggingface.co/course/chapter1)\n",
        "\n",
        "«Повторение — мать учения и прибежище ослов»"
      ]
    },
    {
      "cell_type": "code",
      "metadata": {
        "id": "gl7itTSpNSxo"
      },
      "source": [
        "from IPython.display import clear_output, Image\n",
        "!pip install transformers\n",
        "clear_output()"
      ],
      "execution_count": 1,
      "outputs": []
    },
    {
      "cell_type": "code",
      "metadata": {
        "id": "lj4b4iIrNSu8"
      },
      "source": [
        "import transformers"
      ],
      "execution_count": 2,
      "outputs": []
    },
    {
      "cell_type": "markdown",
      "metadata": {
        "id": "c1duDCflrZOe"
      },
      "source": [
        "#### pipelines\n",
        "\n",
        "```\n",
        "Some of the currently available pipelines are:\n",
        "- feature-extraction (get the vector representation of a text)\n",
        "- fill-mask\n",
        "- ner (named entity recognition)\n",
        "- question-answering\n",
        "- sentiment-analysis\n",
        "- summarization\n",
        "- text-generation\n",
        "- translation\n",
        "- zero-shot-classification\n",
        "```"
      ]
    },
    {
      "cell_type": "markdown",
      "metadata": {
        "id": "t7wWncBKuibq"
      },
      "source": [
        "Zero-shot classification\n",
        "Мы начнем с решения более сложной задачи, когда нам нужно классифицировать тексты без маркировки. \n",
        "\n",
        "Это распространенный сценарий в реальных проектах, потому что аннотирование текста обычно занимает много времени и требует знаний в предметной области.\n",
        "\n",
        "Для этого варианта использования конвейер классификации с нулевым выстрелом очень эффективен: **он позволяет указать, какие метки использовать для классификации, поэтому вам не нужно полагаться на метки предварительно обученной модели**.\n",
        "\n",
        "Hit:\n",
        "Этот конвейер называется нулевым выстрелом, потому что вам не нужно настраивать модель на ваших данных, чтобы использовать ее. Он может напрямую возвращать оценки вероятности для любого списка ярлыков, который вы хотите!"
      ]
    },
    {
      "cell_type": "code",
      "metadata": {
        "id": "nPFvxU9TNSpl",
        "colab": {
          "base_uri": "https://localhost:8080/",
          "height": 280,
          "referenced_widgets": [
            "07e53713c3e448979e35c5f2aa45d646",
            "72d57a3099a4417da8fdbca3b1142063",
            "a4812d0d0bd64fbf8abeb11c899eb4b1",
            "3b69c1794b0e41ce9afe332019fe8f2c",
            "4967d2581eea464da4ec4a2456ecf653",
            "f421e76538cd467c9501ee788bf44950",
            "0b7825a7a39a44b4b2f6e9ff6ae95135",
            "4719500ba5144f969d96a4d10724db39",
            "9c756ec77d9a4c6c88b03436d117eb2f",
            "719d1388f66e4a63a737f3ba6127f265",
            "0278307e1db34b29b6ce571a90bdd064",
            "bbf6b5318df74fe6b28f1086b43890ff",
            "f1226108a3e44cdb84ca2137478d353b",
            "d8e8f93ff3964a0b888fec8e003af426",
            "1aa511038feb4465a9624c8d855e5602",
            "9ea3c937c01e492b9b20a1294757c414",
            "ad1afe53b2524c02b26724d3ae62f851",
            "7944c86e46524f8cb9cd5e9cc858df9a",
            "b2f1e8e5c6bf4bf1a2a319ae7105935d",
            "72e66ba44d1f493aaba24b6c105a0471",
            "10895ba0d25549eca2fa3a46f87884a7",
            "dacb6486e71f44a49996c7f0b7e3d541",
            "9696febdf61e46baa43c83d9417c67dc",
            "9f9f8ee71bc14c55b7a2fc28080080eb",
            "92d036afb4e34e5c85e1e9b32e5cf93b",
            "3a232f048ad84f5e87adbacc9f4e0104",
            "32f37f17098d442a95d946f299072cc1",
            "2995a7eecc1349ad93c2203cf129105b",
            "d47eea684edf46c3949140a9bb383f61",
            "cdd74869179c445b9c47c36af5d231bf",
            "20e2e45177fd446a9aa444ce3598cd88",
            "dcb61d0a34854a198a20d2d93ef01ded",
            "f41abb1d628a47649f916b9ec56b14d1",
            "83a9280df1954f0cbc185a1b9347cc02",
            "ebff85d80f1a4e4e82f6e3e988d4183f",
            "ff4236392001448684faf7c544b6f3f8",
            "6cfe1a4270b14680871e428c4fa34b8d",
            "09e99fad5dae46a49ea1cdf804178f77",
            "1fcd4386c8354c3387a988cb91356e90",
            "8b444dd9fc034118a6d0b7113187ad74",
            "44421333768347df8b4fa2afb6c29fbf",
            "1ecd723cfa0248faa435397ddd5a73a0",
            "63e6f5969a7242a28380eb527ac5e486",
            "16fbd1eaf50a4764a193be85b5cded32",
            "bf8d394eec8346e3914c6d16f5beb8cc",
            "80da342bfa6f494d8acad9d67e4821ea",
            "5556d4767c40418c956101f23d00072b",
            "967fa99163a94287a2dea979b79f9685",
            "df07033fcef94c52958aaf8e1f6ad286",
            "3d2826fd5f8c4f21a5cae2b2229bb310",
            "a486fd790ec04132b83ab4add19a1fe5",
            "b5856dea9c8846efacd762d6ffc67a42",
            "7f388563a46c4615a2d936ac18e6dfe6",
            "531d99f5777d4197bc22f9204580ea15",
            "db240f8860b3415392c5775af8c0f685",
            "3331a4d6b92b46c7b3518669590b69f5",
            "05b71eadd0804cb4900a611739382e20",
            "f788730307954c12b0d5b99aa1060573",
            "10cf7028daa642548cbfc721dd8bfbd5",
            "4dc4c51b22564d52814cf131233a6bfa",
            "9998262e24ee4ed8a68c1e999192ac26",
            "44bde7a3176b4c3c9e4510bc93ffb25d",
            "a9d53a29ae4c497084b40356421c321f",
            "bb2a2364cb4842f8953d8bf0dd8588cd",
            "23f806166f3c49a5b7403b5fc062bd2b",
            "116568e992644cc1bdd200d0b769a946"
          ]
        },
        "outputId": "4abf9412-2d5c-403c-e42f-449efce8f398"
      },
      "source": [
        "clf = transformers.pipeline('zero-shot-classification')\n",
        "clf('We’ll start by tackling a more challenging task where we need to classify texts that haven’t been labelled.',\n",
        "    candidate_labels = [\"education\", \"politics\", \"business\"])"
      ],
      "execution_count": null,
      "outputs": [
        {
          "output_type": "display_data",
          "data": {
            "application/vnd.jupyter.widget-view+json": {
              "model_id": "07e53713c3e448979e35c5f2aa45d646",
              "version_minor": 0,
              "version_major": 2
            },
            "text/plain": [
              "Downloading:   0%|          | 0.00/1.15k [00:00<?, ?B/s]"
            ]
          },
          "metadata": {
            "tags": []
          }
        },
        {
          "output_type": "display_data",
          "data": {
            "application/vnd.jupyter.widget-view+json": {
              "model_id": "bbf6b5318df74fe6b28f1086b43890ff",
              "version_minor": 0,
              "version_major": 2
            },
            "text/plain": [
              "Downloading:   0%|          | 0.00/1.63G [00:00<?, ?B/s]"
            ]
          },
          "metadata": {
            "tags": []
          }
        },
        {
          "output_type": "display_data",
          "data": {
            "application/vnd.jupyter.widget-view+json": {
              "model_id": "9696febdf61e46baa43c83d9417c67dc",
              "version_minor": 0,
              "version_major": 2
            },
            "text/plain": [
              "Downloading:   0%|          | 0.00/26.0 [00:00<?, ?B/s]"
            ]
          },
          "metadata": {
            "tags": []
          }
        },
        {
          "output_type": "display_data",
          "data": {
            "application/vnd.jupyter.widget-view+json": {
              "model_id": "83a9280df1954f0cbc185a1b9347cc02",
              "version_minor": 0,
              "version_major": 2
            },
            "text/plain": [
              "Downloading:   0%|          | 0.00/899k [00:00<?, ?B/s]"
            ]
          },
          "metadata": {
            "tags": []
          }
        },
        {
          "output_type": "display_data",
          "data": {
            "application/vnd.jupyter.widget-view+json": {
              "model_id": "bf8d394eec8346e3914c6d16f5beb8cc",
              "version_minor": 0,
              "version_major": 2
            },
            "text/plain": [
              "Downloading:   0%|          | 0.00/456k [00:00<?, ?B/s]"
            ]
          },
          "metadata": {
            "tags": []
          }
        },
        {
          "output_type": "display_data",
          "data": {
            "application/vnd.jupyter.widget-view+json": {
              "model_id": "3331a4d6b92b46c7b3518669590b69f5",
              "version_minor": 0,
              "version_major": 2
            },
            "text/plain": [
              "Downloading:   0%|          | 0.00/1.36M [00:00<?, ?B/s]"
            ]
          },
          "metadata": {
            "tags": []
          }
        },
        {
          "output_type": "execute_result",
          "data": {
            "text/plain": [
              "{'labels': ['education', 'business', 'politics'],\n",
              " 'scores': [0.4677025079727173, 0.34642189741134644, 0.18587562441825867],\n",
              " 'sequence': 'We’ll start by tackling a more challenging task where we need to classify texts that haven’t been labelled.'}"
            ]
          },
          "metadata": {
            "tags": []
          },
          "execution_count": 6
        }
      ]
    },
    {
      "cell_type": "code",
      "metadata": {
        "id": "hFCDM1dtNSmw",
        "colab": {
          "base_uri": "https://localhost:8080/"
        },
        "outputId": "652367a9-e1ac-4722-862b-14cdc1521eb2"
      },
      "source": [
        "clf('Alzheimer\\'s disease (AD) is a neurodegenerative disease that usually starts slowly and progressively worsens.',\n",
        "    candidate_labels = ['education', \"neurology\", 'medicine', 'business'])"
      ],
      "execution_count": null,
      "outputs": [
        {
          "output_type": "execute_result",
          "data": {
            "text/plain": [
              "{'labels': ['neurology', 'medicine', 'education', 'business'],\n",
              " 'scores': [0.9273449778556824,\n",
              "  0.03946782648563385,\n",
              "  0.018152104690670967,\n",
              "  0.015035135671496391],\n",
              " 'sequence': \"Alzheimer's disease (AD) is a neurodegenerative disease that usually starts slowly and progressively worsens.\"}"
            ]
          },
          "metadata": {
            "tags": []
          },
          "execution_count": 7
        }
      ]
    },
    {
      "cell_type": "markdown",
      "metadata": {
        "id": "pPjkf0eixStb"
      },
      "source": [
        "#### Hub in a pipeline\n",
        "[HUB](https://huggingface.co/models)"
      ]
    },
    {
      "cell_type": "code",
      "metadata": {
        "id": "HfSi8Jp-NShD",
        "colab": {
          "base_uri": "https://localhost:8080/"
        },
        "outputId": "ece6cd20-96c5-41f3-cc41-0424d84f1ac3"
      },
      "source": [
        "hub_model = 'xlm-roberta-base'\n",
        "task = 'fill-mask'\n",
        "txt = 'Go to the Model <mask> and click on the corresponding tag on the left'\\\n",
        "      'to display only the supported model for that task. You should get'\\\n",
        "      'to a page like this one.'\n",
        "label = 'hub'\n",
        "\n",
        "clf = transformers.pipeline(\n",
        "    task=task,\n",
        "    model=hub_model\n",
        ")\n",
        "# top_k определяет, сколько возможностей вы хотите отобразить.\n",
        "clf(txt, top_k = 2)"
      ],
      "execution_count": null,
      "outputs": [
        {
          "output_type": "execute_result",
          "data": {
            "text/plain": [
              "[{'score': 0.18096968531608582,\n",
              "  'sequence': 'Go to the Model tab and click on the corresponding tag on the leftto display only the supported model for that task. You should getto a page like this one.',\n",
              "  'token': 20928,\n",
              "  'token_str': 'tab'},\n",
              " {'score': 0.15255053341388702,\n",
              "  'sequence': 'Go to the Model page and click on the corresponding tag on the leftto display only the supported model for that task. You should getto a page like this one.',\n",
              "  'token': 9191,\n",
              "  'token_str': 'page'}]"
            ]
          },
          "metadata": {
            "tags": []
          },
          "execution_count": 10
        }
      ]
    },
    {
      "cell_type": "code",
      "metadata": {
        "id": "e4Y470BBfDbj",
        "colab": {
          "base_uri": "https://localhost:8080/"
        },
        "outputId": "dc7cbada-abc2-4016-878e-13985abfca92"
      },
      "source": [
        "hub_model = 'xlm-roberta-base'\n",
        "task = 'fill-mask'\n",
        "txt = 'We have model hub. Go to the Model <mask> and click on the corresponding tag on the left'\\\n",
        "      'to display only the supported model for that task. You should get'\\\n",
        "      'to a page like this one.'\n",
        "label = 'hub'\n",
        "\n",
        "clf = transformers.pipeline(\n",
        "    task=task,\n",
        "    model=hub_model\n",
        ")\n",
        "# top_k определяет, сколько возможностей вы хотите отобразить.\n",
        "clf(txt, top_k = 2)"
      ],
      "execution_count": null,
      "outputs": [
        {
          "output_type": "execute_result",
          "data": {
            "text/plain": [
              "[{'score': 0.1557518094778061,\n",
              "  'sequence': 'We have model hub. Go to the Model hub and click on the corresponding tag on the leftto display only the supported model for that task. You should getto a page like this one.',\n",
              "  'token': 26708,\n",
              "  'token_str': 'hub'},\n",
              " {'score': 0.1547161042690277,\n",
              "  'sequence': 'We have model hub. Go to the Model Hub and click on the corresponding tag on the leftto display only the supported model for that task. You should getto a page like this one.',\n",
              "  'token': 53465,\n",
              "  'token_str': 'Hub'}]"
            ]
          },
          "metadata": {
            "tags": []
          },
          "execution_count": 11
        }
      ]
    },
    {
      "cell_type": "code",
      "metadata": {
        "id": "TtSGAn-GfDZV",
        "colab": {
          "base_uri": "https://localhost:8080/"
        },
        "outputId": "5ff6b1d8-caf1-4bbc-cdc9-f9e274a324c4"
      },
      "source": [
        "hub_model = 'dslim/bert-base-NER'\n",
        "task = 'ner'\n",
        "txt = 'we walked along Pushkinskaya street it was early Thursday, sun bunnies'\\\n",
        "      'were playing on the face of my companion Anna Degtyareva, all this was'\\\n",
        "      'quite recently in Berlin.'\\\n",
        "\n",
        "\"\"\"\n",
        "aggregation_strategy:\n",
        "    Например, Sylvain разделен на четыре части: S, ## yl, ## va и ## in.\n",
        "    На этапе постобработки конвейер успешно перегруппировал эти части.\n",
        "\n",
        "aggregation_strategy (: obj: `str`,` optional`, по умолчанию: obj: `\" none \"`): \n",
        "                    стратегия объединения (или нет) токенов на основе прогноза модели.\n",
        "- «none»: просто не будет выполнять агрегацию и просто вернет необработанные результаты из модели.\n",
        "- «simple»: будет пытаться сгруппировать объекты, следуя схеме по умолчанию. (A, B-TAG), (B, I-TAG), (C,\n",
        "    I-TAG), (D, B-TAG2) (E, B-TAG2) в конечном итоге будет [{\"word\": ABC, \"entity\": \"TAG\"}, {\"word\": \"D\",\n",
        "    \"entity\": \"TAG2\"}, {\"word\": \"E\", \"entity\": \"TAG2\"}] Обратите внимание, что два последовательных тега B будут\n",
        "    разные сущности. В словесных языках мы можем в конечном итоге нежелательно разбивать слова: представьте себе\n",
        "    Microsoft помечается как [{\"word\": \"Micro\", \"entity\": \"ENTERPRISE\"}, {\"word\": \"soft», \"entity\":\n",
        "    \"НАЗВАНИЕ\"}]. Ищите ПЕРВЫЙ, МАКСИМАЛЬНЫЙ, СРЕДНИЙ способы смягчения этого и устранения неоднозначности слов (на языках\n",
        "    которые поддерживают это значение, которое в основном состоит из токенов, разделенных пробелом). Эти меры будут\n",
        "    работать только с настоящими словами, «Нью-Йорк» все еще может быть помечен двумя разными объектами.\n",
        "- \"first\": (работает только с моделями на основе слов) Будет использоваться стратегия: obj: `SIMPLE`, за исключением слов,\n",
        "    не может заканчиваться разными тегами. Слова будут просто использовать тег первого токена слова, когда\n",
        "    есть двусмысленность.\n",
        "- \"avarage\": (работает только с моделями на основе слов) Будет использоваться стратегия: obj: `SIMPLE`, за исключением слов,\n",
        "    не может заканчиваться разными тегами. баллы будут сначала усреднены по токенам, а затем максимальное\n",
        "    этикетка прилагается.\n",
        "- \"max\": (работает только с моделями на основе слов) Будет использоваться стратегия: obj: `SIMPLE`, за исключением слов,\n",
        "    не может заканчиваться разными тегами. Сущность Word будет просто токеном с максимальной оценкой.\n",
        "\n",
        "\"\"\"\n",
        "clf = transformers.pipeline(\n",
        "    task=task,\n",
        "    model=hub_model,\n",
        "    aggregation_strategy='simple'\n",
        ")\n",
        "clf(txt)"
      ],
      "execution_count": null,
      "outputs": [
        {
          "output_type": "execute_result",
          "data": {
            "text/plain": [
              "[{'end': 28,\n",
              "  'entity_group': 'LOC',\n",
              "  'score': 0.796749,\n",
              "  'start': 16,\n",
              "  'word': 'Pushkinskaya'},\n",
              " {'end': 126,\n",
              "  'entity_group': 'PER',\n",
              "  'score': 0.961868,\n",
              "  'start': 111,\n",
              "  'word': 'Anna Degtyareva'},\n",
              " {'end': 164,\n",
              "  'entity_group': 'LOC',\n",
              "  'score': 0.99955106,\n",
              "  'start': 158,\n",
              "  'word': 'Berlin'}]"
            ]
          },
          "metadata": {
            "tags": []
          },
          "execution_count": 15
        }
      ]
    },
    {
      "cell_type": "markdown",
      "metadata": {
        "id": "EIAKs0Za6GmU"
      },
      "source": [
        "#### Transformer models grouped into three categories:\n",
        "\n",
        "- GPT-like (also called auto-regressive Transformer models)\n",
        "- BERT-like (also called auto-encoding Transformer models)\n",
        "- BART/T5-like (also called sequence-to-sequence Transformer models)\n",
        "\n",
        "Все упомянутые выше модели Transformer (GPT, BERT, BART, T5 и т. Д.) Были обучены как языковые модели. Это означает, что они были обучены работе с большими объемами необработанного текста в режиме самоконтроля. **Самостоятельное обучение - это тип обучения, при котором цель автоматически вычисляется на основе входных данных модели. Это означает, что люди не нужны для маркировки данных!**\n",
        "\n",
        "Этот тип модели развивает статистическое понимание языка, на котором ее обучали, но он не очень полезен для конкретных практических задач\n",
        "\n",
        "Из-за этого общая предварительно обученная модель затем проходит процесс, называемый**трансферным обучением**.\n",
        "\n",
        "Во время этого процесса модель настраивается контролируемым образом - то есть с использованием меток, аннотированных людьми - для данной задачи."
      ]
    },
    {
      "cell_type": "markdown",
      "metadata": {
        "id": "e-MI2WvXESWs"
      },
      "source": [
        "#### Transfer Learning\n",
        "\n",
        "Предварительное обучение - это процесс обучения модели с нуля: веса инициализируются случайным образом, и обучение начинается без каких-либо предварительных знаний.\n",
        "\n",
        "Предварительное обучение языковой модели требует больших затрат времени и денег.\n",
        "Это предварительное обучение обычно выполняется на очень больших объемах данных. Следовательно, для этого требуется очень большой массив данных, а обучение может занять до нескольких недель.\n",
        "\n",
        "С другой стороны, тонкая настройка - это обучение, выполняемое после предварительного обучения модели. Чтобы выполнить точную настройку, вы сначала приобретаете предварительно обученную языковую модель, а затем выполняете дополнительное обучение с набором данных, специфичным для вашей задачи. \n",
        "\n",
        "Предварительно обученная модель уже была обучена на наборе данных, который имеет некоторое сходство с набором данных точной настройки. Таким образом, процесс тонкой настройки может использовать знания, полученные исходной моделью во время предварительного обучения (например, с проблемами НЛП предварительно обученная модель будет иметь какое-то статистическое понимание языка, который вы используете для своей задачи).\n",
        "Поскольку предварительно обученная модель уже была обучена на большом количестве данных, для точной настройки требуется гораздо меньше данных, чтобы получить достойные результаты.\n",
        "\n",
        "Этот процесс также приведет к лучшим результатам, чем обучение с нуля (если у вас нет большого количества данных), поэтому вы всегда должны пытаться использовать предварительно обученную модель - такую, которая максимально приближена к вашей задаче, - и точно настраивать Это."
      ]
    },
    {
      "cell_type": "markdown",
      "metadata": {
        "id": "1fL8KJ6TI6oe"
      },
      "source": [
        "#### Encoder models\n",
        "\n",
        "ALBERT, BERT, DistilBERT, ELECTRA, RoBERTa\n",
        "\n",
        "На каждом этапе уровни внимания могут получить доступ ко всем словам в начальном предложении. Эти модели часто характеризуются как имеющие «двунаправленное» внимание и часто называются моделями автокодирования.\n",
        "\n",
        "Модели кодировщика лучше всего подходят для задач, требующих понимания всего предложения, таких как классификация предложений, распознавание именованных сущностей (и, в более общем смысле, классификация слов) и извлечение ответов на вопросы."
      ]
    },
    {
      "cell_type": "markdown",
      "metadata": {
        "id": "rfBohvgttlH6"
      },
      "source": [
        "####Decoders models \n",
        "\n",
        "В моделях декодеров используется только декодер модели Transformer. На каждом этапе для данного слова уровни внимания могут получить доступ только к словам, расположенным перед ним в предложении. Эти модели часто называют авторегрессивными моделями.\n",
        "\n",
        "Предварительное обучение моделей декодеров обычно вращается вокруг предсказания следующего слова в предложении.\n",
        "\n",
        "Эти модели лучше всего подходят для задач, связанных с генерацией текста.\n",
        "\n",
        "К представителям этого семейства моделей относятся:\n",
        "\n",
        "CTRL,GPT,GPT-2,Transformer XL"
      ]
    },
    {
      "cell_type": "markdown",
      "metadata": {
        "id": "6RkVzV9p07ey"
      },
      "source": [
        "#### Encoder-decoder models (also called sequence-to-sequence models)\n",
        "\n",
        "На каждом этапе уровни внимания кодера могут получить доступ ко всем словам в начальном предложении, тогда как уровни внимания декодера могут получить доступ только к словам, расположенным перед данным словом во входных данных.\n",
        "\n",
        "Предварительное обучение этих моделей может быть выполнено с использованием целей моделей кодировщика или декодера, но обычно включает в себя что-то более сложное. Например, T5 предварительно обучается путем замены случайных отрезков текста (которые могут содержать несколько слов) одним специальным словом с маской, а затем цель состоит в том, чтобы предсказать текст, который заменяет это слово маски.\n",
        "\n",
        "Последовательные модели лучше всего подходят для задач, связанных с генерацией новых предложений в зависимости от заданных входных данных, таких как обобщение, перевод или генеративный ответ на вопрос.\n",
        "\n",
        "К представителям этого семейства моделей относятся:\n",
        "\n",
        "BART, mBART, Marian, T5"
      ]
    },
    {
      "cell_type": "markdown",
      "metadata": {
        "id": "RLC0Gp2z_mgm"
      },
      "source": [
        "#### Bias and limitations(Предвзятость и ограничения)\n",
        "\n",
        "Если вы намереваетесь использовать предварительно обученную модель или доработанную версию в производственной среде, имейте в виду, что, хотя эти модели являются мощными инструментами, они имеют ограничения. Самая большая из них заключается в том, что для обеспечения возможности предварительного обучения на больших объемах данных исследователи часто очищают весь контент, который они могут найти, беря как лучшее, так и худшее из того, что доступно в Интернете.\n",
        "\n",
        "На просьбу заполнить пропущенное слово в этих двух предложениях модель дает только один ответ без учета пола (официант / официантка). \n",
        "Остальные - это рабочие профессии, обычно связанные с одним конкретным полом - и да, проститутка попала в пятерку лучших возможностей, которые модель ассоциирует с понятиями «женщина» и «работа». Это происходит, несмотря на то, что BERT - одна из редких моделей Transformer, построенная не на основе сбора данных со всего Интернета, а с использованием явно нейтральных данных (она обучена на наборах данных английской Википедии и BookCorpus).\n",
        "\n",
        "Поэтому, используя эти инструменты, вы должны помнить, что исходная модель, которую вы используете, может очень легко создать сексистский, расистский или гомофобный контент. Точная настройка модели на ваших данных не устранит эту внутреннюю предвзятость."
      ]
    },
    {
      "cell_type": "markdown",
      "metadata": {
        "id": "Z1jiNhJbeMLa"
      },
      "source": [
        "#### Model heads\n",
        "\n",
        "- Model (retrieve the hidden states)\n",
        "- ForCausalLM\n",
        "- ForMaskedLM\n",
        "- ForMultipleChoice\n",
        "- ForQuestionAnswering\n",
        "- ForSequenceClassification\n",
        "- ForTokenClassification\n",
        "\n",
        "Example:  So, we won’t actually use the AutoModel class for classification, but AutoModelForSequenceClassification"
      ]
    },
    {
      "cell_type": "code",
      "metadata": {
        "id": "o6eTXqfBcH3V",
        "colab": {
          "base_uri": "https://localhost:8080/",
          "height": 395
        },
        "outputId": "a950d55b-9810-4e3c-e517-e66166cf0e23"
      },
      "source": [
        "Image(url='https://huggingface.co/course/static/chapter2/transformer_and_head.png', width=800)"
      ],
      "execution_count": 5,
      "outputs": [
        {
          "output_type": "execute_result",
          "data": {
            "text/html": [
              "<img src=\"https://huggingface.co/course/static/chapter2/transformer_and_head.png\" width=\"800\"/>"
            ],
            "text/plain": [
              "<IPython.core.display.Image object>"
            ]
          },
          "metadata": {
            "tags": []
          },
          "execution_count": 5
        }
      ]
    },
    {
      "cell_type": "markdown",
      "metadata": {
        "id": "xhT8hQNepMDG"
      },
      "source": [
        "#### Tokenizers\n",
        "\n",
        "1. Word-based\n",
        "- Первый тип токенизатора, который приходит на ум, основан на словах или пунктуации.\n",
        "2. Character-based\n",
        "- Символьные токенизаторы разбивают текст на символы, а не на слова. Но и здесь возникают вопросы относительно пробелов и знаков препинания.\n",
        "3. Subword tokenization\n",
        "- Алгоритмы разметки подслов основаны на принципе, согласно которому часто используемые слова не следует разбивать на более мелкие подслова, а редкие слова следует разбивать на значимые подслова.\n",
        " “annoyingly” >>> “annoying” and “ly”. "
      ]
    },
    {
      "cell_type": "code",
      "metadata": {
        "id": "BwH_L2KxfDVC"
      },
      "source": [
        "token = transformers.AutoTokenizer.from_pretrained('xlm-roberta-base')\n",
        "txt = ['Google Research India contributes fundamental advances',\n",
        "       'in computer science and applies their research to big problems impacting India',\n",
        "       'Google, and communities around the world']\n",
        "d = token(txt)"
      ],
      "execution_count": 12,
      "outputs": []
    },
    {
      "cell_type": "code",
      "metadata": {
        "id": "-CsXM1nZfDTC"
      },
      "source": [
        "model = transformers.AutoModel.from_pretrained('xlm-roberta-base')\n",
        "model(d)"
      ],
      "execution_count": null,
      "outputs": []
    },
    {
      "cell_type": "markdown",
      "metadata": {
        "id": "vuyokIiM6mDy"
      },
      "source": [
        "##### first 'error size'"
      ]
    },
    {
      "cell_type": "code",
      "metadata": {
        "id": "v4RkwexQqK2x"
      },
      "source": [
        "d = token(txt, return_tensors='pt')\n",
        "model(d)"
      ],
      "execution_count": null,
      "outputs": []
    },
    {
      "cell_type": "markdown",
      "metadata": {
        "id": "WYDoXO_o60nl"
      },
      "source": [
        "##### Second error : 'Unable to create tensor, you should probably activate truncation and/or padding with 'padding=True' 'truncation=True' to have batched tensors with the same length.'\n",
        "\n",
        "Problem:\n",
        "```\n",
        "{'input_ids': [\n",
        "    [0, 1815, 42477, 5596, 162466, 7, 20531, 129745, 7, 2],\n",
        "    [0, 23, 13909, 41664, 136, 4027, 25720, 2363, 25188, 47, 6957, 44402, 24725, 214, 5596, 2], \n",
        "    [0, 1815, 4, 136, 142080, 10932, 70, 8999, 2]\n",
        "    ],\n",
        "'attention_mask': [\n",
        "    [1, 1, 1, 1, 1, 1, 1, 1, 1, 1],\n",
        "    [1, 1, 1, 1, 1, 1, 1, 1, 1, 1, 1, 1, 1, 1, 1, 1], \n",
        "    1, 1, 1, 1, 1, 1, 1, 1, 1]\n",
        "    ]\n",
        "}\n",
        "```\n",
        "Two way:\n",
        " - padding (заполнение)\n",
        " - truncation (усичение)\n",
        "\n",
        " add padding:\n",
        " ```\n",
        " {\n",
        "'input_ids': tensor([\n",
        "     [0, 1815,  42477,   5596, 162466,      7,  20531, 129745, 7, 2, 1, 1, 1, 1, 1, 1],\n",
        "     [0, 23,  13909,  41664, 136, 4027, 25720, 2363,  25188, 47, 6957, 44402, 24725, 214, 5596, 2],\n",
        "     [0, 1815, 4, 136, 142080, 10932, 70, 8999, 2,\n",
        "1, 1, 1, 1, 1, 1, 1]\n",
        "    ]\n",
        "   ),\n",
        "'attention_mask': tensor([\n",
        "     [1, 1, 1, 1, 1, 1, 1, 1, 1, 1, 0, 0, 0, 0, 0, 0],\n",
        "     [1, 1, 1, 1, 1, 1, 1, 1, 1, 1, 1, 1, 1, 1, 1, 1],\n",
        "     [1, 1, 1, 1, 1, 1, 1, 1, 1, 0, 0, 0, 0, 0, 0, 0]\n",
        "     ]\n",
        "    )\n",
        "}\n",
        "```\n",
        "add trucation,max length = 5\n",
        "```\n",
        "{\n",
        "'input_ids': tensor([\n",
        "    [0, 1815, 42477,  5596, 2],\n",
        "    [0, 23, 13909, 41664, 2],\n",
        "    [0, 1815, 4, 136, 2]\n",
        "    ]\n",
        "  ),\n",
        "'attention_mask': tensor([\n",
        "    [1, 1, 1, 1, 1],\n",
        "    [1, 1, 1, 1, 1],\n",
        "    [1, 1, 1, 1, 1]\n",
        "    ]\n",
        "  )\n",
        "}\n",
        "```\n",
        "Most models handle sequences of up to 512 or 1024 tokens"
      ]
    },
    {
      "cell_type": "code",
      "metadata": {
        "id": "mcoVUYz7qKz_"
      },
      "source": [
        "d = token(txt, return_tensors='pt', truncation = True, padding=True,  max_length=15)\n",
        "out = model(**d)"
      ],
      "execution_count": 25,
      "outputs": []
    },
    {
      "cell_type": "code",
      "metadata": {
        "id": "IgBA5cYXqKq7",
        "colab": {
          "base_uri": "https://localhost:8080/"
        },
        "outputId": "b09a76bb-fb4f-42b1-eacc-d095092a9dc6"
      },
      "source": [
        "out['last_hidden_state'].shape, out['pooler_output'].shape"
      ],
      "execution_count": 26,
      "outputs": [
        {
          "output_type": "execute_result",
          "data": {
            "text/plain": [
              "(torch.Size([3, 15, 768]), torch.Size([3, 768]))"
            ]
          },
          "metadata": {
            "tags": []
          },
          "execution_count": 26
        }
      ]
    },
    {
      "cell_type": "code",
      "metadata": {
        "id": "HTFTy4_EqKpH"
      },
      "source": [
        ""
      ],
      "execution_count": null,
      "outputs": []
    },
    {
      "cell_type": "code",
      "metadata": {
        "id": "p0Ov7c0BqKmR"
      },
      "source": [
        ""
      ],
      "execution_count": null,
      "outputs": []
    },
    {
      "cell_type": "code",
      "metadata": {
        "colab": {
          "base_uri": "https://localhost:8080/",
          "height": 163
        },
        "id": "yug3et9BfDQm",
        "outputId": "73f85a2b-2bfa-47b8-f219-95482ce2cfed"
      },
      "source": [
        "stop"
      ],
      "execution_count": null,
      "outputs": [
        {
          "output_type": "error",
          "ename": "NameError",
          "evalue": "ignored",
          "traceback": [
            "\u001b[0;31m---------------------------------------------------------------------------\u001b[0m",
            "\u001b[0;31mNameError\u001b[0m                                 Traceback (most recent call last)",
            "\u001b[0;32m<ipython-input-8-4f76a9dad686>\u001b[0m in \u001b[0;36m<module>\u001b[0;34m()\u001b[0m\n\u001b[0;32m----> 1\u001b[0;31m \u001b[0mstop\u001b[0m\u001b[0;34m\u001b[0m\u001b[0;34m\u001b[0m\u001b[0m\n\u001b[0m",
            "\u001b[0;31mNameError\u001b[0m: name 'stop' is not defined"
          ]
        }
      ]
    },
    {
      "cell_type": "code",
      "metadata": {
        "id": "iXruqWJa9-_7"
      },
      "source": [
        "from typing import Any"
      ],
      "execution_count": null,
      "outputs": []
    },
    {
      "cell_type": "code",
      "metadata": {
        "id": "j6ZcH5CzGKqT"
      },
      "source": [
        "@dataclasses.dataclass\n",
        "class Config:\n",
        "    experiment_name: str\n",
        "    debug: bool = False\n",
        "    fold: int = 0\n",
        "\n",
        "    nlp_model_name: str = \"roberta-large\"\n",
        "    linear_dim: int = 128\n",
        "    # dropout: float = 0\n",
        "    # dropout_stack: float = 0.2\n",
        "    batch_size: int = 6\n",
        "\n",
        "    lr_bert: float = 1e-5\n",
        "    lr_fc: float = 1e-4\n",
        "    scheduler_params = {\"num_warmup_steps\": batch_size*100,\n",
        "                        \"num_training_steps\": batch_size*3000}\n",
        "    if debug:\n",
        "        epochs: int = 2\n",
        "    else:\n",
        "        epochs: int = 15\n",
        "\n",
        "    optimizer: Any = AdamW\n",
        "    weight_decay = 0.1"
      ],
      "execution_count": null,
      "outputs": []
    },
    {
      "cell_type": "code",
      "metadata": {
        "id": "3A5BqDm102J5"
      },
      "source": [
        "def configure_optimizers(self):\n",
        "    optimizer =  transformers.AdamW(\n",
        "        params=[{\"params\": self.bert.parameters(), \"lr\": config.lr_bert},\n",
        "                {\"params\": self.linear.parameters(), \"lr\": config.lr_fc}],\n",
        "        weight_decay=weight_decay\n",
        "    )\n",
        "    scheduler = transformers.get_linear_schedule_with_warmup(optimizer, **self.config.scheduler_params)\n",
        "    return [optimizer], [scheduler]"
      ],
      "execution_count": null,
      "outputs": []
    },
    {
      "cell_type": "code",
      "metadata": {
        "id": "Jso8FlnY02CG"
      },
      "source": [
        "model, tokenizer = Auto_NLP_model(v).loads()"
      ],
      "execution_count": null,
      "outputs": []
    },
    {
      "cell_type": "markdown",
      "metadata": {
        "id": "EvHTjFqC9iyW"
      },
      "source": [
        "first part we see lr is differen for last layer and model"
      ]
    },
    {
      "cell_type": "markdown",
      "metadata": {
        "id": "kxV1xtIL7u7M"
      },
      "source": [
        "```\n",
        "model.roberta all model without classifier\n",
        "model.classifier\n",
        ">>  (classifier):\n",
        "    RobertaClassificationHead(\n",
        "        (dense): Linear(in_features=1024, out_features=1024, bias=True)\n",
        "        (dropout): Dropout(p=0.1, inplace=False)\n",
        "        (out_proj): Linear(in_features=1024, out_features=1, bias=True)\n",
        "\n",
        "-----\n",
        "Fold: 1, --- ((2267, 8), (567, 8))\n",
        "tr_loader len = 378 how get >> len data = 2267 / batch = 6\n",
        "```"
      ]
    },
    {
      "cell_type": "code",
      "metadata": {
        "id": "J5eCkU9wBIBm"
      },
      "source": [
        "2267/6"
      ],
      "execution_count": null,
      "outputs": []
    },
    {
      "cell_type": "code",
      "metadata": {
        "id": "Tj4tj_tc797R"
      },
      "source": [
        "list(model.parameters())"
      ],
      "execution_count": null,
      "outputs": []
    },
    {
      "cell_type": "code",
      "metadata": {
        "id": "L7HAqOHN7ekd"
      },
      "source": [
        "model.classifier"
      ],
      "execution_count": null,
      "outputs": []
    },
    {
      "cell_type": "code",
      "metadata": {
        "id": "jzryLQtK7Y6Z"
      },
      "source": [
        "steps = len(tr_loader) * EPOCH\n",
        "optimizer = transformers.AdamW(model.parameters(), lr=2e-5, correct_bias=True)\n",
        "steps = len(tr_loader) * EPOCH\n",
        "# steps = len(tr_loader)/BATCH * EPOCH\n",
        "lin_schedule = transformers.get_linear_schedule_with_warmup(\n",
        "    optimizer,\n",
        "    num_warmup_steps=1,\n",
        "    num_training_steps=steps\n",
        ")"
      ],
      "execution_count": null,
      "outputs": []
    },
    {
      "cell_type": "code",
      "metadata": {
        "id": "pVSAR6buA1Jl"
      },
      "source": [
        ""
      ],
      "execution_count": null,
      "outputs": []
    }
  ]
}