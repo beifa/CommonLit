{
  "nbformat": 4,
  "nbformat_minor": 0,
  "metadata": {
    "colab": {
      "name": "work_on_error_part2.ipynb",
      "provenance": [],
      "collapsed_sections": [
        "_qhX1kD4bYkl",
        "d7ie1U0DhJcu",
        "4r6u87-_5NPl",
        "KoHW18S4CcVF"
      ],
      "mount_file_id": "17J2DO_8KGws4ekdgYcCx7iID9RUA1gUf",
      "authorship_tag": "ABX9TyNBk1QOJRYEjmnMAzmtljpF"
    },
    "kernelspec": {
      "display_name": "Python 3",
      "name": "python3"
    },
    "language_info": {
      "name": "python"
    },
    "widgets": {
      "application/vnd.jupyter.widget-state+json": {
        "e91148c4480a4d29a78a32e5042c124b": {
          "model_module": "@jupyter-widgets/controls",
          "model_name": "HBoxModel",
          "model_module_version": "1.5.0",
          "state": {
            "_view_name": "HBoxView",
            "_dom_classes": [],
            "_model_name": "HBoxModel",
            "_view_module": "@jupyter-widgets/controls",
            "_model_module_version": "1.5.0",
            "_view_count": null,
            "_view_module_version": "1.5.0",
            "box_style": "",
            "layout": "IPY_MODEL_27ee844af3cf437aa3c569b5f338940c",
            "_model_module": "@jupyter-widgets/controls",
            "children": [
              "IPY_MODEL_215feb7f91304abcb9200076a8f6eb28",
              "IPY_MODEL_609a0ee0efc04f078e3a31df2774e849",
              "IPY_MODEL_cc2b392d4e2a47a48454588a2a9b54ba"
            ]
          }
        },
        "27ee844af3cf437aa3c569b5f338940c": {
          "model_module": "@jupyter-widgets/base",
          "model_name": "LayoutModel",
          "model_module_version": "1.2.0",
          "state": {
            "_view_name": "LayoutView",
            "grid_template_rows": null,
            "right": null,
            "justify_content": null,
            "_view_module": "@jupyter-widgets/base",
            "overflow": null,
            "_model_module_version": "1.2.0",
            "_view_count": null,
            "flex_flow": null,
            "width": null,
            "min_width": null,
            "border": null,
            "align_items": null,
            "bottom": null,
            "_model_module": "@jupyter-widgets/base",
            "top": null,
            "grid_column": null,
            "overflow_y": null,
            "overflow_x": null,
            "grid_auto_flow": null,
            "grid_area": null,
            "grid_template_columns": null,
            "flex": null,
            "_model_name": "LayoutModel",
            "justify_items": null,
            "grid_row": null,
            "max_height": null,
            "align_content": null,
            "visibility": null,
            "align_self": null,
            "height": null,
            "min_height": null,
            "padding": null,
            "grid_auto_rows": null,
            "grid_gap": null,
            "max_width": null,
            "order": null,
            "_view_module_version": "1.2.0",
            "grid_template_areas": null,
            "object_position": null,
            "object_fit": null,
            "grid_auto_columns": null,
            "margin": null,
            "display": null,
            "left": null
          }
        },
        "215feb7f91304abcb9200076a8f6eb28": {
          "model_module": "@jupyter-widgets/controls",
          "model_name": "HTMLModel",
          "model_module_version": "1.5.0",
          "state": {
            "_view_name": "HTMLView",
            "style": "IPY_MODEL_ddbd6ef847bf44be8962526cdcba89a6",
            "_dom_classes": [],
            "description": "",
            "_model_name": "HTMLModel",
            "placeholder": "​",
            "_view_module": "@jupyter-widgets/controls",
            "_model_module_version": "1.5.0",
            "value": "Downloading: 100%",
            "_view_count": null,
            "_view_module_version": "1.5.0",
            "description_tooltip": null,
            "_model_module": "@jupyter-widgets/controls",
            "layout": "IPY_MODEL_904ab2bc28324edb87817b185af3f31f"
          }
        },
        "609a0ee0efc04f078e3a31df2774e849": {
          "model_module": "@jupyter-widgets/controls",
          "model_name": "FloatProgressModel",
          "model_module_version": "1.5.0",
          "state": {
            "_view_name": "ProgressView",
            "style": "IPY_MODEL_88a3802ebf314f869da9515553825711",
            "_dom_classes": [],
            "description": "",
            "_model_name": "FloatProgressModel",
            "bar_style": "success",
            "max": 481,
            "_view_module": "@jupyter-widgets/controls",
            "_model_module_version": "1.5.0",
            "value": 481,
            "_view_count": null,
            "_view_module_version": "1.5.0",
            "orientation": "horizontal",
            "min": 0,
            "description_tooltip": null,
            "_model_module": "@jupyter-widgets/controls",
            "layout": "IPY_MODEL_c7d4d14077114919876f2cda8c00352b"
          }
        },
        "cc2b392d4e2a47a48454588a2a9b54ba": {
          "model_module": "@jupyter-widgets/controls",
          "model_name": "HTMLModel",
          "model_module_version": "1.5.0",
          "state": {
            "_view_name": "HTMLView",
            "style": "IPY_MODEL_9e0767d8a1c94c799d19432c19474255",
            "_dom_classes": [],
            "description": "",
            "_model_name": "HTMLModel",
            "placeholder": "​",
            "_view_module": "@jupyter-widgets/controls",
            "_model_module_version": "1.5.0",
            "value": " 481/481 [00:00&lt;00:00, 10.8kB/s]",
            "_view_count": null,
            "_view_module_version": "1.5.0",
            "description_tooltip": null,
            "_model_module": "@jupyter-widgets/controls",
            "layout": "IPY_MODEL_a331feab07094e589f8f26fc650468fe"
          }
        },
        "ddbd6ef847bf44be8962526cdcba89a6": {
          "model_module": "@jupyter-widgets/controls",
          "model_name": "DescriptionStyleModel",
          "model_module_version": "1.5.0",
          "state": {
            "_view_name": "StyleView",
            "_model_name": "DescriptionStyleModel",
            "description_width": "",
            "_view_module": "@jupyter-widgets/base",
            "_model_module_version": "1.5.0",
            "_view_count": null,
            "_view_module_version": "1.2.0",
            "_model_module": "@jupyter-widgets/controls"
          }
        },
        "904ab2bc28324edb87817b185af3f31f": {
          "model_module": "@jupyter-widgets/base",
          "model_name": "LayoutModel",
          "model_module_version": "1.2.0",
          "state": {
            "_view_name": "LayoutView",
            "grid_template_rows": null,
            "right": null,
            "justify_content": null,
            "_view_module": "@jupyter-widgets/base",
            "overflow": null,
            "_model_module_version": "1.2.0",
            "_view_count": null,
            "flex_flow": null,
            "width": null,
            "min_width": null,
            "border": null,
            "align_items": null,
            "bottom": null,
            "_model_module": "@jupyter-widgets/base",
            "top": null,
            "grid_column": null,
            "overflow_y": null,
            "overflow_x": null,
            "grid_auto_flow": null,
            "grid_area": null,
            "grid_template_columns": null,
            "flex": null,
            "_model_name": "LayoutModel",
            "justify_items": null,
            "grid_row": null,
            "max_height": null,
            "align_content": null,
            "visibility": null,
            "align_self": null,
            "height": null,
            "min_height": null,
            "padding": null,
            "grid_auto_rows": null,
            "grid_gap": null,
            "max_width": null,
            "order": null,
            "_view_module_version": "1.2.0",
            "grid_template_areas": null,
            "object_position": null,
            "object_fit": null,
            "grid_auto_columns": null,
            "margin": null,
            "display": null,
            "left": null
          }
        },
        "88a3802ebf314f869da9515553825711": {
          "model_module": "@jupyter-widgets/controls",
          "model_name": "ProgressStyleModel",
          "model_module_version": "1.5.0",
          "state": {
            "_view_name": "StyleView",
            "_model_name": "ProgressStyleModel",
            "description_width": "",
            "_view_module": "@jupyter-widgets/base",
            "_model_module_version": "1.5.0",
            "_view_count": null,
            "_view_module_version": "1.2.0",
            "bar_color": null,
            "_model_module": "@jupyter-widgets/controls"
          }
        },
        "c7d4d14077114919876f2cda8c00352b": {
          "model_module": "@jupyter-widgets/base",
          "model_name": "LayoutModel",
          "model_module_version": "1.2.0",
          "state": {
            "_view_name": "LayoutView",
            "grid_template_rows": null,
            "right": null,
            "justify_content": null,
            "_view_module": "@jupyter-widgets/base",
            "overflow": null,
            "_model_module_version": "1.2.0",
            "_view_count": null,
            "flex_flow": null,
            "width": null,
            "min_width": null,
            "border": null,
            "align_items": null,
            "bottom": null,
            "_model_module": "@jupyter-widgets/base",
            "top": null,
            "grid_column": null,
            "overflow_y": null,
            "overflow_x": null,
            "grid_auto_flow": null,
            "grid_area": null,
            "grid_template_columns": null,
            "flex": null,
            "_model_name": "LayoutModel",
            "justify_items": null,
            "grid_row": null,
            "max_height": null,
            "align_content": null,
            "visibility": null,
            "align_self": null,
            "height": null,
            "min_height": null,
            "padding": null,
            "grid_auto_rows": null,
            "grid_gap": null,
            "max_width": null,
            "order": null,
            "_view_module_version": "1.2.0",
            "grid_template_areas": null,
            "object_position": null,
            "object_fit": null,
            "grid_auto_columns": null,
            "margin": null,
            "display": null,
            "left": null
          }
        },
        "9e0767d8a1c94c799d19432c19474255": {
          "model_module": "@jupyter-widgets/controls",
          "model_name": "DescriptionStyleModel",
          "model_module_version": "1.5.0",
          "state": {
            "_view_name": "StyleView",
            "_model_name": "DescriptionStyleModel",
            "description_width": "",
            "_view_module": "@jupyter-widgets/base",
            "_model_module_version": "1.5.0",
            "_view_count": null,
            "_view_module_version": "1.2.0",
            "_model_module": "@jupyter-widgets/controls"
          }
        },
        "a331feab07094e589f8f26fc650468fe": {
          "model_module": "@jupyter-widgets/base",
          "model_name": "LayoutModel",
          "model_module_version": "1.2.0",
          "state": {
            "_view_name": "LayoutView",
            "grid_template_rows": null,
            "right": null,
            "justify_content": null,
            "_view_module": "@jupyter-widgets/base",
            "overflow": null,
            "_model_module_version": "1.2.0",
            "_view_count": null,
            "flex_flow": null,
            "width": null,
            "min_width": null,
            "border": null,
            "align_items": null,
            "bottom": null,
            "_model_module": "@jupyter-widgets/base",
            "top": null,
            "grid_column": null,
            "overflow_y": null,
            "overflow_x": null,
            "grid_auto_flow": null,
            "grid_area": null,
            "grid_template_columns": null,
            "flex": null,
            "_model_name": "LayoutModel",
            "justify_items": null,
            "grid_row": null,
            "max_height": null,
            "align_content": null,
            "visibility": null,
            "align_self": null,
            "height": null,
            "min_height": null,
            "padding": null,
            "grid_auto_rows": null,
            "grid_gap": null,
            "max_width": null,
            "order": null,
            "_view_module_version": "1.2.0",
            "grid_template_areas": null,
            "object_position": null,
            "object_fit": null,
            "grid_auto_columns": null,
            "margin": null,
            "display": null,
            "left": null
          }
        },
        "456e643e25fb4ee0adeb67b1831ac4bc": {
          "model_module": "@jupyter-widgets/controls",
          "model_name": "HBoxModel",
          "model_module_version": "1.5.0",
          "state": {
            "_view_name": "HBoxView",
            "_dom_classes": [],
            "_model_name": "HBoxModel",
            "_view_module": "@jupyter-widgets/controls",
            "_model_module_version": "1.5.0",
            "_view_count": null,
            "_view_module_version": "1.5.0",
            "box_style": "",
            "layout": "IPY_MODEL_84d02cc020da48478b15080cfc33f378",
            "_model_module": "@jupyter-widgets/controls",
            "children": [
              "IPY_MODEL_12c7bb5e15894ee08fb066ae035c8910",
              "IPY_MODEL_89edb38b0a9441069ea4114eb350ba75",
              "IPY_MODEL_e584b585ba934874a2a9e7e6806b8838"
            ]
          }
        },
        "84d02cc020da48478b15080cfc33f378": {
          "model_module": "@jupyter-widgets/base",
          "model_name": "LayoutModel",
          "model_module_version": "1.2.0",
          "state": {
            "_view_name": "LayoutView",
            "grid_template_rows": null,
            "right": null,
            "justify_content": null,
            "_view_module": "@jupyter-widgets/base",
            "overflow": null,
            "_model_module_version": "1.2.0",
            "_view_count": null,
            "flex_flow": null,
            "width": null,
            "min_width": null,
            "border": null,
            "align_items": null,
            "bottom": null,
            "_model_module": "@jupyter-widgets/base",
            "top": null,
            "grid_column": null,
            "overflow_y": null,
            "overflow_x": null,
            "grid_auto_flow": null,
            "grid_area": null,
            "grid_template_columns": null,
            "flex": null,
            "_model_name": "LayoutModel",
            "justify_items": null,
            "grid_row": null,
            "max_height": null,
            "align_content": null,
            "visibility": null,
            "align_self": null,
            "height": null,
            "min_height": null,
            "padding": null,
            "grid_auto_rows": null,
            "grid_gap": null,
            "max_width": null,
            "order": null,
            "_view_module_version": "1.2.0",
            "grid_template_areas": null,
            "object_position": null,
            "object_fit": null,
            "grid_auto_columns": null,
            "margin": null,
            "display": null,
            "left": null
          }
        },
        "12c7bb5e15894ee08fb066ae035c8910": {
          "model_module": "@jupyter-widgets/controls",
          "model_name": "HTMLModel",
          "model_module_version": "1.5.0",
          "state": {
            "_view_name": "HTMLView",
            "style": "IPY_MODEL_66f47ecc778549ea91ce326ae079c2ac",
            "_dom_classes": [],
            "description": "",
            "_model_name": "HTMLModel",
            "placeholder": "​",
            "_view_module": "@jupyter-widgets/controls",
            "_model_module_version": "1.5.0",
            "value": "Downloading: 100%",
            "_view_count": null,
            "_view_module_version": "1.5.0",
            "description_tooltip": null,
            "_model_module": "@jupyter-widgets/controls",
            "layout": "IPY_MODEL_89a65a206fc04a7092fa1916fc1aaea5"
          }
        },
        "89edb38b0a9441069ea4114eb350ba75": {
          "model_module": "@jupyter-widgets/controls",
          "model_name": "FloatProgressModel",
          "model_module_version": "1.5.0",
          "state": {
            "_view_name": "ProgressView",
            "style": "IPY_MODEL_12a0a035478f4a80a533a360eff738a7",
            "_dom_classes": [],
            "description": "",
            "_model_name": "FloatProgressModel",
            "bar_style": "success",
            "max": 898823,
            "_view_module": "@jupyter-widgets/controls",
            "_model_module_version": "1.5.0",
            "value": 898823,
            "_view_count": null,
            "_view_module_version": "1.5.0",
            "orientation": "horizontal",
            "min": 0,
            "description_tooltip": null,
            "_model_module": "@jupyter-widgets/controls",
            "layout": "IPY_MODEL_d69f962494be4005a0e939014a3d278a"
          }
        },
        "e584b585ba934874a2a9e7e6806b8838": {
          "model_module": "@jupyter-widgets/controls",
          "model_name": "HTMLModel",
          "model_module_version": "1.5.0",
          "state": {
            "_view_name": "HTMLView",
            "style": "IPY_MODEL_73e9043e0c1448e192bb17e119305c10",
            "_dom_classes": [],
            "description": "",
            "_model_name": "HTMLModel",
            "placeholder": "​",
            "_view_module": "@jupyter-widgets/controls",
            "_model_module_version": "1.5.0",
            "value": " 899k/899k [00:00&lt;00:00, 2.81MB/s]",
            "_view_count": null,
            "_view_module_version": "1.5.0",
            "description_tooltip": null,
            "_model_module": "@jupyter-widgets/controls",
            "layout": "IPY_MODEL_ebc6581507614f9a8e2a60fc68d20264"
          }
        },
        "66f47ecc778549ea91ce326ae079c2ac": {
          "model_module": "@jupyter-widgets/controls",
          "model_name": "DescriptionStyleModel",
          "model_module_version": "1.5.0",
          "state": {
            "_view_name": "StyleView",
            "_model_name": "DescriptionStyleModel",
            "description_width": "",
            "_view_module": "@jupyter-widgets/base",
            "_model_module_version": "1.5.0",
            "_view_count": null,
            "_view_module_version": "1.2.0",
            "_model_module": "@jupyter-widgets/controls"
          }
        },
        "89a65a206fc04a7092fa1916fc1aaea5": {
          "model_module": "@jupyter-widgets/base",
          "model_name": "LayoutModel",
          "model_module_version": "1.2.0",
          "state": {
            "_view_name": "LayoutView",
            "grid_template_rows": null,
            "right": null,
            "justify_content": null,
            "_view_module": "@jupyter-widgets/base",
            "overflow": null,
            "_model_module_version": "1.2.0",
            "_view_count": null,
            "flex_flow": null,
            "width": null,
            "min_width": null,
            "border": null,
            "align_items": null,
            "bottom": null,
            "_model_module": "@jupyter-widgets/base",
            "top": null,
            "grid_column": null,
            "overflow_y": null,
            "overflow_x": null,
            "grid_auto_flow": null,
            "grid_area": null,
            "grid_template_columns": null,
            "flex": null,
            "_model_name": "LayoutModel",
            "justify_items": null,
            "grid_row": null,
            "max_height": null,
            "align_content": null,
            "visibility": null,
            "align_self": null,
            "height": null,
            "min_height": null,
            "padding": null,
            "grid_auto_rows": null,
            "grid_gap": null,
            "max_width": null,
            "order": null,
            "_view_module_version": "1.2.0",
            "grid_template_areas": null,
            "object_position": null,
            "object_fit": null,
            "grid_auto_columns": null,
            "margin": null,
            "display": null,
            "left": null
          }
        },
        "12a0a035478f4a80a533a360eff738a7": {
          "model_module": "@jupyter-widgets/controls",
          "model_name": "ProgressStyleModel",
          "model_module_version": "1.5.0",
          "state": {
            "_view_name": "StyleView",
            "_model_name": "ProgressStyleModel",
            "description_width": "",
            "_view_module": "@jupyter-widgets/base",
            "_model_module_version": "1.5.0",
            "_view_count": null,
            "_view_module_version": "1.2.0",
            "bar_color": null,
            "_model_module": "@jupyter-widgets/controls"
          }
        },
        "d69f962494be4005a0e939014a3d278a": {
          "model_module": "@jupyter-widgets/base",
          "model_name": "LayoutModel",
          "model_module_version": "1.2.0",
          "state": {
            "_view_name": "LayoutView",
            "grid_template_rows": null,
            "right": null,
            "justify_content": null,
            "_view_module": "@jupyter-widgets/base",
            "overflow": null,
            "_model_module_version": "1.2.0",
            "_view_count": null,
            "flex_flow": null,
            "width": null,
            "min_width": null,
            "border": null,
            "align_items": null,
            "bottom": null,
            "_model_module": "@jupyter-widgets/base",
            "top": null,
            "grid_column": null,
            "overflow_y": null,
            "overflow_x": null,
            "grid_auto_flow": null,
            "grid_area": null,
            "grid_template_columns": null,
            "flex": null,
            "_model_name": "LayoutModel",
            "justify_items": null,
            "grid_row": null,
            "max_height": null,
            "align_content": null,
            "visibility": null,
            "align_self": null,
            "height": null,
            "min_height": null,
            "padding": null,
            "grid_auto_rows": null,
            "grid_gap": null,
            "max_width": null,
            "order": null,
            "_view_module_version": "1.2.0",
            "grid_template_areas": null,
            "object_position": null,
            "object_fit": null,
            "grid_auto_columns": null,
            "margin": null,
            "display": null,
            "left": null
          }
        },
        "73e9043e0c1448e192bb17e119305c10": {
          "model_module": "@jupyter-widgets/controls",
          "model_name": "DescriptionStyleModel",
          "model_module_version": "1.5.0",
          "state": {
            "_view_name": "StyleView",
            "_model_name": "DescriptionStyleModel",
            "description_width": "",
            "_view_module": "@jupyter-widgets/base",
            "_model_module_version": "1.5.0",
            "_view_count": null,
            "_view_module_version": "1.2.0",
            "_model_module": "@jupyter-widgets/controls"
          }
        },
        "ebc6581507614f9a8e2a60fc68d20264": {
          "model_module": "@jupyter-widgets/base",
          "model_name": "LayoutModel",
          "model_module_version": "1.2.0",
          "state": {
            "_view_name": "LayoutView",
            "grid_template_rows": null,
            "right": null,
            "justify_content": null,
            "_view_module": "@jupyter-widgets/base",
            "overflow": null,
            "_model_module_version": "1.2.0",
            "_view_count": null,
            "flex_flow": null,
            "width": null,
            "min_width": null,
            "border": null,
            "align_items": null,
            "bottom": null,
            "_model_module": "@jupyter-widgets/base",
            "top": null,
            "grid_column": null,
            "overflow_y": null,
            "overflow_x": null,
            "grid_auto_flow": null,
            "grid_area": null,
            "grid_template_columns": null,
            "flex": null,
            "_model_name": "LayoutModel",
            "justify_items": null,
            "grid_row": null,
            "max_height": null,
            "align_content": null,
            "visibility": null,
            "align_self": null,
            "height": null,
            "min_height": null,
            "padding": null,
            "grid_auto_rows": null,
            "grid_gap": null,
            "max_width": null,
            "order": null,
            "_view_module_version": "1.2.0",
            "grid_template_areas": null,
            "object_position": null,
            "object_fit": null,
            "grid_auto_columns": null,
            "margin": null,
            "display": null,
            "left": null
          }
        },
        "54fcf20e04f240e2aac700db2c349e6d": {
          "model_module": "@jupyter-widgets/controls",
          "model_name": "HBoxModel",
          "model_module_version": "1.5.0",
          "state": {
            "_view_name": "HBoxView",
            "_dom_classes": [],
            "_model_name": "HBoxModel",
            "_view_module": "@jupyter-widgets/controls",
            "_model_module_version": "1.5.0",
            "_view_count": null,
            "_view_module_version": "1.5.0",
            "box_style": "",
            "layout": "IPY_MODEL_60275f4155294b7fbf635aea10542296",
            "_model_module": "@jupyter-widgets/controls",
            "children": [
              "IPY_MODEL_2b5590a955d349edb7e0e703265f6dc1",
              "IPY_MODEL_33b634fcf1db48869ae037382f50b805",
              "IPY_MODEL_875f2a96cdd648ceacb679ab23801e10"
            ]
          }
        },
        "60275f4155294b7fbf635aea10542296": {
          "model_module": "@jupyter-widgets/base",
          "model_name": "LayoutModel",
          "model_module_version": "1.2.0",
          "state": {
            "_view_name": "LayoutView",
            "grid_template_rows": null,
            "right": null,
            "justify_content": null,
            "_view_module": "@jupyter-widgets/base",
            "overflow": null,
            "_model_module_version": "1.2.0",
            "_view_count": null,
            "flex_flow": null,
            "width": null,
            "min_width": null,
            "border": null,
            "align_items": null,
            "bottom": null,
            "_model_module": "@jupyter-widgets/base",
            "top": null,
            "grid_column": null,
            "overflow_y": null,
            "overflow_x": null,
            "grid_auto_flow": null,
            "grid_area": null,
            "grid_template_columns": null,
            "flex": null,
            "_model_name": "LayoutModel",
            "justify_items": null,
            "grid_row": null,
            "max_height": null,
            "align_content": null,
            "visibility": null,
            "align_self": null,
            "height": null,
            "min_height": null,
            "padding": null,
            "grid_auto_rows": null,
            "grid_gap": null,
            "max_width": null,
            "order": null,
            "_view_module_version": "1.2.0",
            "grid_template_areas": null,
            "object_position": null,
            "object_fit": null,
            "grid_auto_columns": null,
            "margin": null,
            "display": null,
            "left": null
          }
        },
        "2b5590a955d349edb7e0e703265f6dc1": {
          "model_module": "@jupyter-widgets/controls",
          "model_name": "HTMLModel",
          "model_module_version": "1.5.0",
          "state": {
            "_view_name": "HTMLView",
            "style": "IPY_MODEL_ea38dc0a2eec4b5a94ee3f78705aa793",
            "_dom_classes": [],
            "description": "",
            "_model_name": "HTMLModel",
            "placeholder": "​",
            "_view_module": "@jupyter-widgets/controls",
            "_model_module_version": "1.5.0",
            "value": "Downloading: 100%",
            "_view_count": null,
            "_view_module_version": "1.5.0",
            "description_tooltip": null,
            "_model_module": "@jupyter-widgets/controls",
            "layout": "IPY_MODEL_4b9d3b44547d4ca6b57e2fdaa007ed8f"
          }
        },
        "33b634fcf1db48869ae037382f50b805": {
          "model_module": "@jupyter-widgets/controls",
          "model_name": "FloatProgressModel",
          "model_module_version": "1.5.0",
          "state": {
            "_view_name": "ProgressView",
            "style": "IPY_MODEL_98492eb0b36a483cb6497513da4ccf5d",
            "_dom_classes": [],
            "description": "",
            "_model_name": "FloatProgressModel",
            "bar_style": "success",
            "max": 456318,
            "_view_module": "@jupyter-widgets/controls",
            "_model_module_version": "1.5.0",
            "value": 456318,
            "_view_count": null,
            "_view_module_version": "1.5.0",
            "orientation": "horizontal",
            "min": 0,
            "description_tooltip": null,
            "_model_module": "@jupyter-widgets/controls",
            "layout": "IPY_MODEL_2ac4aaa851cf4c959d925b4d0efe1d21"
          }
        },
        "875f2a96cdd648ceacb679ab23801e10": {
          "model_module": "@jupyter-widgets/controls",
          "model_name": "HTMLModel",
          "model_module_version": "1.5.0",
          "state": {
            "_view_name": "HTMLView",
            "style": "IPY_MODEL_f42c2aba1895490389e9e4e1a23fe3db",
            "_dom_classes": [],
            "description": "",
            "_model_name": "HTMLModel",
            "placeholder": "​",
            "_view_module": "@jupyter-widgets/controls",
            "_model_module_version": "1.5.0",
            "value": " 456k/456k [00:00&lt;00:00, 1.63MB/s]",
            "_view_count": null,
            "_view_module_version": "1.5.0",
            "description_tooltip": null,
            "_model_module": "@jupyter-widgets/controls",
            "layout": "IPY_MODEL_e4ab7e420b684332b059fc0730b7a920"
          }
        },
        "ea38dc0a2eec4b5a94ee3f78705aa793": {
          "model_module": "@jupyter-widgets/controls",
          "model_name": "DescriptionStyleModel",
          "model_module_version": "1.5.0",
          "state": {
            "_view_name": "StyleView",
            "_model_name": "DescriptionStyleModel",
            "description_width": "",
            "_view_module": "@jupyter-widgets/base",
            "_model_module_version": "1.5.0",
            "_view_count": null,
            "_view_module_version": "1.2.0",
            "_model_module": "@jupyter-widgets/controls"
          }
        },
        "4b9d3b44547d4ca6b57e2fdaa007ed8f": {
          "model_module": "@jupyter-widgets/base",
          "model_name": "LayoutModel",
          "model_module_version": "1.2.0",
          "state": {
            "_view_name": "LayoutView",
            "grid_template_rows": null,
            "right": null,
            "justify_content": null,
            "_view_module": "@jupyter-widgets/base",
            "overflow": null,
            "_model_module_version": "1.2.0",
            "_view_count": null,
            "flex_flow": null,
            "width": null,
            "min_width": null,
            "border": null,
            "align_items": null,
            "bottom": null,
            "_model_module": "@jupyter-widgets/base",
            "top": null,
            "grid_column": null,
            "overflow_y": null,
            "overflow_x": null,
            "grid_auto_flow": null,
            "grid_area": null,
            "grid_template_columns": null,
            "flex": null,
            "_model_name": "LayoutModel",
            "justify_items": null,
            "grid_row": null,
            "max_height": null,
            "align_content": null,
            "visibility": null,
            "align_self": null,
            "height": null,
            "min_height": null,
            "padding": null,
            "grid_auto_rows": null,
            "grid_gap": null,
            "max_width": null,
            "order": null,
            "_view_module_version": "1.2.0",
            "grid_template_areas": null,
            "object_position": null,
            "object_fit": null,
            "grid_auto_columns": null,
            "margin": null,
            "display": null,
            "left": null
          }
        },
        "98492eb0b36a483cb6497513da4ccf5d": {
          "model_module": "@jupyter-widgets/controls",
          "model_name": "ProgressStyleModel",
          "model_module_version": "1.5.0",
          "state": {
            "_view_name": "StyleView",
            "_model_name": "ProgressStyleModel",
            "description_width": "",
            "_view_module": "@jupyter-widgets/base",
            "_model_module_version": "1.5.0",
            "_view_count": null,
            "_view_module_version": "1.2.0",
            "bar_color": null,
            "_model_module": "@jupyter-widgets/controls"
          }
        },
        "2ac4aaa851cf4c959d925b4d0efe1d21": {
          "model_module": "@jupyter-widgets/base",
          "model_name": "LayoutModel",
          "model_module_version": "1.2.0",
          "state": {
            "_view_name": "LayoutView",
            "grid_template_rows": null,
            "right": null,
            "justify_content": null,
            "_view_module": "@jupyter-widgets/base",
            "overflow": null,
            "_model_module_version": "1.2.0",
            "_view_count": null,
            "flex_flow": null,
            "width": null,
            "min_width": null,
            "border": null,
            "align_items": null,
            "bottom": null,
            "_model_module": "@jupyter-widgets/base",
            "top": null,
            "grid_column": null,
            "overflow_y": null,
            "overflow_x": null,
            "grid_auto_flow": null,
            "grid_area": null,
            "grid_template_columns": null,
            "flex": null,
            "_model_name": "LayoutModel",
            "justify_items": null,
            "grid_row": null,
            "max_height": null,
            "align_content": null,
            "visibility": null,
            "align_self": null,
            "height": null,
            "min_height": null,
            "padding": null,
            "grid_auto_rows": null,
            "grid_gap": null,
            "max_width": null,
            "order": null,
            "_view_module_version": "1.2.0",
            "grid_template_areas": null,
            "object_position": null,
            "object_fit": null,
            "grid_auto_columns": null,
            "margin": null,
            "display": null,
            "left": null
          }
        },
        "f42c2aba1895490389e9e4e1a23fe3db": {
          "model_module": "@jupyter-widgets/controls",
          "model_name": "DescriptionStyleModel",
          "model_module_version": "1.5.0",
          "state": {
            "_view_name": "StyleView",
            "_model_name": "DescriptionStyleModel",
            "description_width": "",
            "_view_module": "@jupyter-widgets/base",
            "_model_module_version": "1.5.0",
            "_view_count": null,
            "_view_module_version": "1.2.0",
            "_model_module": "@jupyter-widgets/controls"
          }
        },
        "e4ab7e420b684332b059fc0730b7a920": {
          "model_module": "@jupyter-widgets/base",
          "model_name": "LayoutModel",
          "model_module_version": "1.2.0",
          "state": {
            "_view_name": "LayoutView",
            "grid_template_rows": null,
            "right": null,
            "justify_content": null,
            "_view_module": "@jupyter-widgets/base",
            "overflow": null,
            "_model_module_version": "1.2.0",
            "_view_count": null,
            "flex_flow": null,
            "width": null,
            "min_width": null,
            "border": null,
            "align_items": null,
            "bottom": null,
            "_model_module": "@jupyter-widgets/base",
            "top": null,
            "grid_column": null,
            "overflow_y": null,
            "overflow_x": null,
            "grid_auto_flow": null,
            "grid_area": null,
            "grid_template_columns": null,
            "flex": null,
            "_model_name": "LayoutModel",
            "justify_items": null,
            "grid_row": null,
            "max_height": null,
            "align_content": null,
            "visibility": null,
            "align_self": null,
            "height": null,
            "min_height": null,
            "padding": null,
            "grid_auto_rows": null,
            "grid_gap": null,
            "max_width": null,
            "order": null,
            "_view_module_version": "1.2.0",
            "grid_template_areas": null,
            "object_position": null,
            "object_fit": null,
            "grid_auto_columns": null,
            "margin": null,
            "display": null,
            "left": null
          }
        },
        "a4c16c42c5cb41158a167617b017a812": {
          "model_module": "@jupyter-widgets/controls",
          "model_name": "HBoxModel",
          "model_module_version": "1.5.0",
          "state": {
            "_view_name": "HBoxView",
            "_dom_classes": [],
            "_model_name": "HBoxModel",
            "_view_module": "@jupyter-widgets/controls",
            "_model_module_version": "1.5.0",
            "_view_count": null,
            "_view_module_version": "1.5.0",
            "box_style": "",
            "layout": "IPY_MODEL_d8878dd3fc9b4f3ca3aa6473fc334ff1",
            "_model_module": "@jupyter-widgets/controls",
            "children": [
              "IPY_MODEL_dee9683c0ecd451c8a46a0b6496cc8a3",
              "IPY_MODEL_4b99e03f8bf44a9d9e5bec448d451f34",
              "IPY_MODEL_07e338a814514c07b3041d607c85e1ac"
            ]
          }
        },
        "d8878dd3fc9b4f3ca3aa6473fc334ff1": {
          "model_module": "@jupyter-widgets/base",
          "model_name": "LayoutModel",
          "model_module_version": "1.2.0",
          "state": {
            "_view_name": "LayoutView",
            "grid_template_rows": null,
            "right": null,
            "justify_content": null,
            "_view_module": "@jupyter-widgets/base",
            "overflow": null,
            "_model_module_version": "1.2.0",
            "_view_count": null,
            "flex_flow": null,
            "width": null,
            "min_width": null,
            "border": null,
            "align_items": null,
            "bottom": null,
            "_model_module": "@jupyter-widgets/base",
            "top": null,
            "grid_column": null,
            "overflow_y": null,
            "overflow_x": null,
            "grid_auto_flow": null,
            "grid_area": null,
            "grid_template_columns": null,
            "flex": null,
            "_model_name": "LayoutModel",
            "justify_items": null,
            "grid_row": null,
            "max_height": null,
            "align_content": null,
            "visibility": null,
            "align_self": null,
            "height": null,
            "min_height": null,
            "padding": null,
            "grid_auto_rows": null,
            "grid_gap": null,
            "max_width": null,
            "order": null,
            "_view_module_version": "1.2.0",
            "grid_template_areas": null,
            "object_position": null,
            "object_fit": null,
            "grid_auto_columns": null,
            "margin": null,
            "display": null,
            "left": null
          }
        },
        "dee9683c0ecd451c8a46a0b6496cc8a3": {
          "model_module": "@jupyter-widgets/controls",
          "model_name": "HTMLModel",
          "model_module_version": "1.5.0",
          "state": {
            "_view_name": "HTMLView",
            "style": "IPY_MODEL_6a6853e04fc34af7ad63d4fa021fc022",
            "_dom_classes": [],
            "description": "",
            "_model_name": "HTMLModel",
            "placeholder": "​",
            "_view_module": "@jupyter-widgets/controls",
            "_model_module_version": "1.5.0",
            "value": "Downloading: 100%",
            "_view_count": null,
            "_view_module_version": "1.5.0",
            "description_tooltip": null,
            "_model_module": "@jupyter-widgets/controls",
            "layout": "IPY_MODEL_6bf1eb4ba54e4c1f8c0d2fa82e49b367"
          }
        },
        "4b99e03f8bf44a9d9e5bec448d451f34": {
          "model_module": "@jupyter-widgets/controls",
          "model_name": "FloatProgressModel",
          "model_module_version": "1.5.0",
          "state": {
            "_view_name": "ProgressView",
            "style": "IPY_MODEL_5f83bf6d1a6f49b7aa6b38436ff575b9",
            "_dom_classes": [],
            "description": "",
            "_model_name": "FloatProgressModel",
            "bar_style": "success",
            "max": 1355863,
            "_view_module": "@jupyter-widgets/controls",
            "_model_module_version": "1.5.0",
            "value": 1355863,
            "_view_count": null,
            "_view_module_version": "1.5.0",
            "orientation": "horizontal",
            "min": 0,
            "description_tooltip": null,
            "_model_module": "@jupyter-widgets/controls",
            "layout": "IPY_MODEL_24034b84ba754acebd734de797c36dcf"
          }
        },
        "07e338a814514c07b3041d607c85e1ac": {
          "model_module": "@jupyter-widgets/controls",
          "model_name": "HTMLModel",
          "model_module_version": "1.5.0",
          "state": {
            "_view_name": "HTMLView",
            "style": "IPY_MODEL_cbcaa13ea21d4b458cd32186aa7a0468",
            "_dom_classes": [],
            "description": "",
            "_model_name": "HTMLModel",
            "placeholder": "​",
            "_view_module": "@jupyter-widgets/controls",
            "_model_module_version": "1.5.0",
            "value": " 1.36M/1.36M [00:00&lt;00:00, 2.15MB/s]",
            "_view_count": null,
            "_view_module_version": "1.5.0",
            "description_tooltip": null,
            "_model_module": "@jupyter-widgets/controls",
            "layout": "IPY_MODEL_ff616ec2d3d34eae86b9cd6acaa8cd73"
          }
        },
        "6a6853e04fc34af7ad63d4fa021fc022": {
          "model_module": "@jupyter-widgets/controls",
          "model_name": "DescriptionStyleModel",
          "model_module_version": "1.5.0",
          "state": {
            "_view_name": "StyleView",
            "_model_name": "DescriptionStyleModel",
            "description_width": "",
            "_view_module": "@jupyter-widgets/base",
            "_model_module_version": "1.5.0",
            "_view_count": null,
            "_view_module_version": "1.2.0",
            "_model_module": "@jupyter-widgets/controls"
          }
        },
        "6bf1eb4ba54e4c1f8c0d2fa82e49b367": {
          "model_module": "@jupyter-widgets/base",
          "model_name": "LayoutModel",
          "model_module_version": "1.2.0",
          "state": {
            "_view_name": "LayoutView",
            "grid_template_rows": null,
            "right": null,
            "justify_content": null,
            "_view_module": "@jupyter-widgets/base",
            "overflow": null,
            "_model_module_version": "1.2.0",
            "_view_count": null,
            "flex_flow": null,
            "width": null,
            "min_width": null,
            "border": null,
            "align_items": null,
            "bottom": null,
            "_model_module": "@jupyter-widgets/base",
            "top": null,
            "grid_column": null,
            "overflow_y": null,
            "overflow_x": null,
            "grid_auto_flow": null,
            "grid_area": null,
            "grid_template_columns": null,
            "flex": null,
            "_model_name": "LayoutModel",
            "justify_items": null,
            "grid_row": null,
            "max_height": null,
            "align_content": null,
            "visibility": null,
            "align_self": null,
            "height": null,
            "min_height": null,
            "padding": null,
            "grid_auto_rows": null,
            "grid_gap": null,
            "max_width": null,
            "order": null,
            "_view_module_version": "1.2.0",
            "grid_template_areas": null,
            "object_position": null,
            "object_fit": null,
            "grid_auto_columns": null,
            "margin": null,
            "display": null,
            "left": null
          }
        },
        "5f83bf6d1a6f49b7aa6b38436ff575b9": {
          "model_module": "@jupyter-widgets/controls",
          "model_name": "ProgressStyleModel",
          "model_module_version": "1.5.0",
          "state": {
            "_view_name": "StyleView",
            "_model_name": "ProgressStyleModel",
            "description_width": "",
            "_view_module": "@jupyter-widgets/base",
            "_model_module_version": "1.5.0",
            "_view_count": null,
            "_view_module_version": "1.2.0",
            "bar_color": null,
            "_model_module": "@jupyter-widgets/controls"
          }
        },
        "24034b84ba754acebd734de797c36dcf": {
          "model_module": "@jupyter-widgets/base",
          "model_name": "LayoutModel",
          "model_module_version": "1.2.0",
          "state": {
            "_view_name": "LayoutView",
            "grid_template_rows": null,
            "right": null,
            "justify_content": null,
            "_view_module": "@jupyter-widgets/base",
            "overflow": null,
            "_model_module_version": "1.2.0",
            "_view_count": null,
            "flex_flow": null,
            "width": null,
            "min_width": null,
            "border": null,
            "align_items": null,
            "bottom": null,
            "_model_module": "@jupyter-widgets/base",
            "top": null,
            "grid_column": null,
            "overflow_y": null,
            "overflow_x": null,
            "grid_auto_flow": null,
            "grid_area": null,
            "grid_template_columns": null,
            "flex": null,
            "_model_name": "LayoutModel",
            "justify_items": null,
            "grid_row": null,
            "max_height": null,
            "align_content": null,
            "visibility": null,
            "align_self": null,
            "height": null,
            "min_height": null,
            "padding": null,
            "grid_auto_rows": null,
            "grid_gap": null,
            "max_width": null,
            "order": null,
            "_view_module_version": "1.2.0",
            "grid_template_areas": null,
            "object_position": null,
            "object_fit": null,
            "grid_auto_columns": null,
            "margin": null,
            "display": null,
            "left": null
          }
        },
        "cbcaa13ea21d4b458cd32186aa7a0468": {
          "model_module": "@jupyter-widgets/controls",
          "model_name": "DescriptionStyleModel",
          "model_module_version": "1.5.0",
          "state": {
            "_view_name": "StyleView",
            "_model_name": "DescriptionStyleModel",
            "description_width": "",
            "_view_module": "@jupyter-widgets/base",
            "_model_module_version": "1.5.0",
            "_view_count": null,
            "_view_module_version": "1.2.0",
            "_model_module": "@jupyter-widgets/controls"
          }
        },
        "ff616ec2d3d34eae86b9cd6acaa8cd73": {
          "model_module": "@jupyter-widgets/base",
          "model_name": "LayoutModel",
          "model_module_version": "1.2.0",
          "state": {
            "_view_name": "LayoutView",
            "grid_template_rows": null,
            "right": null,
            "justify_content": null,
            "_view_module": "@jupyter-widgets/base",
            "overflow": null,
            "_model_module_version": "1.2.0",
            "_view_count": null,
            "flex_flow": null,
            "width": null,
            "min_width": null,
            "border": null,
            "align_items": null,
            "bottom": null,
            "_model_module": "@jupyter-widgets/base",
            "top": null,
            "grid_column": null,
            "overflow_y": null,
            "overflow_x": null,
            "grid_auto_flow": null,
            "grid_area": null,
            "grid_template_columns": null,
            "flex": null,
            "_model_name": "LayoutModel",
            "justify_items": null,
            "grid_row": null,
            "max_height": null,
            "align_content": null,
            "visibility": null,
            "align_self": null,
            "height": null,
            "min_height": null,
            "padding": null,
            "grid_auto_rows": null,
            "grid_gap": null,
            "max_width": null,
            "order": null,
            "_view_module_version": "1.2.0",
            "grid_template_areas": null,
            "object_position": null,
            "object_fit": null,
            "grid_auto_columns": null,
            "margin": null,
            "display": null,
            "left": null
          }
        },
        "fc4fe68eef7541c9a164b210928d0f40": {
          "model_module": "@jupyter-widgets/controls",
          "model_name": "HBoxModel",
          "model_module_version": "1.5.0",
          "state": {
            "_view_name": "HBoxView",
            "_dom_classes": [],
            "_model_name": "HBoxModel",
            "_view_module": "@jupyter-widgets/controls",
            "_model_module_version": "1.5.0",
            "_view_count": null,
            "_view_module_version": "1.5.0",
            "box_style": "",
            "layout": "IPY_MODEL_ea652ed7848c4741b87ba773454d1587",
            "_model_module": "@jupyter-widgets/controls",
            "children": [
              "IPY_MODEL_7e9bfddf31bf4ed59607535d1d3ab1f8",
              "IPY_MODEL_f25b89b0f6cc48e48fd1f8a08774f309",
              "IPY_MODEL_7a5bfb2f364b4d149573d04ed3af3b50"
            ]
          }
        },
        "ea652ed7848c4741b87ba773454d1587": {
          "model_module": "@jupyter-widgets/base",
          "model_name": "LayoutModel",
          "model_module_version": "1.2.0",
          "state": {
            "_view_name": "LayoutView",
            "grid_template_rows": null,
            "right": null,
            "justify_content": null,
            "_view_module": "@jupyter-widgets/base",
            "overflow": null,
            "_model_module_version": "1.2.0",
            "_view_count": null,
            "flex_flow": null,
            "width": null,
            "min_width": null,
            "border": null,
            "align_items": null,
            "bottom": null,
            "_model_module": "@jupyter-widgets/base",
            "top": null,
            "grid_column": null,
            "overflow_y": null,
            "overflow_x": null,
            "grid_auto_flow": null,
            "grid_area": null,
            "grid_template_columns": null,
            "flex": null,
            "_model_name": "LayoutModel",
            "justify_items": null,
            "grid_row": null,
            "max_height": null,
            "align_content": null,
            "visibility": null,
            "align_self": null,
            "height": null,
            "min_height": null,
            "padding": null,
            "grid_auto_rows": null,
            "grid_gap": null,
            "max_width": null,
            "order": null,
            "_view_module_version": "1.2.0",
            "grid_template_areas": null,
            "object_position": null,
            "object_fit": null,
            "grid_auto_columns": null,
            "margin": null,
            "display": null,
            "left": null
          }
        },
        "7e9bfddf31bf4ed59607535d1d3ab1f8": {
          "model_module": "@jupyter-widgets/controls",
          "model_name": "HTMLModel",
          "model_module_version": "1.5.0",
          "state": {
            "_view_name": "HTMLView",
            "style": "IPY_MODEL_3130b5e40cea4411b86b2325a3d0d270",
            "_dom_classes": [],
            "description": "",
            "_model_name": "HTMLModel",
            "placeholder": "​",
            "_view_module": "@jupyter-widgets/controls",
            "_model_module_version": "1.5.0",
            "value": "Downloading: 100%",
            "_view_count": null,
            "_view_module_version": "1.5.0",
            "description_tooltip": null,
            "_model_module": "@jupyter-widgets/controls",
            "layout": "IPY_MODEL_5c8372dfbda84e9daddbc007abf9d40d"
          }
        },
        "f25b89b0f6cc48e48fd1f8a08774f309": {
          "model_module": "@jupyter-widgets/controls",
          "model_name": "FloatProgressModel",
          "model_module_version": "1.5.0",
          "state": {
            "_view_name": "ProgressView",
            "style": "IPY_MODEL_8597a9d24bdb4bc0ac8ff212163e35ed",
            "_dom_classes": [],
            "description": "",
            "_model_name": "FloatProgressModel",
            "bar_style": "success",
            "max": 501200538,
            "_view_module": "@jupyter-widgets/controls",
            "_model_module_version": "1.5.0",
            "value": 501200538,
            "_view_count": null,
            "_view_module_version": "1.5.0",
            "orientation": "horizontal",
            "min": 0,
            "description_tooltip": null,
            "_model_module": "@jupyter-widgets/controls",
            "layout": "IPY_MODEL_ffb27d3c9ece4555a897c819c8769de9"
          }
        },
        "7a5bfb2f364b4d149573d04ed3af3b50": {
          "model_module": "@jupyter-widgets/controls",
          "model_name": "HTMLModel",
          "model_module_version": "1.5.0",
          "state": {
            "_view_name": "HTMLView",
            "style": "IPY_MODEL_bea38ccdd8104151aac6749e5a7a432f",
            "_dom_classes": [],
            "description": "",
            "_model_name": "HTMLModel",
            "placeholder": "​",
            "_view_module": "@jupyter-widgets/controls",
            "_model_module_version": "1.5.0",
            "value": " 501M/501M [00:12&lt;00:00, 43.9MB/s]",
            "_view_count": null,
            "_view_module_version": "1.5.0",
            "description_tooltip": null,
            "_model_module": "@jupyter-widgets/controls",
            "layout": "IPY_MODEL_7c9fa8816088417e81ecedc80ac2d6b4"
          }
        },
        "3130b5e40cea4411b86b2325a3d0d270": {
          "model_module": "@jupyter-widgets/controls",
          "model_name": "DescriptionStyleModel",
          "model_module_version": "1.5.0",
          "state": {
            "_view_name": "StyleView",
            "_model_name": "DescriptionStyleModel",
            "description_width": "",
            "_view_module": "@jupyter-widgets/base",
            "_model_module_version": "1.5.0",
            "_view_count": null,
            "_view_module_version": "1.2.0",
            "_model_module": "@jupyter-widgets/controls"
          }
        },
        "5c8372dfbda84e9daddbc007abf9d40d": {
          "model_module": "@jupyter-widgets/base",
          "model_name": "LayoutModel",
          "model_module_version": "1.2.0",
          "state": {
            "_view_name": "LayoutView",
            "grid_template_rows": null,
            "right": null,
            "justify_content": null,
            "_view_module": "@jupyter-widgets/base",
            "overflow": null,
            "_model_module_version": "1.2.0",
            "_view_count": null,
            "flex_flow": null,
            "width": null,
            "min_width": null,
            "border": null,
            "align_items": null,
            "bottom": null,
            "_model_module": "@jupyter-widgets/base",
            "top": null,
            "grid_column": null,
            "overflow_y": null,
            "overflow_x": null,
            "grid_auto_flow": null,
            "grid_area": null,
            "grid_template_columns": null,
            "flex": null,
            "_model_name": "LayoutModel",
            "justify_items": null,
            "grid_row": null,
            "max_height": null,
            "align_content": null,
            "visibility": null,
            "align_self": null,
            "height": null,
            "min_height": null,
            "padding": null,
            "grid_auto_rows": null,
            "grid_gap": null,
            "max_width": null,
            "order": null,
            "_view_module_version": "1.2.0",
            "grid_template_areas": null,
            "object_position": null,
            "object_fit": null,
            "grid_auto_columns": null,
            "margin": null,
            "display": null,
            "left": null
          }
        },
        "8597a9d24bdb4bc0ac8ff212163e35ed": {
          "model_module": "@jupyter-widgets/controls",
          "model_name": "ProgressStyleModel",
          "model_module_version": "1.5.0",
          "state": {
            "_view_name": "StyleView",
            "_model_name": "ProgressStyleModel",
            "description_width": "",
            "_view_module": "@jupyter-widgets/base",
            "_model_module_version": "1.5.0",
            "_view_count": null,
            "_view_module_version": "1.2.0",
            "bar_color": null,
            "_model_module": "@jupyter-widgets/controls"
          }
        },
        "ffb27d3c9ece4555a897c819c8769de9": {
          "model_module": "@jupyter-widgets/base",
          "model_name": "LayoutModel",
          "model_module_version": "1.2.0",
          "state": {
            "_view_name": "LayoutView",
            "grid_template_rows": null,
            "right": null,
            "justify_content": null,
            "_view_module": "@jupyter-widgets/base",
            "overflow": null,
            "_model_module_version": "1.2.0",
            "_view_count": null,
            "flex_flow": null,
            "width": null,
            "min_width": null,
            "border": null,
            "align_items": null,
            "bottom": null,
            "_model_module": "@jupyter-widgets/base",
            "top": null,
            "grid_column": null,
            "overflow_y": null,
            "overflow_x": null,
            "grid_auto_flow": null,
            "grid_area": null,
            "grid_template_columns": null,
            "flex": null,
            "_model_name": "LayoutModel",
            "justify_items": null,
            "grid_row": null,
            "max_height": null,
            "align_content": null,
            "visibility": null,
            "align_self": null,
            "height": null,
            "min_height": null,
            "padding": null,
            "grid_auto_rows": null,
            "grid_gap": null,
            "max_width": null,
            "order": null,
            "_view_module_version": "1.2.0",
            "grid_template_areas": null,
            "object_position": null,
            "object_fit": null,
            "grid_auto_columns": null,
            "margin": null,
            "display": null,
            "left": null
          }
        },
        "bea38ccdd8104151aac6749e5a7a432f": {
          "model_module": "@jupyter-widgets/controls",
          "model_name": "DescriptionStyleModel",
          "model_module_version": "1.5.0",
          "state": {
            "_view_name": "StyleView",
            "_model_name": "DescriptionStyleModel",
            "description_width": "",
            "_view_module": "@jupyter-widgets/base",
            "_model_module_version": "1.5.0",
            "_view_count": null,
            "_view_module_version": "1.2.0",
            "_model_module": "@jupyter-widgets/controls"
          }
        },
        "7c9fa8816088417e81ecedc80ac2d6b4": {
          "model_module": "@jupyter-widgets/base",
          "model_name": "LayoutModel",
          "model_module_version": "1.2.0",
          "state": {
            "_view_name": "LayoutView",
            "grid_template_rows": null,
            "right": null,
            "justify_content": null,
            "_view_module": "@jupyter-widgets/base",
            "overflow": null,
            "_model_module_version": "1.2.0",
            "_view_count": null,
            "flex_flow": null,
            "width": null,
            "min_width": null,
            "border": null,
            "align_items": null,
            "bottom": null,
            "_model_module": "@jupyter-widgets/base",
            "top": null,
            "grid_column": null,
            "overflow_y": null,
            "overflow_x": null,
            "grid_auto_flow": null,
            "grid_area": null,
            "grid_template_columns": null,
            "flex": null,
            "_model_name": "LayoutModel",
            "justify_items": null,
            "grid_row": null,
            "max_height": null,
            "align_content": null,
            "visibility": null,
            "align_self": null,
            "height": null,
            "min_height": null,
            "padding": null,
            "grid_auto_rows": null,
            "grid_gap": null,
            "max_width": null,
            "order": null,
            "_view_module_version": "1.2.0",
            "grid_template_areas": null,
            "object_position": null,
            "object_fit": null,
            "grid_auto_columns": null,
            "margin": null,
            "display": null,
            "left": null
          }
        }
      }
    }
  },
  "cells": [
    {
      "cell_type": "markdown",
      "metadata": {
        "id": "dhqTeSQ9XezJ"
      },
      "source": [
        "## TODO\n",
        "\n",
        "https://www.kaggle.com/rhtsingh/commonlit-readability-prize-roberta-torch-fit\n",
        "\n",
        "https://github.com/abhishekkrthakur/commonlit-pairwise-model\n",
        "\n"
      ]
    },
    {
      "cell_type": "markdown",
      "metadata": {
        "id": "gok3_4IDoFKi"
      },
      "source": [
        "## Introduction\n",
        "\n",
        "Transformers разные слои захватывают разные уровни представлений. Они изучают богатую иерархию лингвистической информации, то есть с поверхностными функциями на нижних уровнях, синтаксическими функциями на средних уровнях и семантическими функциями на более высоких уровнях.\n",
        "\n",
        "<img src = 'http://jalammar.github.io/images/bert-feature-extraction-contextualized-embeddings.png'/>\n",
        "\n",
        "\n",
        "Авторы BERT протестировали стратегии встраивания слов, подавая различные комбинации векторов в качестве входных характеристик в BiLSTM, используемый в задаче распознавания именованных сущностей, и наблюдая за полученными баллами F1. Объединение последних четырех слоев дало наилучшие результаты.\n",
        "\n",
        "Частично это демонстрируется тем, что разные уровни BERT кодируют очень разные виды информации, поэтому соответствующая стратегия объединения будет меняться в зависимости от приложения, поскольку разные уровни кодируют разные виды информации. Это справедливо и для других вариантов."
      ]
    },
    {
      "cell_type": "code",
      "metadata": {
        "id": "Oh4W8bL9H1NZ"
      },
      "source": [
        "from IPython.display import clear_output, Image\n",
        "!pip install transformers\n",
        "clear_output()"
      ],
      "execution_count": 1,
      "outputs": []
    },
    {
      "cell_type": "code",
      "metadata": {
        "colab": {
          "base_uri": "https://localhost:8080/",
          "height": 248,
          "referenced_widgets": [
            "e91148c4480a4d29a78a32e5042c124b",
            "27ee844af3cf437aa3c569b5f338940c",
            "215feb7f91304abcb9200076a8f6eb28",
            "609a0ee0efc04f078e3a31df2774e849",
            "cc2b392d4e2a47a48454588a2a9b54ba",
            "ddbd6ef847bf44be8962526cdcba89a6",
            "904ab2bc28324edb87817b185af3f31f",
            "88a3802ebf314f869da9515553825711",
            "c7d4d14077114919876f2cda8c00352b",
            "9e0767d8a1c94c799d19432c19474255",
            "a331feab07094e589f8f26fc650468fe",
            "456e643e25fb4ee0adeb67b1831ac4bc",
            "84d02cc020da48478b15080cfc33f378",
            "12c7bb5e15894ee08fb066ae035c8910",
            "89edb38b0a9441069ea4114eb350ba75",
            "e584b585ba934874a2a9e7e6806b8838",
            "66f47ecc778549ea91ce326ae079c2ac",
            "89a65a206fc04a7092fa1916fc1aaea5",
            "12a0a035478f4a80a533a360eff738a7",
            "d69f962494be4005a0e939014a3d278a",
            "73e9043e0c1448e192bb17e119305c10",
            "ebc6581507614f9a8e2a60fc68d20264",
            "54fcf20e04f240e2aac700db2c349e6d",
            "60275f4155294b7fbf635aea10542296",
            "2b5590a955d349edb7e0e703265f6dc1",
            "33b634fcf1db48869ae037382f50b805",
            "875f2a96cdd648ceacb679ab23801e10",
            "ea38dc0a2eec4b5a94ee3f78705aa793",
            "4b9d3b44547d4ca6b57e2fdaa007ed8f",
            "98492eb0b36a483cb6497513da4ccf5d",
            "2ac4aaa851cf4c959d925b4d0efe1d21",
            "f42c2aba1895490389e9e4e1a23fe3db",
            "e4ab7e420b684332b059fc0730b7a920",
            "a4c16c42c5cb41158a167617b017a812",
            "d8878dd3fc9b4f3ca3aa6473fc334ff1",
            "dee9683c0ecd451c8a46a0b6496cc8a3",
            "4b99e03f8bf44a9d9e5bec448d451f34",
            "07e338a814514c07b3041d607c85e1ac",
            "6a6853e04fc34af7ad63d4fa021fc022",
            "6bf1eb4ba54e4c1f8c0d2fa82e49b367",
            "5f83bf6d1a6f49b7aa6b38436ff575b9",
            "24034b84ba754acebd734de797c36dcf",
            "cbcaa13ea21d4b458cd32186aa7a0468",
            "ff616ec2d3d34eae86b9cd6acaa8cd73",
            "fc4fe68eef7541c9a164b210928d0f40",
            "ea652ed7848c4741b87ba773454d1587",
            "7e9bfddf31bf4ed59607535d1d3ab1f8",
            "f25b89b0f6cc48e48fd1f8a08774f309",
            "7a5bfb2f364b4d149573d04ed3af3b50",
            "3130b5e40cea4411b86b2325a3d0d270",
            "5c8372dfbda84e9daddbc007abf9d40d",
            "8597a9d24bdb4bc0ac8ff212163e35ed",
            "ffb27d3c9ece4555a897c819c8769de9",
            "bea38ccdd8104151aac6749e5a7a432f",
            "7c9fa8816088417e81ecedc80ac2d6b4"
          ]
        },
        "id": "G3XwACKoH1Na",
        "outputId": "a111f13b-7d85-478c-e79e-1e58498fd641"
      },
      "source": [
        "import re\n",
        "import torch\n",
        "import pandas as pd\n",
        "import numpy as np\n",
        "from tqdm import tqdm\n",
        "from torch import nn, optim\n",
        "import transformers\n",
        "\n",
        "path_tr = '/content/drive/MyDrive/CommonLit/input/train.csv'\n",
        "path_test = '/content/drive/MyDrive/CommonLit/input/test.csv'\n",
        "path_sub = '/content/drive/MyDrive/CommonLit/input/sample_submission.csv'\n",
        "\n",
        "SEED =13\n",
        "np.random.seed(SEED)\n",
        "torch.manual_seed(SEED)\n",
        "device = 'cuda' if torch.cuda.is_available() else 'cpu'\n",
        "\n",
        "tokenizer = transformers.AutoTokenizer.from_pretrained(\n",
        "    pretrained_model_name_or_path='roberta-base')\n",
        "model_config = transformers.AutoConfig.from_pretrained(\n",
        "    pretrained_model_name_or_path='roberta-base',\n",
        "    num_labels=1)\n",
        "model = transformers.AutoModel.from_pretrained(\n",
        "    pretrained_model_name_or_path='roberta-base',\n",
        "    config=model_config)"
      ],
      "execution_count": 2,
      "outputs": [
        {
          "output_type": "display_data",
          "data": {
            "application/vnd.jupyter.widget-view+json": {
              "model_id": "e91148c4480a4d29a78a32e5042c124b",
              "version_minor": 0,
              "version_major": 2
            },
            "text/plain": [
              "Downloading:   0%|          | 0.00/481 [00:00<?, ?B/s]"
            ]
          },
          "metadata": {}
        },
        {
          "output_type": "display_data",
          "data": {
            "application/vnd.jupyter.widget-view+json": {
              "model_id": "456e643e25fb4ee0adeb67b1831ac4bc",
              "version_minor": 0,
              "version_major": 2
            },
            "text/plain": [
              "Downloading:   0%|          | 0.00/899k [00:00<?, ?B/s]"
            ]
          },
          "metadata": {}
        },
        {
          "output_type": "display_data",
          "data": {
            "application/vnd.jupyter.widget-view+json": {
              "model_id": "54fcf20e04f240e2aac700db2c349e6d",
              "version_minor": 0,
              "version_major": 2
            },
            "text/plain": [
              "Downloading:   0%|          | 0.00/456k [00:00<?, ?B/s]"
            ]
          },
          "metadata": {}
        },
        {
          "output_type": "display_data",
          "data": {
            "application/vnd.jupyter.widget-view+json": {
              "model_id": "a4c16c42c5cb41158a167617b017a812",
              "version_minor": 0,
              "version_major": 2
            },
            "text/plain": [
              "Downloading:   0%|          | 0.00/1.36M [00:00<?, ?B/s]"
            ]
          },
          "metadata": {}
        },
        {
          "output_type": "display_data",
          "data": {
            "application/vnd.jupyter.widget-view+json": {
              "model_id": "fc4fe68eef7541c9a164b210928d0f40",
              "version_minor": 0,
              "version_major": 2
            },
            "text/plain": [
              "Downloading:   0%|          | 0.00/501M [00:00<?, ?B/s]"
            ]
          },
          "metadata": {}
        },
        {
          "output_type": "stream",
          "text": [
            "Some weights of the model checkpoint at roberta-base were not used when initializing RobertaModel: ['lm_head.layer_norm.weight', 'lm_head.bias', 'lm_head.dense.weight', 'lm_head.layer_norm.bias', 'lm_head.dense.bias', 'lm_head.decoder.weight']\n",
            "- This IS expected if you are initializing RobertaModel from the checkpoint of a model trained on another task or with another architecture (e.g. initializing a BertForSequenceClassification model from a BertForPreTraining model).\n",
            "- This IS NOT expected if you are initializing RobertaModel from the checkpoint of a model that you expect to be exactly identical (initializing a BertForSequenceClassification model from a BertForSequenceClassification model).\n"
          ],
          "name": "stderr"
        }
      ]
    },
    {
      "cell_type": "code",
      "metadata": {
        "id": "ixZxiKya04t2"
      },
      "source": [
        "df = pd.read_csv(path_tr)"
      ],
      "execution_count": 3,
      "outputs": []
    },
    {
      "cell_type": "code",
      "metadata": {
        "id": "J30G1kk67j8p"
      },
      "source": [
        "txt = df.excerpt[:6].values\n",
        "tkzr = tokenizer.batch_encode_plus(\n",
        "    list(txt), # batch_text_or_text_pairs has to be a list (got <class 'numpy.ndarray'>)\n",
        "    truncation=True,\n",
        "    max_length=256,\n",
        "    padding='max_length',\n",
        "    add_special_tokens=True,\n",
        "    return_attention_mask=True,\n",
        "    return_token_type_ids=False,\n",
        "    return_tensors='pt'\n",
        ")          "
      ],
      "execution_count": 4,
      "outputs": []
    },
    {
      "cell_type": "code",
      "metadata": {
        "id": "gzhc8o-T04qq",
        "colab": {
          "base_uri": "https://localhost:8080/"
        },
        "outputId": "32301ef3-e4b6-452f-fcd7-e6d1e51cfa16"
      },
      "source": [
        "out = model(**tkzr)\n",
        "out"
      ],
      "execution_count": 5,
      "outputs": [
        {
          "output_type": "execute_result",
          "data": {
            "text/plain": [
              "BaseModelOutputWithPoolingAndCrossAttentions([('last_hidden_state',\n",
              "                                               tensor([[[-0.0676,  0.0801,  0.0089,  ..., -0.0234, -0.0443, -0.0295],\n",
              "                                                        [-0.0136,  0.2424, -0.1040,  ..., -0.4047,  0.0952, -0.0992],\n",
              "                                                        [ 0.0357, -0.0299,  0.1018,  ..., -0.2944,  0.0626, -0.1154],\n",
              "                                                        ...,\n",
              "                                                        [ 0.0610, -0.0185,  0.1139,  ...,  0.2247,  0.1071,  0.0041],\n",
              "                                                        [ 0.0610, -0.0185,  0.1139,  ...,  0.2247,  0.1071,  0.0041],\n",
              "                                                        [ 0.0610, -0.0185,  0.1139,  ...,  0.2247,  0.1071,  0.0041]],\n",
              "                                               \n",
              "                                                       [[-0.0829,  0.1356,  0.0139,  ..., -0.0217, -0.0603, -0.0491],\n",
              "                                                        [ 0.1458, -0.1178,  0.0553,  ...,  0.0597,  0.2168,  0.1527],\n",
              "                                                        [ 0.1772,  0.1132,  0.1627,  ..., -0.3505,  0.0937,  0.0639],\n",
              "                                                        ...,\n",
              "                                                        [ 0.0302,  0.0683,  0.1068,  ...,  0.2405,  0.1002,  0.0403],\n",
              "                                                        [ 0.0302,  0.0683,  0.1068,  ...,  0.2405,  0.1002,  0.0403],\n",
              "                                                        [ 0.0302,  0.0683,  0.1068,  ...,  0.2405,  0.1002,  0.0403]],\n",
              "                                               \n",
              "                                                       [[-0.0928,  0.1262,  0.0197,  ..., -0.0684, -0.0534, -0.0382],\n",
              "                                                        [ 0.0978,  0.0350, -0.0059,  ..., -0.1911,  0.2294,  0.2469],\n",
              "                                                        [-0.0275, -0.0117, -0.0438,  ..., -0.2157, -0.1289,  0.1735],\n",
              "                                                        ...,\n",
              "                                                        [ 0.0134,  0.0812,  0.1047,  ...,  0.2447,  0.0543,  0.0536],\n",
              "                                                        [ 0.0134,  0.0812,  0.1047,  ...,  0.2447,  0.0543,  0.0536],\n",
              "                                                        [ 0.0134,  0.0812,  0.1047,  ...,  0.2447,  0.0543,  0.0536]],\n",
              "                                               \n",
              "                                                       [[-0.0676,  0.0707, -0.0168,  ..., -0.0564, -0.0366, -0.0277],\n",
              "                                                        [-0.0998,  0.0409,  0.1070,  ..., -0.2781, -0.0188, -0.0868],\n",
              "                                                        [-0.0019, -0.1495, -0.0734,  ..., -0.4214,  0.1566, -0.0066],\n",
              "                                                        ...,\n",
              "                                                        [ 0.0836, -0.0302,  0.0697,  ...,  0.1630,  0.1360, -0.0389],\n",
              "                                                        [ 0.0836, -0.0302,  0.0697,  ...,  0.1630,  0.1360, -0.0389],\n",
              "                                                        [ 0.0836, -0.0302,  0.0697,  ...,  0.1630,  0.1360, -0.0389]],\n",
              "                                               \n",
              "                                                       [[-0.0851,  0.0972, -0.0219,  ..., -0.0119, -0.0448, -0.0450],\n",
              "                                                        [-0.0640,  0.2848, -0.0854,  ...,  0.2070,  0.0708, -0.0217],\n",
              "                                                        [-0.2815,  0.3996, -0.0253,  ...,  0.5841,  0.3849,  0.0413],\n",
              "                                                        ...,\n",
              "                                                        [ 0.0447,  0.0879,  0.0876,  ...,  0.2843,  0.0782,  0.0254],\n",
              "                                                        [ 0.0447,  0.0879,  0.0876,  ...,  0.2843,  0.0782,  0.0254],\n",
              "                                                        [ 0.0447,  0.0879,  0.0876,  ...,  0.2843,  0.0782,  0.0254]],\n",
              "                                               \n",
              "                                                       [[-0.1009,  0.0526,  0.0307,  ..., -0.0689, -0.0650, -0.0025],\n",
              "                                                        [ 0.1391, -0.0375,  0.0376,  ...,  0.2217, -0.0506,  0.0949],\n",
              "                                                        [-0.0375,  0.0333,  0.0535,  ...,  0.0425,  0.0796, -0.0839],\n",
              "                                                        ...,\n",
              "                                                        [ 0.0580, -0.0541,  0.1173,  ...,  0.2462,  0.0887,  0.0702],\n",
              "                                                        [ 0.0580, -0.0541,  0.1173,  ...,  0.2462,  0.0887,  0.0702],\n",
              "                                                        [ 0.0580, -0.0541,  0.1173,  ...,  0.2462,  0.0887,  0.0702]]],\n",
              "                                                      grad_fn=<NativeLayerNormBackward>)),\n",
              "                                              ('pooler_output',\n",
              "                                               tensor([[-0.0017, -0.2003, -0.1843,  ..., -0.1703, -0.0526, -0.1203],\n",
              "                                                       [-0.0234, -0.1960, -0.1675,  ..., -0.1891, -0.0479, -0.1147],\n",
              "                                                       [-0.0197, -0.1805, -0.1665,  ..., -0.1728, -0.0569, -0.1119],\n",
              "                                                       [-0.0109, -0.2007, -0.1587,  ..., -0.1813, -0.0479, -0.1344],\n",
              "                                                       [ 0.0098, -0.2013, -0.1894,  ..., -0.1752, -0.0564, -0.1424],\n",
              "                                                       [-0.0084, -0.2019, -0.1740,  ..., -0.2107, -0.0207, -0.1183]],\n",
              "                                                      grad_fn=<TanhBackward>))])"
            ]
          },
          "metadata": {},
          "execution_count": 5
        }
      ]
    },
    {
      "cell_type": "markdown",
      "metadata": {
        "id": "w9pkETpua6nT"
      },
      "source": [
        "### pooler_output"
      ]
    },
    {
      "cell_type": "code",
      "metadata": {
        "colab": {
          "base_uri": "https://localhost:8080/"
        },
        "id": "t3qCLVcZvf0X",
        "outputId": "6cda2fb4-b790-482c-b809-043b03a096ec"
      },
      "source": [
        "out['pooler_output'].shape, out['last_hidden_state'].shape, nn.Linear(768, 1)(out['pooler_output']).shape"
      ],
      "execution_count": null,
      "outputs": [
        {
          "output_type": "execute_result",
          "data": {
            "text/plain": [
              "(torch.Size([6, 768]), torch.Size([6, 256, 768]), torch.Size([6, 1]))"
            ]
          },
          "metadata": {},
          "execution_count": 27
        }
      ]
    },
    {
      "cell_type": "code",
      "metadata": {
        "colab": {
          "base_uri": "https://localhost:8080/"
        },
        "id": "VP7pZfmDd1bP",
        "outputId": "9a9a9dfd-2e03-4076-f82c-d02837729b96"
      },
      "source": [
        "reg_head = nn.Linear(768, 1)(out['pooler_output'])\n",
        "reg_head"
      ],
      "execution_count": null,
      "outputs": [
        {
          "output_type": "execute_result",
          "data": {
            "text/plain": [
              "tensor([[0.0772],\n",
              "        [0.0678],\n",
              "        [0.0837],\n",
              "        [0.0888],\n",
              "        [0.0915],\n",
              "        [0.0879]], grad_fn=<AddmmBackward>)"
            ]
          },
          "metadata": {},
          "execution_count": 33
        }
      ]
    },
    {
      "cell_type": "markdown",
      "metadata": {
        "id": "1ClsPEVEbCCi"
      },
      "source": [
        "### last_hidden_state\n",
        "<img src = 'https://miro.medium.com/max/2120/1*p6PgpOV74U_qLrzr-1_4Zg.png'/>"
      ]
    },
    {
      "cell_type": "markdown",
      "metadata": {
        "id": "_qhX1kD4bYkl"
      },
      "source": [
        "#### CLS Embeddings\n",
        "\n",
        "Поскольку преобразователи представляют собой контекстную модель, идея состоит в том, что токен [CLS] захватил бы весь контекст и был бы достаточен для простых последующих задач, таких как классификация."
      ]
    },
    {
      "cell_type": "code",
      "metadata": {
        "colab": {
          "base_uri": "https://localhost:8080/"
        },
        "id": "JqFzExYwIdgG",
        "outputId": "1de07d9c-42f7-495e-c52c-4f9e50f3c315"
      },
      "source": [
        "out['last_hidden_state'][:, 0].shape"
      ],
      "execution_count": null,
      "outputs": [
        {
          "output_type": "execute_result",
          "data": {
            "text/plain": [
              "torch.Size([6, 768])"
            ]
          },
          "metadata": {},
          "execution_count": 34
        }
      ]
    },
    {
      "cell_type": "code",
      "metadata": {
        "colab": {
          "base_uri": "https://localhost:8080/"
        },
        "id": "80HG6X8zeD9f",
        "outputId": "0840c2f7-2fd6-4d95-d875-fd1ac46495e3"
      },
      "source": [
        "reg_head_clstoken_embeddings = nn.Linear(768, 1)(out['last_hidden_state'][:, 0])\n",
        "reg_head_clstoken_embeddings "
      ],
      "execution_count": null,
      "outputs": [
        {
          "output_type": "execute_result",
          "data": {
            "text/plain": [
              "tensor([[-0.3017],\n",
              "        [-0.3277],\n",
              "        [-0.2973],\n",
              "        [-0.3019],\n",
              "        [-0.3124],\n",
              "        [-0.3453]], grad_fn=<AddmmBackward>)"
            ]
          },
          "metadata": {},
          "execution_count": 35
        }
      ]
    },
    {
      "cell_type": "markdown",
      "metadata": {
        "id": "d7ie1U0DhJcu"
      },
      "source": [
        "#### Mean Pooling\n",
        "\n",
        "- Step 1: Expand Attention Mask from [batch_size, max_len] to [batch_size, max_len, hidden_size].\n",
        "- Step 2: Sum Embeddings along max_len axis so now we have [batch_size, hidden_size].\n",
        "- Step 3: Sum Mask along max_len axis. This is done so that we can ignore padding tokens.\n",
        "- Step 4: Take Average."
      ]
    },
    {
      "cell_type": "code",
      "metadata": {
        "colab": {
          "base_uri": "https://localhost:8080/"
        },
        "id": "0qUovztseTEy",
        "outputId": "18c107fe-dbe8-4623-92c2-d1435ea02e20"
      },
      "source": [
        "\"\"\"\n",
        "torch.Size([6, 256])\n",
        "unsqueeze\n",
        ">> torch.Size([6, 256, 1])\n",
        "expand we set size . expand(size) and expand for larger size\n",
        ".epand(6, 256, 768) and expand 768 if set -1 no change size\n",
        ".epand(-1, -1, 768) get  (6, 256, 768)\n",
        "\n",
        "nullify unnecessary(by mask where zeros)\n",
        "out['last_hidden_state'] * att_mask_exp\n",
        ".sum\n",
        ">> torch.Size([6, 768])\n",
        "next we get sum by len\n",
        ".clamp set values in range\n",
        "and find mean\n",
        ">> torch.Size([6, 768])\n",
        "\"\"\"\n",
        "att_mask_exp = tkzr['attention_mask'].unsqueeze(-1).expand(out['last_hidden_state'].size()).float()\n",
        "sum_embeddings = torch.sum(out['last_hidden_state'] * att_mask_exp, 1)\n",
        "sum_mask  = att_mask_exp.sum(1)\n",
        "sum_mask = torch.clamp(sum_mask, min=1e-9)\n",
        "mean_embeddings = sum_embeddings / sum_mask\n",
        "mean_embeddings.shape"
      ],
      "execution_count": null,
      "outputs": [
        {
          "output_type": "execute_result",
          "data": {
            "text/plain": [
              "torch.Size([6, 768])"
            ]
          },
          "metadata": {},
          "execution_count": 67
        }
      ]
    },
    {
      "cell_type": "code",
      "metadata": {
        "colab": {
          "base_uri": "https://localhost:8080/"
        },
        "id": "zg4beAX5lS26",
        "outputId": "e99e0f11-7b6a-44b7-e08a-4f65e7a2ac89"
      },
      "source": [
        "nn.Linear(768, 1)(mean_embeddings)"
      ],
      "execution_count": null,
      "outputs": [
        {
          "output_type": "execute_result",
          "data": {
            "text/plain": [
              "tensor([[-0.0307],\n",
              "        [-0.0165],\n",
              "        [ 0.0086],\n",
              "        [ 0.0197],\n",
              "        [ 0.0041],\n",
              "        [-0.0188]], grad_fn=<AddmmBackward>)"
            ]
          },
          "metadata": {},
          "execution_count": 66
        }
      ]
    },
    {
      "cell_type": "markdown",
      "metadata": {
        "id": "4r6u87-_5NPl"
      },
      "source": [
        "#### Max Pooling"
      ]
    },
    {
      "cell_type": "code",
      "metadata": {
        "colab": {
          "base_uri": "https://localhost:8080/"
        },
        "id": "tq52gsOH3SA3",
        "outputId": "6a777f28-0904-48a9-f6a7-892bf92cd7e4"
      },
      "source": [
        "att_mask_exp = tkzr['attention_mask'].unsqueeze(-1).expand(out['last_hidden_state'].size()).float()\n",
        "# Set padding tokens to large negative value\n",
        "out['last_hidden_state'][att_mask_exp == 0] = -1e9\n",
        "max_embeddings = torch.max(out['last_hidden_state'], 1)[0]\n",
        "nn.Linear(768, 1)(max_embeddings)"
      ],
      "execution_count": null,
      "outputs": [
        {
          "output_type": "execute_result",
          "data": {
            "text/plain": [
              "tensor([[-0.4185],\n",
              "        [-0.2180],\n",
              "        [-0.2681],\n",
              "        [-0.3354],\n",
              "        [-0.2616],\n",
              "        [-0.4914]], grad_fn=<AddmmBackward>)"
            ]
          },
          "metadata": {},
          "execution_count": 71
        }
      ]
    },
    {
      "cell_type": "markdown",
      "metadata": {
        "id": "KoHW18S4CcVF"
      },
      "source": [
        "#### Mean-Max Pooling (Head)\n",
        "<img src= 'https://media.springernature.com/original/springer-static/image/chp%3A10.1007%2F978-3-030-58323-1_23/MediaObjects/498432_1_En_23_Fig1_HTML.png'/>\n",
        "\n",
        "Сначала мы находим вложения среднего и максимального пула, а затем объединяем их, чтобы получить окончательное представление, которое вдвое превышает скрытый размер."
      ]
    },
    {
      "cell_type": "code",
      "metadata": {
        "colab": {
          "base_uri": "https://localhost:8080/"
        },
        "id": "sQ-54oF16UKB",
        "outputId": "f14a762b-63e7-4370-ea2f-6e2f76aeef38"
      },
      "source": [
        "# var1\n",
        "mean_embeddings = torch.mean(out['last_hidden_state'], 1)\n",
        "_, max_embeddings = torch.max(out['last_hidden_state'], 1)\n",
        "mean_max_embeddings = torch.cat((mean_embeddings, max_embeddings), 1)\n",
        "nn.Linear(768 * 2, 1)(mean_max_embeddings)"
      ],
      "execution_count": null,
      "outputs": [
        {
          "output_type": "execute_result",
          "data": {
            "text/plain": [
              "tensor([[  1.9549],\n",
              "        [ 58.3857],\n",
              "        [-20.5326],\n",
              "        [-12.3191],\n",
              "        [ -5.8741],\n",
              "        [ 55.0666]], grad_fn=<AddmmBackward>)"
            ]
          },
          "metadata": {},
          "execution_count": 80
        }
      ]
    },
    {
      "cell_type": "code",
      "metadata": {
        "colab": {
          "base_uri": "https://localhost:8080/"
        },
        "id": "14hJkVAPF4Se",
        "outputId": "3aef4ad5-ce80-49b8-f2f7-351e7c005db3"
      },
      "source": [
        "# var2\n",
        "mean_max_embeddings = torch.cat((max_embeddings, mean_embeddings), 1)\n",
        "nn.Linear(768 * 2, 1)(mean_max_embeddings)"
      ],
      "execution_count": null,
      "outputs": [
        {
          "output_type": "execute_result",
          "data": {
            "text/plain": [
              "tensor([[-0.2407],\n",
              "        [-0.3398],\n",
              "        [-0.3508],\n",
              "        [-0.3531],\n",
              "        [-0.2457],\n",
              "        [-0.3942]], grad_fn=<AddmmBackward>)"
            ]
          },
          "metadata": {},
          "execution_count": 74
        }
      ]
    },
    {
      "cell_type": "markdown",
      "metadata": {
        "id": "SYMr9RR1QsE8"
      },
      "source": [
        "#### Conv-1D Pooling\n",
        "\n",
        "Основная идея conv1d заключается в том, что он перемещается по токенам и находит наиболее важные токены, исследуя все 768 функций."
      ]
    },
    {
      "cell_type": "code",
      "metadata": {
        "id": "bwbQrWX6aDrd"
      },
      "source": [
        "import torch.nn.functional as F"
      ],
      "execution_count": null,
      "outputs": []
    },
    {
      "cell_type": "code",
      "metadata": {
        "id": "-rls8bUZVoQK"
      },
      "source": [
        "cnn1 = nn.Conv1d(768, 256, kernel_size=2, padding=1)\n",
        "cnn2 = nn.Conv1d(256, 1, kernel_size=2, padding=1)"
      ],
      "execution_count": null,
      "outputs": []
    },
    {
      "cell_type": "code",
      "metadata": {
        "colab": {
          "base_uri": "https://localhost:8080/"
        },
        "id": "4__qgM_nQtQ0",
        "outputId": "8922c92f-8c9a-490b-8bb7-e7e2d7097f01"
      },
      "source": [
        "\"\"\"\n",
        "change axies\n",
        ".permute, need to conv\n",
        "torch.Size([6, 768, 256])\n",
        "\n",
        "\"\"\"\n",
        "lhs_permute = out['last_hidden_state'].permute(0,2,1)\n",
        "cnn_embeddings = F.relu(cnn1(lhs_permute))\n",
        "cnn_embeddings = cnn2(cnn_embeddings)\n",
        "cnn_max_out, _ = torch.max(cnn_embeddings, 2)\n",
        "cnn_max_out"
      ],
      "execution_count": null,
      "outputs": [
        {
          "output_type": "execute_result",
          "data": {
            "text/plain": [
              "tensor([[0.3479],\n",
              "        [0.3319],\n",
              "        [0.3345],\n",
              "        [0.3880],\n",
              "        [0.4348],\n",
              "        [0.3671]], grad_fn=<MaxBackward0>)"
            ]
          },
          "metadata": {},
          "execution_count": 90
        }
      ]
    },
    {
      "cell_type": "markdown",
      "metadata": {
        "id": "0hw4LpQYbBTC"
      },
      "source": [
        "### hidden_states_output\n",
        "\n",
        "<img src = 'https://miro.medium.com/max/2870/1*8QtJYYJTHcAn0qQEmYsqbw.png'/>"
      ]
    },
    {
      "cell_type": "markdown",
      "metadata": {
        "id": "wPt1mivx_JSl"
      },
      "source": [
        "#### CLS Layer Embeddings"
      ]
    },
    {
      "cell_type": "code",
      "metadata": {
        "id": "gaUNQxWbfCgB",
        "colab": {
          "base_uri": "https://localhost:8080/"
        },
        "outputId": "ddd31530-cb8f-47d9-9a73-d89f85c62945"
      },
      "source": [
        "model_config = transformers.AutoConfig.from_pretrained(\n",
        "    pretrained_model_name_or_path='roberta-base',\n",
        "    num_labels=1)\n",
        "# add to get hidden_states\n",
        "model_config.update({'output_hidden_states':True})\n",
        "model = transformers.AutoModel.from_pretrained(\n",
        "    pretrained_model_name_or_path='roberta-base',\n",
        "    config=model_config)\n",
        "\n",
        "out = model(**tkzr)"
      ],
      "execution_count": 8,
      "outputs": [
        {
          "output_type": "stream",
          "text": [
            "Some weights of the model checkpoint at roberta-base were not used when initializing RobertaModel: ['lm_head.layer_norm.weight', 'lm_head.bias', 'lm_head.dense.weight', 'lm_head.layer_norm.bias', 'lm_head.dense.bias', 'lm_head.decoder.weight']\n",
            "- This IS expected if you are initializing RobertaModel from the checkpoint of a model trained on another task or with another architecture (e.g. initializing a BertForSequenceClassification model from a BertForPreTraining model).\n",
            "- This IS NOT expected if you are initializing RobertaModel from the checkpoint of a model that you expect to be exactly identical (initializing a BertForSequenceClassification model from a BertForSequenceClassification model).\n"
          ],
          "name": "stderr"
        }
      ]
    },
    {
      "cell_type": "code",
      "metadata": {
        "id": "WehxAdVucRQ8",
        "colab": {
          "base_uri": "https://localhost:8080/"
        },
        "outputId": "5656f866-60df-4eba-f5b0-213cc48b1ae2"
      },
      "source": [
        "\"\"\"\n",
        "count layer 13\n",
        "each  torch.Size([6, 256, 768])\n",
        "stack torch.Size([13, 6, 256, 768])\n",
        "layer_index+1 as we have 13 layers (embedding + num of blocks)\n",
        "torch.Size([6, 768])\n",
        "\"\"\"\n",
        "layer_index = 11\n",
        "hs_stack = torch.stack(out['hidden_states'])\n",
        "cls_embeddings = hs_stack[layer_index + 1, :, 0]\n",
        "nn.Linear(768, 1)(cls_embeddings)"
      ],
      "execution_count": 26,
      "outputs": [
        {
          "output_type": "execute_result",
          "data": {
            "text/plain": [
              "tensor([[0.2971],\n",
              "        [0.2911],\n",
              "        [0.3008],\n",
              "        [0.2942],\n",
              "        [0.3010],\n",
              "        [0.3276]], grad_fn=<AddmmBackward>)"
            ]
          },
          "metadata": {},
          "execution_count": 26
        }
      ]
    },
    {
      "cell_type": "markdown",
      "metadata": {
        "id": "pn41R4Le_NX4"
      },
      "source": [
        "#### Concatenate Pooling\n",
        "\n",
        "concatenation of Last 4 Layers"
      ]
    },
    {
      "cell_type": "code",
      "metadata": {
        "id": "T6prEDNAcRGV",
        "colab": {
          "base_uri": "https://localhost:8080/"
        },
        "outputId": "8d78d401-ead3-4989-d23a-9c7ad2cfb39d"
      },
      "source": [
        "\"\"\"\n",
        "last_4layers\n",
        ">>torch.Size([6, 256, 3072])\n",
        "last_4layers[:, 0]\n",
        ">> torch.Size([6, 3072])\n",
        "\"\"\"\n",
        "last_4layers = torch.cat((out['hidden_states'][-1],\n",
        "                          out['hidden_states'][-2],\n",
        "                          out['hidden_states'][-3],\n",
        "                          out['hidden_states'][-4]), -1)\n",
        "nn.Linear(768*4, 1)(last_4layers[:, 0])"
      ],
      "execution_count": 43,
      "outputs": [
        {
          "output_type": "execute_result",
          "data": {
            "text/plain": [
              "tensor([[-0.0861],\n",
              "        [-0.0752],\n",
              "        [-0.0811],\n",
              "        [-0.0927],\n",
              "        [-0.1044],\n",
              "        [-0.0930]], grad_fn=<AddmmBackward>)"
            ]
          },
          "metadata": {},
          "execution_count": 43
        }
      ]
    },
    {
      "cell_type": "markdown",
      "metadata": {
        "id": "R6OcWcl1Q8hB"
      },
      "source": [
        "#### Weighted Layer Pooling\n",
        "\n",
        "WeightedLayerPooling - вложения токенов - это взвешенное среднее их различных представлений скрытых слоев. Взвешенное объединение слоев работает лучше всего из всех техник объединения, независимо от конкретной задачи.\n",
        "\n",
        "У нас есть комбинированное окончательное представление последних четырех слоев. Теперь мы можем просто взять выходные данные токена cls, объединить их. Здесь также можно применить стандартную операцию объединения, реализованную в HuggingFace Transformer для BERT, RoBERTa и т. Д. Ниже мы просто берем выходные данные токена cls и передаем их с линейного слоя.\n",
        "\n",
        "\n",
        "nn.Parameter\n",
        "\n",
        "Параметры - это просто тензоры, ограниченные модулем, в котором они определены (в методе конструктора модуля __init__).\n",
        "Они появятся внутри module.parameters (). Это удобно, когда вы создаете свои собственные модули, которые обучаются благодаря этим параметрам градиентного спуска."
      ]
    },
    {
      "cell_type": "code",
      "metadata": {
        "id": "m8MMjgTKBTGG"
      },
      "source": [
        "class WeightedLayerPooling(nn.Module):\n",
        "    def __init__(self, num_hidden_layers, layer_start: int = 4, layer_weights = None):\n",
        "        super(WeightedLayerPooling, self).__init__()\n",
        "        self.layer_start = layer_start\n",
        "        self.num_hidden_layers = num_hidden_layers\n",
        "        self.layer_weights = layer_weights if layer_weights is not None \\\n",
        "            else nn.Parameter(\n",
        "                torch.tensor([1] * (num_hidden_layers+1 - layer_start), dtype=torch.float)\n",
        "            )\n",
        "\n",
        "    def forward(self, all_hidden_states):\n",
        "        all_layer_embedding = all_hidden_states[self.layer_start:, :, :, :]\n",
        "        weight_factor = self.layer_weights.unsqueeze(-1).unsqueeze(-1).unsqueeze(-1).expand(all_layer_embedding.size())\n",
        "        weighted_average = (weight_factor*all_layer_embedding).sum(dim=0) / self.layer_weights.sum()\n",
        "        return weighted_average"
      ],
      "execution_count": null,
      "outputs": []
    },
    {
      "cell_type": "code",
      "metadata": {
        "id": "YeCSWbhvcQ1D",
        "colab": {
          "base_uri": "https://localhost:8080/"
        },
        "outputId": "56f066ff-a8a0-4342-dee8-4e02c2e57cca"
      },
      "source": [
        "layer_start = 9\n",
        "layer_weights = None\n",
        "num_hidden_layers = model_config.num_hidden_layers # 12\n",
        "layer_weights = layer_weights if layer_weights is not None \\\n",
        "            else nn.Parameter(torch.tensor([1] * (num_hidden_layers+1 - layer_start), dtype=torch.float))\n",
        "\"\"\"\n",
        " nn.Parameter\n",
        " >> Parameter containing:\n",
        "    tensor([1., 1., 1., 1., 1., 1., 1., 1., 1.], requires_grad=True)\n",
        "\"\"\"\n",
        "hs_stack = torch.stack(out['hidden_states'])\n",
        "to_embessing = hs_stack[layer_start:, :, :, :]\n",
        "\"\"\"\n",
        "to_embessing\n",
        ">>\n",
        "torch.Size([4, 1, 1, 1])\n",
        "\"\"\"\n",
        "weight_factor = layer_weights.unsqueeze(-1).unsqueeze(-1).unsqueeze(-1).expand(to_embessing.size())\n",
        "\"\"\"\n",
        "fill\n",
        "torch.Size([4, 6, 256, 768])\n",
        "\"\"\"\n",
        "weighted_average = (weight_factor*i).sum(dim=0) / layer_weights.sum()\n",
        "weighted_out = weighted_average[:, 0]\n",
        "\"\"\"\n",
        "torch.Size([6, 256, 768])\n",
        "weighted_average[:, 0]\n",
        ">>torch.Size([6, 768])\n",
        "\"\"\"\n",
        "nn.Linear(768, 1)(weighted_out)"
      ],
      "execution_count": 71,
      "outputs": [
        {
          "output_type": "execute_result",
          "data": {
            "text/plain": [
              "tensor([[0.0760],\n",
              "        [0.0767],\n",
              "        [0.0748],\n",
              "        [0.0791],\n",
              "        [0.0828],\n",
              "        [0.0804]], grad_fn=<AddmmBackward>)"
            ]
          },
          "metadata": {},
          "execution_count": 71
        }
      ]
    },
    {
      "cell_type": "code",
      "metadata": {
        "id": "QnVdHHzLiIl2"
      },
      "source": [
        ""
      ],
      "execution_count": null,
      "outputs": []
    }
  ]
}